{
 "cells": [
  {
   "cell_type": "markdown",
   "metadata": {},
   "source": [
    "# Tenta 2020-06-05"
   ]
  },
  {
   "cell_type": "markdown",
   "metadata": {
    "deletable": false,
    "editable": false,
    "nbgrader": {
     "cell_type": "markdown",
     "checksum": "37d39f63ced685668d392643d5038cca",
     "grade": false,
     "grade_id": "cell-913171e944f0a1bb",
     "locked": true,
     "schema_version": 3,
     "solution": false,
     "task": false
    }
   },
   "source": [
    "## Part 1"
   ]
  },
  {
   "cell_type": "markdown",
   "metadata": {
    "deletable": false,
    "editable": false,
    "nbgrader": {
     "cell_type": "markdown",
     "checksum": "fa26c4a0908d79a7f45ca2e0a562c658",
     "grade": false,
     "grade_id": "cell-9df1353350176222",
     "locked": true,
     "schema_version": 3,
     "solution": false,
     "task": false
    }
   },
   "source": [
    "### 1. Word count\n",
    "\n",
    "Write a function that counts words in text and returns a dictionary which maps the word to the count number (int) of that word\n",
    "\n",
    "* It should convert words to lower case\n",
    "* Words should not have newlines\n",
    "* Words should not contain separation characters like \", . ? !\""
   ]
  },
  {
   "cell_type": "code",
   "execution_count": 1,
   "metadata": {
    "deletable": false,
    "nbgrader": {
     "cell_type": "code",
     "checksum": "6da183c365ae8e9cf7c6a20538333b84",
     "grade": false,
     "grade_id": "cell-86569f3e86491af5",
     "locked": false,
     "schema_version": 3,
     "solution": true,
     "task": false
    }
   },
   "outputs": [],
   "source": [
    "import collections\n",
    "\n",
    "def word_count(text):\n",
    "    \"\"\"\n",
    "    Calculates words in text, return type: dict\n",
    "    \n",
    "    >>> word_count('bye bye')\n",
    "    {'bye': 2}\n",
    "    >>> word_count('She loves me yeah yeah yeah')\n",
    "    {'she': 1, 'loves': 1, 'me': 1, 'yeah': 3}\n",
    "    \"\"\""
   ]
  },
  {
   "cell_type": "code",
   "execution_count": 2,
   "metadata": {},
   "outputs": [],
   "source": [
    "from solutions import word_count\n",
    "assert word_count('bye bye') == {'bye': 2}\n",
    "assert word_count('She loves me yeah yeah yeah') == {'she': 1, 'loves': 1, 'me': 1, 'yeah': 3}\n",
    "assert word_count('''\n",
    "A word,\n",
    "if you please!\n",
    "''') == {'a': 1, 'word': 1, 'if': 1, 'you': 1, 'please': 1}\n",
    "assert word_count(\"What?\") == {'what': 1}"
   ]
  },
  {
   "cell_type": "markdown",
   "metadata": {},
   "source": [
    "```{admonition} Solution\n",
    ":class: dropdown\n",
    "~~~\n",
    "def word_count(text):\n",
    "    \"\"\"\n",
    "    Calculates words in text, return type: dict\n",
    "    \n",
    "    >>> word_count('bye bye')\n",
    "    {'bye': 2}\n",
    "    >>> word_count('She loves me yeah yeah yeah')\n",
    "    {'she': 1, 'loves': 1, 'me': 1, 'yeah': 3}\n",
    "    \"\"\"\n",
    "    count = {}\n",
    "    text = text.lower()\n",
    "    for punctuation in ',.?!':\n",
    "        text = text.replace(punctuation, ' ')\n",
    "        \n",
    "    for word in text.split():\n",
    "        count[word] = count.get(word, 0) + 1\n",
    "    return count\n",
    "~~~\n",
    "```"
   ]
  },
  {
   "cell_type": "markdown",
   "metadata": {
    "deletable": false,
    "editable": false,
    "nbgrader": {
     "cell_type": "markdown",
     "checksum": "4995920e0d697be69e524e40814c506d",
     "grade": false,
     "grade_id": "cell-d9e2f7d3dc47e74f",
     "locked": true,
     "schema_version": 3,
     "solution": false,
     "task": false
    }
   },
   "source": [
    "### 2. Pirate language translator\n",
    " \n",
    "Double any consonant and put an o in between\n",
    "\n",
    "~~~\n",
    ">>> to_pirate('hello')\n",
    "hohelollolo\n",
    "~~~\n",
    "\n",
    "The output should preserve leading upper case of the characters in the beginning of the sentance. See the tests below"
   ]
  },
  {
   "cell_type": "code",
   "execution_count": 3,
   "metadata": {
    "deletable": false,
    "nbgrader": {
     "cell_type": "code",
     "checksum": "71c4bf41d6f6ece0170288746f5cfc61",
     "grade": false,
     "grade_id": "cell-b625edd3a750a4a0",
     "locked": false,
     "schema_version": 3,
     "solution": true,
     "task": false
    }
   },
   "outputs": [],
   "source": [
    "VOWELS = 'eiyaou'\n",
    "def to_pirate(text):\n",
    "    \"\"\"\n",
    "    Double consonants in text inserting an \"o\" between\n",
    "\n",
    "    >>> to_pirate(\"hello\")\n",
    "    hohelollolo\n",
    "    \"\"\"\n"
   ]
  },
  {
   "cell_type": "code",
   "execution_count": 4,
   "metadata": {},
   "outputs": [],
   "source": [
    "from solutions import to_pirate\n",
    "assert to_pirate('hello') == 'hohelollolo'\n",
    "assert to_pirate('Hello there') == 'Hohelollolo tothoherore'"
   ]
  },
  {
   "cell_type": "markdown",
   "metadata": {},
   "source": [
    "```{admonition} Solution\n",
    ":class: dropdown\n",
    "~~~\n",
    "VOWELS = 'eiyaou'\n",
    "def to_pirate(text):\n",
    "    pirate = \"\"\n",
    "    for char in text:\n",
    "        # do not duplicae vowels and spaces\n",
    "        if char not in VOWELS + \" \":\n",
    "            pirate += char + 'o' + char.lower()\n",
    "        else:\n",
    "            pirate += char\n",
    "    return pirate\n",
    "~~~\n",
    "```"
   ]
  },
  {
   "cell_type": "markdown",
   "metadata": {},
   "source": [
    "## Part 2\n",
    "\n",
    "### 1. Classes\n",
    "Define a class Circle that stores position in  the x-y plane and its radius"
   ]
  },
  {
   "cell_type": "code",
   "execution_count": 5,
   "metadata": {
    "deletable": false,
    "nbgrader": {
     "cell_type": "code",
     "checksum": "b86f42998834ebfbd1eac751080a1727",
     "grade": false,
     "grade_id": "cell-c9942f7528c934e8",
     "locked": false,
     "schema_version": 3,
     "solution": true,
     "task": false
    }
   },
   "outputs": [],
   "source": [
    "from pytest import approx\n",
    "from math import pi\n",
    "\n",
    "class Circle:\n",
    "    # YOUR CODE HERE\n",
    "    ..."
   ]
  },
  {
   "cell_type": "markdown",
   "metadata": {
    "deletable": false,
    "editable": false,
    "nbgrader": {
     "cell_type": "markdown",
     "checksum": "e9dadf80de91fdd843a85f1a9224c175",
     "grade": false,
     "grade_id": "cell-da5ee6b4bc15e9cb",
     "locked": true,
     "schema_version": 3,
     "solution": false,
     "task": false
    }
   },
   "source": [
    "Let the deault behaviour be a unit circle centered around origo"
   ]
  },
  {
   "cell_type": "code",
   "execution_count": 6,
   "metadata": {
    "deletable": false,
    "editable": true,
    "nbgrader": {
     "cell_type": "code",
     "checksum": "3059b7836a1d9bdba13a619200b29ad2",
     "grade": true,
     "grade_id": "cell-ff681a9497b11cfd",
     "locked": true,
     "points": 1,
     "schema_version": 3,
     "solution": false,
     "task": false
    }
   },
   "outputs": [],
   "source": [
    "from solutions import Circle\n",
    "circ = Circle()\n",
    "assert circ.x == approx(0.0)\n",
    "assert circ.y == approx(0.0)\n",
    "assert circ.r == approx(1.0)"
   ]
  },
  {
   "cell_type": "markdown",
   "metadata": {},
   "source": [
    "When we supply arguments to the class constructor the circle shape and position is saved"
   ]
  },
  {
   "cell_type": "code",
   "execution_count": 7,
   "metadata": {
    "deletable": false,
    "editable": false,
    "nbgrader": {
     "cell_type": "code",
     "checksum": "bb989a96ef1ee619ddc6cedc1619d38c",
     "grade": true,
     "grade_id": "cell-b162df80c36752d8",
     "locked": true,
     "points": 1,
     "schema_version": 3,
     "solution": false,
     "task": false
    }
   },
   "outputs": [],
   "source": [
    "circ = Circle(r=2)\n",
    "assert circ.x == approx(0.0)\n",
    "assert circ.y == approx(0.0)\n",
    "assert circ.r == approx(2.0)\n",
    "\n",
    "circ = Circle(x=1, y=1)\n",
    "assert circ.x == approx(1.0)\n",
    "assert circ.y == approx(1.0)\n",
    "assert circ.r == approx(1.0)"
   ]
  },
  {
   "cell_type": "markdown",
   "metadata": {
    "deletable": false,
    "editable": false,
    "nbgrader": {
     "cell_type": "markdown",
     "checksum": "87211c581918a120cbb26827fe303921",
     "grade": false,
     "grade_id": "cell-3139ce08440c3199",
     "locked": true,
     "schema_version": 3,
     "solution": false,
     "task": false
    }
   },
   "source": [
    "Add class methods for calculating the area and circumference"
   ]
  },
  {
   "cell_type": "code",
   "execution_count": 8,
   "metadata": {
    "deletable": false,
    "editable": false,
    "nbgrader": {
     "cell_type": "code",
     "checksum": "9dd5132df048fb3400b2349ae218f000",
     "grade": true,
     "grade_id": "cell-a4bf5c652a30a608",
     "locked": true,
     "points": 1,
     "schema_version": 3,
     "solution": false,
     "task": false
    }
   },
   "outputs": [],
   "source": [
    "assert Circle().area() == approx(pi)\n",
    "assert Circle().circumference() == approx(2*pi)"
   ]
  },
  {
   "cell_type": "markdown",
   "metadata": {},
   "source": [
    "Define an overloading method such that we can compare two Circle objects, being equal if they have same radius and center. Use any comparison between floats with the pytest approx function"
   ]
  },
  {
   "cell_type": "code",
   "execution_count": 9,
   "metadata": {
    "deletable": false,
    "editable": false,
    "nbgrader": {
     "cell_type": "code",
     "checksum": "10f9647baec5a69737a0dc05afcde966",
     "grade": true,
     "grade_id": "cell-f1f8d34fc5da1de6",
     "locked": true,
     "points": 1,
     "schema_version": 3,
     "solution": false,
     "task": false
    }
   },
   "outputs": [],
   "source": [
    "circ_a = Circle(x=1, y=2, r=3)\n",
    "circ_b = Circle(x=1, y=2, r=3)\n",
    "assert circ_a == circ_b"
   ]
  },
  {
   "cell_type": "markdown",
   "metadata": {},
   "source": [
    "```{admonition} Solution\n",
    ":class: dropdown\n",
    "~~~\n",
    "class Circle:\n",
    "    def __init__(self, x=0.0, y=0.0, r=1.0):\n",
    "        self.x = x\n",
    "        self.y = y\n",
    "        self.r = r\n",
    "        \n",
    "    def area(self):\n",
    "        \"\"\"\n",
    "        Calculates and returns the circle area\n",
    "        \"\"\"\n",
    "        return pi*self.r**2\n",
    "    \n",
    "    def circumference(self):\n",
    "        \"\"\"\n",
    "        Calculates and returns circle circumference\n",
    "        \"\"\"\n",
    "        return 2*pi*self.r\n",
    "\n",
    "    # This defines the behaviour the equal sign '=' between two Circle objects\n",
    "    def __eq__(self, other):\n",
    "        \"\"\"\n",
    "        Two circles are considered equal if they have the same radius and center\n",
    "        \"\"\"\n",
    "        return self.x == approx(other.x) and self.y == approx(other.y) and self.r == approx(other.r)\n",
    "~~~\n",
    "```"
   ]
  },
  {
   "cell_type": "markdown",
   "metadata": {
    "deletable": false,
    "editable": false,
    "nbgrader": {
     "cell_type": "markdown",
     "checksum": "e8070e8f321608525281957764dfa474",
     "grade": false,
     "grade_id": "cell-bb5fd2690b3718f8",
     "locked": true,
     "schema_version": 3,
     "solution": false,
     "task": false
    }
   },
   "source": [
    "## Part 3\n",
    "\n",
    "### 1. Decorator\n",
    "Consider a mathematical function of a variable $f(x)$. The derivative of the function is a measure of change, illustrated by the slope of a tangent line at a point on the curve\n",
    "\n",
    "For example given\n",
    "\n",
    "$$ f(x) = x^2 $$\n",
    "\n",
    "the derivative is\n",
    "\n",
    "$$ f'(x) = 2x $$\n",
    "\n",
    "which means that at e.g. $x_0=3$ a tangent to the curve has slope $f'(3) = 2*3=6$ and has the equation for a straight line\n",
    "\n",
    "$$ y = f(x_0) + f'(x_0)(x-x_0)$$"
   ]
  },
  {
   "cell_type": "code",
   "execution_count": 10,
   "metadata": {
    "deletable": false,
    "editable": false,
    "nbgrader": {
     "cell_type": "code",
     "checksum": "5d028a9b6952125fd4af5e21fb3a93f0",
     "grade": false,
     "grade_id": "cell-7b56588b42a14b94",
     "locked": true,
     "schema_version": 3,
     "solution": false,
     "task": false
    }
   },
   "outputs": [],
   "source": [
    "import math\n",
    "\n",
    "import matplotlib.pyplot as plt\n",
    "import numpy as np"
   ]
  },
  {
   "cell_type": "code",
   "execution_count": 11,
   "metadata": {
    "deletable": false,
    "editable": false,
    "nbgrader": {
     "cell_type": "code",
     "checksum": "27ef72a9b606c690e490fefd5a076654",
     "grade": false,
     "grade_id": "cell-18a989fbc820da23",
     "locked": true,
     "schema_version": 3,
     "solution": false,
     "task": false
    }
   },
   "outputs": [
    {
     "data": {
      "text/plain": [
       "[<matplotlib.lines.Line2D at 0x10fa2ffe0>]"
      ]
     },
     "execution_count": 11,
     "metadata": {},
     "output_type": "execute_result"
    },
    {
     "data": {
      "image/png": "[encoded data removed]",
      "text/plain": [
       "<Figure size 640x480 with 1 Axes>"
      ]
     },
     "metadata": {},
     "output_type": "display_data"
    }
   ],
   "source": [
    "def f(x):\n",
    "    return x**2\n",
    "\n",
    "def fp(x):\n",
    "    return 2*x\n",
    "\n",
    "x = np.arange(0, 5, .1)\n",
    "x0 = 3.0\n",
    "\n",
    "plt.plot(x, f(x))\n",
    "plt.plot(x, f(x0) + fp(x0)*(x-x0))"
   ]
  },
  {
   "cell_type": "markdown",
   "metadata": {
    "deletable": false,
    "editable": false,
    "nbgrader": {
     "cell_type": "markdown",
     "checksum": "a10688655aa3ea6191221c3b5187d91b",
     "grade": false,
     "grade_id": "cell-ebe8efd97e6aca81",
     "locked": true,
     "schema_version": 3,
     "solution": false,
     "task": false
    }
   },
   "source": [
    "Mathematically derivatives are understood as the ratio of differences in y and x values close to a given point and taking the limit where the point get closer\n",
    "\n",
    "$$ f'(x) \\approx \\frac{f(x + \\delta) - f(x-\\delta)}{2\\delta} $$\n",
    "\n",
    "For a small number $\\delta$ this can be used as an approximation to the derivate for a function"
   ]
  },
  {
   "cell_type": "code",
   "execution_count": 12,
   "metadata": {
    "deletable": false,
    "editable": true,
    "nbgrader": {
     "cell_type": "code",
     "checksum": "a5b6bf358c6f05a0eb8842b05f659ac1",
     "grade": false,
     "grade_id": "cell-07f504ea226ee6de",
     "locked": true,
     "schema_version": 3,
     "solution": false,
     "task": false
    }
   },
   "outputs": [
    {
     "data": {
      "text/plain": [
       "[<matplotlib.lines.Line2D at 0x10fb073b0>]"
      ]
     },
     "execution_count": 12,
     "metadata": {},
     "output_type": "execute_result"
    },
    {
     "data": {
      "image/png": "[encoded data removed]",
      "text/plain": [
       "<Figure size 640x480 with 1 Axes>"
      ]
     },
     "metadata": {},
     "output_type": "display_data"
    }
   ],
   "source": [
    "delta = 0.1\n",
    "\n",
    "plt.vlines(x0-delta, 0, f(x0-delta), linestyle='dashed')\n",
    "plt.vlines(x0+delta, 0, f(x0+delta), linestyle='dashed')\n",
    "plt.hlines(f(x0-delta), 0, x0-delta, linestyle='dashed')\n",
    "plt.hlines(f(x0+delta), 0, x0+delta, linestyle='dashed')\n",
    "\n",
    "plt.text(2.9, -1, r'$2\\delta$')\n",
    "plt.text(0, 10, r'$f(3 + \\delta)$')\n",
    "plt.text(0, 7, r'$f(3 -\\delta)$')\n",
    "\n",
    "\n",
    "plt.plot(x, f(x))\n",
    "#plt.plot(dx, f(dx))"
   ]
  },
  {
   "cell_type": "markdown",
   "metadata": {},
   "source": [
    "#### Task\n",
    "\n",
    "Write a decorator that implements the numerical approximattion to a derivative\n",
    "\n",
    "The decorator applied to a library function, e.g. math.sin should then return a function for which approximately\n",
    "\n",
    "    derivative(math.sin)(x) ≈ math.cos(x)\n",
    "\n",
    "for most values of $x$\n",
    "\n",
    "Likewise the decorator applied to a function definition with the @-syntax\n",
    "\n",
    "~~~\n",
    "@derivative\n",
    "def f(x):\n",
    "     return x**2\n",
    "~~~\n",
    "\n",
    "defines a function that satisfies\n",
    "\n",
    "    f(x) ≈ 2*x\n",
    "    \n",
    "for most values of $x$"
   ]
  },
  {
   "cell_type": "code",
   "execution_count": 13,
   "metadata": {
    "deletable": false,
    "nbgrader": {
     "cell_type": "code",
     "checksum": "19d72300b22a3531da4839498efca31b",
     "grade": false,
     "grade_id": "cell-42bff3a7cd29f897",
     "locked": false,
     "schema_version": 3,
     "solution": true,
     "task": false
    }
   },
   "outputs": [],
   "source": [
    "delta = 1e-8\n",
    "\n",
    "# YOUR CODE HERE"
   ]
  },
  {
   "cell_type": "code",
   "execution_count": 14,
   "metadata": {
    "deletable": false,
    "editable": true,
    "nbgrader": {
     "cell_type": "code",
     "checksum": "b1625f6dc9e287346e906b07b50aa4e0",
     "grade": true,
     "grade_id": "cell-656f185b00847d9c",
     "locked": true,
     "points": 1,
     "schema_version": 3,
     "solution": false,
     "task": false
    }
   },
   "outputs": [],
   "source": [
    "from solutions import derivative\n",
    "epsilon = 1e-6\n",
    "\n",
    "@derivative\n",
    "def f(x):\n",
    "    return x**2\n",
    "\n",
    "assert abs(f(3.0) - 6.0) < epsilon"
   ]
  },
  {
   "cell_type": "code",
   "execution_count": 15,
   "metadata": {
    "deletable": false,
    "editable": true,
    "nbgrader": {
     "cell_type": "code",
     "checksum": "d6929a82b2157dbf447917776c983863",
     "grade": true,
     "grade_id": "cell-656f185b00847d9d",
     "locked": true,
     "points": 1,
     "schema_version": 3,
     "solution": false,
     "task": false
    }
   },
   "outputs": [],
   "source": [
    "assert abs(derivative(math.sin)(.5) - math.cos(.5)) < epsilon"
   ]
  },
  {
   "cell_type": "markdown",
   "metadata": {},
   "source": [
    "```{admonition} Solution\n",
    ":class: dropdown\n",
    "~~~\n",
    "delta = 1e-8\n",
    "def derivative(f):\n",
    "    \n",
    "    def wrap(x):\n",
    "        return (f(x + delta) - f(x-delta))/(2*delta)\n",
    "  \n",
    "    return wrap\n",
    "~~~\n",
    "```"
   ]
  },
  {
   "cell_type": "markdown",
   "metadata": {},
   "source": [
    "### 2. Generator\n",
    "\n",
    "\n",
    "This is a filter that returns lines of a file that have a length greader than maximum\n",
    "\n",
    "If the content of a textfile `file.txt` is\n",
    "\n",
    "~~~\n",
    "hello \n",
    "you\n",
    "merry\n",
    "~~~\n",
    "\n",
    "We except a function `find_long_lines` to behave like this\n",
    "\n",
    "~~~\n",
    ">>> for line in find_long_lines('file.txt', 3):\n",
    "...    print(line)\n",
    "hello\n",
    "merry\n",
    "~~~\n",
    "\n",
    "Knowing that the return value of the function must be iterable to use in a for-loop. \n",
    "Implement this function as a generator.\n",
    "\n",
    "The max_length should be without the final newline character `\\n` of the line "
   ]
  },
  {
   "cell_type": "code",
   "execution_count": 16,
   "metadata": {
    "deletable": false,
    "nbgrader": {
     "cell_type": "code",
     "checksum": "573c3067b5208cbb7974ee4fe0dbec85",
     "grade": false,
     "grade_id": "cell-40e42ac0ba0a1d0e",
     "locked": false,
     "schema_version": 3,
     "solution": true,
     "task": false
    }
   },
   "outputs": [],
   "source": [
    "def find_long_lines(filename, max_length):\n",
    "    \"\"\"\n",
    "    generator that extracts lines in filename that\n",
    "    exceeds max_length\n",
    "    \"\"\""
   ]
  },
  {
   "cell_type": "code",
   "execution_count": 17,
   "metadata": {
    "deletable": false,
    "editable": false,
    "nbgrader": {
     "cell_type": "code",
     "checksum": "7017dc925d2a3b5a9ac755f5d7b1429d",
     "grade": false,
     "grade_id": "cell-1b1c75623d4fc3cf",
     "locked": true,
     "schema_version": 3,
     "solution": false,
     "task": false
    }
   },
   "outputs": [
    {
     "name": "stdout",
     "output_type": "stream",
     "text": [
      "Overwriting file.txt\n"
     ]
    }
   ],
   "source": [
    "%%file file.txt\n",
    "hello\n",
    "you\n",
    "merry"
   ]
  },
  {
   "cell_type": "code",
   "execution_count": 18,
   "metadata": {
    "deletable": false,
    "editable": true,
    "nbgrader": {
     "cell_type": "code",
     "checksum": "c625fd3701370ed9a08e53a828fdd141",
     "grade": true,
     "grade_id": "cell-f5b0233fb579e1ad",
     "locked": true,
     "points": 1,
     "schema_version": 3,
     "solution": false,
     "task": false
    }
   },
   "outputs": [],
   "source": [
    "from solutions import find_long_lines\n",
    "assert list(find_long_lines('file.txt', 3)) == ['hello', 'merry']"
   ]
  },
  {
   "cell_type": "markdown",
   "metadata": {},
   "source": [
    "```{admonition} Solution\n",
    ":class: dropdown\n",
    "~~~\n",
    "def find_long_lines(filename, max_length):\n",
    "    \"\"\"\n",
    "    generator that extracts lines in filename that\n",
    "    exceeds max_length\n",
    "    \"\"\"\n",
    "    for l in open(filename):\n",
    "        line = l.strip()\n",
    "        if len(line) >  max_length:\n",
    "            yield line%        \n",
    "~~~\n",
    "```"
   ]
  }
 ],
 "metadata": {
  "kernelspec": {
   "display_name": "Python 3 (ipykernel)",
   "language": "python",
   "name": "python3"
  },
  "language_info": {
   "codemirror_mode": {
    "name": "ipython",
    "version": 3
   },
   "file_extension": ".py",
   "mimetype": "text/x-python",
   "name": "python",
   "nbconvert_exporter": "python",
   "pygments_lexer": "ipython3",
   "version": "3.12.1"
  }
 },
 "nbformat": 4,
 "nbformat_minor": 4
}
