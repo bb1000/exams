{
 "cells": [
  {
   "cell_type": "markdown",
   "metadata": {},
   "source": [
    "# Tenta 2020-08-14"
   ]
  },
  {
   "cell_type": "markdown",
   "metadata": {
    "deletable": false,
    "editable": true,
    "nbgrader": {
     "cell_type": "markdown",
     "checksum": "b49d010ab9dff434996a4b9594da7c22",
     "grade": false,
     "grade_id": "cell-6e886801ca3c50ed",
     "locked": true,
     "schema_version": 3,
     "solution": false,
     "task": false
    }
   },
   "source": [
    "## Part 1"
   ]
  },
  {
   "cell_type": "markdown",
   "metadata": {
    "deletable": false,
    "editable": true,
    "nbgrader": {
     "cell_type": "markdown",
     "checksum": "3686a6eb8255d766e581a047a77d14ec",
     "grade": false,
     "grade_id": "cell-4d4e5a098b39e2a6",
     "locked": true,
     "schema_version": 3,
     "solution": false,
     "task": false
    }
   },
   "source": [
    "### 1 Reading email data\n",
    "\n",
    "Consider the file written below as staff.csv. It is a CSV-file (comma-separated values) with random personal data: \n",
    "\n",
    "    1,Conn,De Gregoli,cdegregoli0@epa.gov,\"Kunze, Crona and Bergnaum\"\n",
    "    2,Anette,Stutt,astutt1@oracle.com,Kuhlman LLC\n",
    "    3,Eberto,Herkess,eherkess2@google.com.au,Russel Inc\n",
    "    4,Montgomery,Dublin,mdublin3@dion.ne.jp,Gulgowski Group\n",
    "    5,Jenilee,Readwing,jreadwing4@craigslist.org,Hansen and Sons\n",
    "    6,Brit,Scattergood,bscattergood5@wiley.com,Greenholt and Sons\n",
    "    7,Abby,Minkin,aminkin6@purevolume.com,\"Krajcik, Reichert and MacGyver\"\n",
    "    8,Aleda,Bradburne,abradburne7@quantcast.com,\"Hintz, Lang and Koepp\"\n",
    "    9,Abramo,Shoemark,ashoemark8@yahoo.co.jp,\"O'Keefe, Morissette and Erdman\"\n",
    "    10,Inness,Gibbins,igibbins9@geocities.com,Bartell Inc\n",
    "\n",
    "Create a function `extract_emails` that takes a filename as input and returns a list of strings containing the email-addresses.\n"
   ]
  },
  {
   "cell_type": "code",
   "execution_count": 1,
   "metadata": {
    "deletable": false,
    "nbgrader": {
     "cell_type": "code",
     "checksum": "12fb85af83d58d85d9be3498a22a0734",
     "grade": false,
     "grade_id": "cell-ecf3707429c73ab6",
     "locked": false,
     "schema_version": 3,
     "solution": true,
     "task": false
    }
   },
   "outputs": [],
   "source": [
    "def extract_emails(filename):\n",
    "    # YOUR CODE HERE\n",
    "    ..."
   ]
  },
  {
   "cell_type": "markdown",
   "metadata": {
    "deletable": false,
    "editable": true,
    "nbgrader": {
     "cell_type": "markdown",
     "checksum": "eda970d292fd395a9e719b895085a304",
     "grade": false,
     "grade_id": "cell-9778c37054d4563e",
     "locked": true,
     "schema_version": 3,
     "solution": false,
     "task": false
    }
   },
   "source": [
    "We first verify the behaviour of a single-line file, then with the full staff file"
   ]
  },
  {
   "cell_type": "code",
   "execution_count": 2,
   "metadata": {
    "deletable": false,
    "editable": true,
    "nbgrader": {
     "cell_type": "code",
     "checksum": "014b357a4fdf26586b867540d51204bf",
     "grade": false,
     "grade_id": "cell-85eb50ba832a016e",
     "locked": true,
     "schema_version": 3,
     "solution": false,
     "task": false
    }
   },
   "outputs": [
    {
     "name": "stdout",
     "output_type": "stream",
     "text": [
      "Overwriting first.csv\n"
     ]
    }
   ],
   "source": [
    "%%file 'first.csv'\n",
    "1,Conn,De Gregoli,cdegregoli0@epa.gov,\"Kunze, Crona and Bergnaum\""
   ]
  },
  {
   "cell_type": "code",
   "execution_count": 3,
   "metadata": {},
   "outputs": [
    {
     "name": "stdout",
     "output_type": "stream",
     "text": [
      "Overwriting staff.csv\n"
     ]
    }
   ],
   "source": [
    "%%file 'staff.csv'\n",
    "1,Conn,De Gregoli,cdegregoli0@epa.gov,\"Kunze, Crona and Bergnaum\"\n",
    "2,Anette,Stutt,astutt1@oracle.com,Kuhlman LLC\n",
    "3,Eberto,Herkess,eherkess2@google.com.au,Russel Inc\n",
    "4,Montgomery,Dublin,mdublin3@dion.ne.jp,Gulgowski Group\n",
    "5,Jenilee,Readwing,jreadwing4@craigslist.org,Hansen and Sons\n",
    "6,Brit,Scattergood,bscattergood5@wiley.com,Greenholt and Sons\n",
    "7,Abby,Minkin,aminkin6@purevolume.com,\"Krajcik, Reichert and MacGyver\"\n",
    "8,Aleda,Bradburne,abradburne7@quantcast.com,\"Hintz, Lang and Koepp\"\n",
    "9,Abramo,Shoemark,ashoemark8@yahoo.co.jp,\"O'Keefe, Morissette and Erdman\"\n",
    "10,Inness,Gibbins,igibbins9@geocities.com,Bartell Inc"
   ]
  },
  {
   "cell_type": "code",
   "execution_count": 4,
   "metadata": {
    "deletable": false,
    "editable": true,
    "nbgrader": {
     "cell_type": "code",
     "checksum": "2f80cd1c0f1d95c2dfc3c45014ea191c",
     "grade": true,
     "grade_id": "cell-645281897a6430d7",
     "locked": true,
     "points": 1,
     "schema_version": 3,
     "solution": false,
     "task": false
    }
   },
   "outputs": [],
   "source": [
    "from solutions import extract_emails\n",
    "assert extract_emails('first.csv') == ['cdegregoli0@epa.gov']"
   ]
  },
  {
   "cell_type": "code",
   "execution_count": 5,
   "metadata": {
    "deletable": false,
    "editable": true,
    "nbgrader": {
     "cell_type": "code",
     "checksum": "2acf78e494314e99eaa423deaabc22be",
     "grade": true,
     "grade_id": "cell-d5342fbdaa2cf7b4",
     "locked": true,
     "points": 1,
     "schema_version": 3,
     "solution": false,
     "task": false
    }
   },
   "outputs": [],
   "source": [
    "assert extract_emails('staff.csv') == [\n",
    "    'cdegregoli0@epa.gov',\n",
    "     'astutt1@oracle.com',\n",
    "     'eherkess2@google.com.au',\n",
    "     'mdublin3@dion.ne.jp',\n",
    "     'jreadwing4@craigslist.org',\n",
    "     'bscattergood5@wiley.com',\n",
    "     'aminkin6@purevolume.com',\n",
    "     'abradburne7@quantcast.com',\n",
    "     'ashoemark8@yahoo.co.jp',\n",
    "     'igibbins9@geocities.com'\n",
    "]"
   ]
  },
  {
   "cell_type": "markdown",
   "metadata": {},
   "source": [
    "### 2 Pass emails to a mail program\n",
    "\n",
    "Reformat the output `extract_emails` to have email addresses as a string separated by a semicolon"
   ]
  },
  {
   "cell_type": "code",
   "execution_count": 6,
   "metadata": {
    "deletable": false,
    "nbgrader": {
     "cell_type": "code",
     "checksum": "53be7b29c9fdbc62783fa9336c0f7fb6",
     "grade": false,
     "grade_id": "cell-c07613855916b690",
     "locked": false,
     "schema_version": 3,
     "solution": true,
     "task": false
    }
   },
   "outputs": [],
   "source": [
    "def sendmail_format(filename):\n",
    "    # YOUR CODE HERE\n",
    "    ..."
   ]
  },
  {
   "cell_type": "code",
   "execution_count": 7,
   "metadata": {
    "deletable": false,
    "editable": true,
    "nbgrader": {
     "cell_type": "code",
     "checksum": "98b927d6892cb317c601e47572c1e33e",
     "grade": true,
     "grade_id": "cell-3e0b0f5f82a66ea6",
     "locked": true,
     "points": 1,
     "schema_version": 3,
     "solution": false,
     "task": false
    }
   },
   "outputs": [],
   "source": [
    "from solutions import sendmail_format\n",
    "assert sendmail_format('first.csv') == 'cdegregoli0@epa.gov'"
   ]
  },
  {
   "cell_type": "code",
   "execution_count": 8,
   "metadata": {
    "deletable": false,
    "editable": true,
    "nbgrader": {
     "cell_type": "code",
     "checksum": "1291a63259f8c9d9e5838eb503cd4432",
     "grade": true,
     "grade_id": "cell-1613a36a3e523031",
     "locked": true,
     "points": 1,
     "schema_version": 3,
     "solution": false,
     "task": false
    }
   },
   "outputs": [],
   "source": [
    "assert sendmail_format('staff.csv') == 'cdegregoli0@epa.gov; astutt1@oracle.com; eherkess2@google.com.au; mdublin3@dion.ne.jp; jreadwing4@craigslist.org; bscattergood5@wiley.com; aminkin6@purevolume.com; abradburne7@quantcast.com; ashoemark8@yahoo.co.jp; igibbins9@geocities.com'\n"
   ]
  },
  {
   "cell_type": "markdown",
   "metadata": {},
   "source": [
    "```{admonition} Solution\n",
    ":class: dropdown\n",
    "~~~\n",
    "def extract_emails(filename):                                                              \n",
    "    with open(filename)as f:                                                               \n",
    "        return [line.split(',')[3] for line in f]                                          \n",
    "~~~\n",
    "```"
   ]
  },
  {
   "cell_type": "markdown",
   "metadata": {
    "deletable": false,
    "editable": true,
    "nbgrader": {
     "cell_type": "markdown",
     "checksum": "f1442e1472511dae188151a188fae359",
     "grade": false,
     "grade_id": "cell-6d3a98e96e0836d4",
     "locked": true,
     "schema_version": 3,
     "solution": false,
     "task": false
    }
   },
   "source": [
    "## Part 2"
   ]
  },
  {
   "cell_type": "markdown",
   "metadata": {
    "deletable": false,
    "editable": true,
    "nbgrader": {
     "cell_type": "markdown",
     "checksum": "e7fb2cd89a29d4dfbdd72e1e402aee19",
     "grade": false,
     "grade_id": "cell-7260e4238f038384",
     "locked": true,
     "schema_version": 3,
     "solution": false,
     "task": false
    }
   },
   "source": [
    "### 1. An employee class\n",
    "A class initializer taker as input a line of the same format as in the staff file of part 1. Define instance attributes for the class such that the test cells are valid"
   ]
  },
  {
   "cell_type": "code",
   "execution_count": 9,
   "metadata": {
    "deletable": false,
    "nbgrader": {
     "cell_type": "code",
     "checksum": "4b968cc52717fbd6053ade84f906a361",
     "grade": false,
     "grade_id": "cell-5c2f8aaede02369a",
     "locked": false,
     "schema_version": 3,
     "solution": true,
     "task": false
    }
   },
   "outputs": [],
   "source": [
    "class Employee:\n",
    "    # YOUR CODE HERE\n",
    "    ..."
   ]
  },
  {
   "cell_type": "code",
   "execution_count": 10,
   "metadata": {
    "deletable": false,
    "editable": true,
    "nbgrader": {
     "cell_type": "code",
     "checksum": "79f3b89d0487c832350c69877f0a4656",
     "grade": true,
     "grade_id": "cell-d93247ba92e31997",
     "locked": true,
     "points": 1,
     "schema_version": 3,
     "solution": false,
     "task": false
    }
   },
   "outputs": [],
   "source": [
    "from solutions import Emp as Employee\n",
    "employee = Employee('1,Conn,De Gregoli,cdegregoli0@epa.gov,\"Kunze, Crona and Bergnaum\"')\n",
    "assert employee.first == 'Conn'"
   ]
  },
  {
   "cell_type": "code",
   "execution_count": 11,
   "metadata": {
    "deletable": false,
    "editable": true,
    "nbgrader": {
     "cell_type": "code",
     "checksum": "9ae4b193eef55a4893303155a481bb3f",
     "grade": true,
     "grade_id": "cell-5c2f8aaede02369b",
     "locked": true,
     "points": 1,
     "schema_version": 3,
     "solution": false,
     "task": false
    }
   },
   "outputs": [],
   "source": [
    "assert employee.last == 'De Gregoli'"
   ]
  },
  {
   "cell_type": "code",
   "execution_count": 12,
   "metadata": {
    "deletable": false,
    "editable": true,
    "nbgrader": {
     "cell_type": "code",
     "checksum": "8b56d028484ebab082e9d47e64e94793",
     "grade": true,
     "grade_id": "cell-7bce9cbd985f9902",
     "locked": true,
     "points": 1,
     "schema_version": 3,
     "solution": false,
     "task": false
    }
   },
   "outputs": [],
   "source": [
    "assert employee.email == 'cdegregoli0@epa.gov'"
   ]
  },
  {
   "cell_type": "markdown",
   "metadata": {},
   "source": [
    "```{admonition} Solution\n",
    ":class: dropdown\n",
    "~~~\n",
    "class Employee:                                                                            \n",
    "    def __init__(self, line):                                                              \n",
    "        self.first, self.last, self.email = line.split(',')[1:4]                           \n",
    "~~~\n",
    "```"
   ]
  },
  {
   "cell_type": "markdown",
   "metadata": {},
   "source": [
    "### 2. Text representation\n",
    "Mail programs accept mail receiver in the format \"first last <email>\". Update the Employee class with a function such that\n",
    "    \n",
    "    str(employee) == 'Conn De Gregoli <cdegregoli>'"
   ]
  },
  {
   "cell_type": "code",
   "execution_count": 13,
   "metadata": {
    "deletable": false,
    "editable": true,
    "nbgrader": {
     "cell_type": "code",
     "checksum": "0dfdb1d4188da48a061e83e6e0d9506a",
     "grade": true,
     "grade_id": "cell-acbef7ff1fc24536",
     "locked": true,
     "points": 1,
     "schema_version": 3,
     "solution": false,
     "task": false
    }
   },
   "outputs": [],
   "source": [
    "assert str(employee) == 'Conn De Gregoli <cdegregoli0@epa.gov>'"
   ]
  },
  {
   "cell_type": "markdown",
   "metadata": {},
   "source": [
    "```{admonition} Solution\n",
    ":class: dropdown\n",
    "~~~\n",
    "class Employee:                                                                            \n",
    "    ...\n",
    "    def __str__(self):                                                                     \n",
    "        return f'{self.first} {self.last} <{self.email}>'                                  \n",
    "~~~\n",
    "```"
   ]
  },
  {
   "cell_type": "markdown",
   "metadata": {
    "deletable": false,
    "editable": true,
    "nbgrader": {
     "cell_type": "markdown",
     "checksum": "d4acb29b90788cae90bee14e7e11d4e6",
     "grade": false,
     "grade_id": "cell-190d7275bdcfbdc7",
     "locked": true,
     "schema_version": 3,
     "solution": false,
     "task": false
    }
   },
   "source": [
    "## Part 3"
   ]
  },
  {
   "cell_type": "markdown",
   "metadata": {
    "deletable": false,
    "editable": true,
    "nbgrader": {
     "cell_type": "markdown",
     "checksum": "4ab08585aec9ca443b72b15e185c5af8",
     "grade": false,
     "grade_id": "cell-5296aeda4221de2c",
     "locked": true,
     "schema_version": 3,
     "solution": false,
     "task": false
    }
   },
   "source": [
    "### 1. Reusing Employee\n",
    "\n",
    "Reuse the class definition Employee of part 2 (copy-paste your previous solution) and the staff file"
   ]
  },
  {
   "cell_type": "code",
   "execution_count": 14,
   "metadata": {
    "deletable": false,
    "nbgrader": {
     "cell_type": "code",
     "checksum": "c73e669fb042313b0f474f014d6fbb8f",
     "grade": false,
     "grade_id": "cell-593e7065a23e9534",
     "locked": false,
     "schema_version": 3,
     "solution": true,
     "task": false
    }
   },
   "outputs": [],
   "source": [
    "# class Employee:\n",
    "    # YOUR CODE HERE"
   ]
  },
  {
   "cell_type": "code",
   "execution_count": 15,
   "metadata": {
    "deletable": false,
    "editable": true,
    "nbgrader": {
     "cell_type": "code",
     "checksum": "eae5c8a51c7eae5bda9304d3db2563f2",
     "grade": false,
     "grade_id": "cell-5aa7fd4499260805",
     "locked": true,
     "schema_version": 3,
     "solution": false,
     "task": false
    }
   },
   "outputs": [
    {
     "name": "stdout",
     "output_type": "stream",
     "text": [
      "Overwriting staff.csv\n"
     ]
    }
   ],
   "source": [
    "%%file 'staff.csv'\n",
    "1,Conn,De Gregoli,cdegregoli0@epa.gov,\"Kunze, Crona and Bergnaum\"\n",
    "2,Anette,Stutt,astutt1@oracle.com,Kuhlman LLC\n",
    "3,Eberto,Herkess,eherkess2@google.com.au,Russel Inc\n",
    "4,Montgomery,Dublin,mdublin3@dion.ne.jp,Gulgowski Group\n",
    "5,Jenilee,Readwing,jreadwing4@craigslist.org,Hansen and Sons\n",
    "6,Brit,Scattergood,bscattergood5@wiley.com,Greenholt and Sons\n",
    "7,Abby,Minkin,aminkin6@purevolume.com,\"Krajcik, Reichert and MacGyver\"\n",
    "8,Aleda,Bradburne,abradburne7@quantcast.com,\"Hintz, Lang and Koepp\"\n",
    "9,Abramo,Shoemark,ashoemark8@yahoo.co.jp,\"O'Keefe, Morissette and Erdman\"\n",
    "10,Inness,Gibbins,igibbins9@geocities.com,Bartell Inc"
   ]
  },
  {
   "cell_type": "markdown",
   "metadata": {},
   "source": [
    "Use the map function to generate a list of Employee objects"
   ]
  },
  {
   "cell_type": "code",
   "execution_count": 16,
   "metadata": {
    "deletable": false,
    "nbgrader": {
     "cell_type": "code",
     "checksum": "557c75052355517c2d985b9a6f73f893",
     "grade": false,
     "grade_id": "cell-7c78b621c8b6307c",
     "locked": false,
     "schema_version": 3,
     "solution": true,
     "task": false
    }
   },
   "outputs": [],
   "source": [
    "def read_list_of_employees(filename):\n",
    "    # YOUR CODE HERE\n",
    "    ..."
   ]
  },
  {
   "cell_type": "code",
   "execution_count": 17,
   "metadata": {
    "deletable": false,
    "editable": true,
    "nbgrader": {
     "cell_type": "code",
     "checksum": "7ad2990fa7f8094168129099efedf1f4",
     "grade": true,
     "grade_id": "cell-48920e1b30b4a01e",
     "locked": true,
     "points": 1,
     "schema_version": 3,
     "solution": false,
     "task": false
    }
   },
   "outputs": [],
   "source": [
    "## empty file\n",
    "from solutions import read_list_of_employees\n",
    "with open('empty.csv', 'w'):\n",
    "    pass\n",
    "\n",
    "assert read_list_of_employees('empty.csv') == []"
   ]
  },
  {
   "cell_type": "code",
   "execution_count": 18,
   "metadata": {
    "deletable": false,
    "editable": true,
    "nbgrader": {
     "cell_type": "code",
     "checksum": "c6e07114bd9408ca3fe1f211e1e84a03",
     "grade": true,
     "grade_id": "cell-2814fe462c032507",
     "locked": true,
     "points": 1,
     "schema_version": 3,
     "solution": false,
     "task": false
    }
   },
   "outputs": [],
   "source": [
    "assert read_list_of_employees('staff.csv')[0].first == 'Conn'\n",
    "assert read_list_of_employees('staff.csv')[1].first == 'Anette'"
   ]
  },
  {
   "cell_type": "markdown",
   "metadata": {},
   "source": [
    "```{admonition} Solution\n",
    ":class: dropdown\n",
    "~~~\n",
    "def read_list_of_employees(filename):\n",
    "    return list(map(Employee, open(filename)))\n",
    "~~~\n",
    "```"
   ]
  },
  {
   "cell_type": "markdown",
   "metadata": {},
   "source": [
    "### 2. filtered sendlist"
   ]
  },
  {
   "cell_type": "markdown",
   "metadata": {},
   "source": [
    "Use the filter function to extract the employees with a japanese email address and generate the sendlist. \n",
    "\n",
    "Hint: you need a function that returns True of False depending on the address ends with '.jp' or not"
   ]
  },
  {
   "cell_type": "code",
   "execution_count": 19,
   "metadata": {
    "deletable": false,
    "nbgrader": {
     "cell_type": "code",
     "checksum": "1789136a078be1aaaa9234e162b8ad82",
     "grade": false,
     "grade_id": "cell-cfe20e7052343436",
     "locked": false,
     "schema_version": 3,
     "solution": true,
     "task": false
    }
   },
   "outputs": [],
   "source": [
    "def japan_sendlist(filename):\n",
    "    employees = read_list_of_employees(filename)\n",
    "    # YOUR CODE HERE"
   ]
  },
  {
   "cell_type": "code",
   "execution_count": 20,
   "metadata": {
    "deletable": false,
    "editable": true,
    "nbgrader": {
     "cell_type": "code",
     "checksum": "052fb43c16cb2e468f8a8f019efc9329",
     "grade": true,
     "grade_id": "cell-33d73c54a77e858b",
     "locked": true,
     "points": 1,
     "schema_version": 3,
     "solution": false,
     "task": false
    }
   },
   "outputs": [],
   "source": [
    "from solutions import japan_sendlist\n",
    "assert japan_sendlist('empty.csv') == ''"
   ]
  },
  {
   "cell_type": "code",
   "execution_count": 21,
   "metadata": {
    "deletable": false,
    "editable": true,
    "nbgrader": {
     "cell_type": "code",
     "checksum": "d9f441fe885eca386cec821c9a130c0c",
     "grade": true,
     "grade_id": "cell-5db6565d8233d895",
     "locked": true,
     "points": 1,
     "schema_version": 3,
     "solution": false,
     "task": false
    }
   },
   "outputs": [],
   "source": [
    "assert japan_sendlist('staff.csv') == 'Montgomery Dublin <mdublin3@dion.ne.jp>; Abramo Shoemark <ashoemark8@yahoo.co.jp>'"
   ]
  },
  {
   "cell_type": "markdown",
   "metadata": {},
   "source": [
    "```{admonition} Solution\n",
    ":class: dropdown\n",
    "~~~\n",
    "def japan_sendlist(filename):\n",
    "    # Define a helper function for filtering japanese email addresses\n",
    "    def is_jap(employee):\n",
    "        return employee.email.endswith('.jp')\n",
    "        \n",
    "    filtered = filter(is_jap, employees)\n",
    "    return '; '.join(map(str, filtered))\n",
    "~~~\n",
    "```"
   ]
  }
 ],
 "metadata": {
  "kernelspec": {
   "display_name": "Python 3 (ipykernel)",
   "language": "python",
   "name": "python3"
  },
  "language_info": {
   "codemirror_mode": {
    "name": "ipython",
    "version": 3
   },
   "file_extension": ".py",
   "mimetype": "text/x-python",
   "name": "python",
   "nbconvert_exporter": "python",
   "pygments_lexer": "ipython3",
   "version": "3.12.1"
  }
 },
 "nbformat": 4,
 "nbformat_minor": 4
}
