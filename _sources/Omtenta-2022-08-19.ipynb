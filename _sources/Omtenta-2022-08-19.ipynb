{
 "cells": [
  {
   "cell_type": "markdown",
   "id": "d9f1e4bc",
   "metadata": {},
   "source": [
    "Before you turn this problem in, make sure everything runs as expected. First, **restart the kernel** (in the menubar, select Kernel$\\rightarrow$Restart) and then **run all cells** (in the menubar, select Cell$\\rightarrow$Run All).\n",
    "\n",
    "Make sure you fill in any place that says `YOUR CODE HERE` or \"YOUR ANSWER HERE\", as well as your name and collaborators below:"
   ]
  },
  {
   "cell_type": "code",
   "execution_count": null,
   "id": "5c2fb3e7",
   "metadata": {},
   "outputs": [],
   "source": [
    "NAME = \"\"\n",
    "PERSON_NUMBER = \"\""
   ]
  },
  {
   "cell_type": "markdown",
   "id": "f4f5af68",
   "metadata": {},
   "source": [
    "---"
   ]
  },
  {
   "cell_type": "markdown",
   "id": "344a8afd",
   "metadata": {},
   "source": [
    "## Tenta BB1000 2022-08-19\n",
    "\n",
    "### Grading\n",
    "\n",
    "There are three levels in order of increasing difficulty\n",
    "\n",
    "    Grade E for 75% at level 1\n",
    "    Grade D as E plus 25% at level 2\n",
    "    Grade C for 75% at levels 1 and 2\n",
    "    Grade B as C 25% at level 3\n",
    "    Grade A for 75% at all levels\n",
    "\n"
   ]
  },
  {
   "cell_type": "markdown",
   "id": "a5a0abeb",
   "metadata": {
    "deletable": false,
    "editable": false,
    "nbgrader": {
     "cell_type": "markdown",
     "checksum": "da3162af808a502e6a1e8e8e36f97069",
     "grade": false,
     "grade_id": "cell-00aa473ee9d2d3ea",
     "locked": true,
     "schema_version": 3,
     "solution": false,
     "task": false
    }
   },
   "source": [
    "### Part 1"
   ]
  },
  {
   "cell_type": "markdown",
   "id": "31b69b23",
   "metadata": {
    "deletable": false,
    "editable": false,
    "nbgrader": {
     "cell_type": "markdown",
     "checksum": "369b5c7373be7f7ba16ffbbcccab33a1",
     "grade": false,
     "grade_id": "cell-d8921dbcde63986b9",
     "locked": true,
     "schema_version": 3,
     "solution": false,
     "task": false
    }
   },
   "source": [
    "a) Define a `minmax` function that returns a tuple containing the smallest and largest number of a sequence such that\n",
    "\n",
    "    >>> minmax([1, 3, 2, 5])\n",
    "    (1, 5)"
   ]
  },
  {
   "cell_type": "code",
   "execution_count": null,
   "id": "c745826a",
   "metadata": {
    "deletable": false,
    "nbgrader": {
     "cell_type": "code",
     "checksum": "c6e48376de49438dca2c6267ad279d97",
     "grade": false,
     "grade_id": "cell-d8921dbcde639869",
     "locked": false,
     "schema_version": 3,
     "solution": true,
     "task": false
    }
   },
   "outputs": [],
   "source": [
    "# YOUR CODE HERE\n",
    "################"
   ]
  },
  {
   "cell_type": "code",
   "execution_count": null,
   "id": "188e88b5",
   "metadata": {
    "deletable": false,
    "editable": false,
    "nbgrader": {
     "cell_type": "code",
     "checksum": "6adbf7a7c7d26acb35669ff4ac145e5a",
     "grade": true,
     "grade_id": "cell-3bcdfa3488f30b99",
     "locked": true,
     "points": 1,
     "schema_version": 3,
     "solution": false,
     "task": false
    }
   },
   "outputs": [],
   "source": [
    "result = minmax([1, 3, 2, 5])\n",
    "expected = (1, 5)\n",
    "assert result == expected, f'\\nresult  : {result}\\nexpected: {expected}'\n",
    "\n",
    "result = minmax((9, 7, 6))\n",
    "expected = (6, 9)\n",
    "assert result == expected, f'\\nresult  : {result}\\nexpected: {expected}'\n"
   ]
  },
  {
   "cell_type": "markdown",
   "id": "9d373bbe",
   "metadata": {
    "deletable": false,
    "editable": false,
    "nbgrader": {
     "cell_type": "markdown",
     "checksum": "f8bb1ab01dc9800dfab55ce15c09e624",
     "grade": false,
     "grade_id": "cell-8c6a01acc7343d5a",
     "locked": true,
     "schema_version": 3,
     "solution": false,
     "task": false
    }
   },
   "source": [
    "b) Define an optional parameter `default` to be used in the return value if the sequence is empty. If the value is not given the min and max values are set to `None` in this case\n",
    "\n",
    "    >>> minmax([1, 2])\n",
    "    (1, 2)\n",
    "    >>> minmax([])\n",
    "    (None, None)\n",
    "    >>> minmax([], default=0)\n",
    "    (0, 0)"
   ]
  },
  {
   "cell_type": "code",
   "execution_count": null,
   "id": "b4132bbb",
   "metadata": {
    "deletable": false,
    "editable": false,
    "nbgrader": {
     "cell_type": "code",
     "checksum": "facd0e4691520c235faba54916c749e7",
     "grade": true,
     "grade_id": "cell-77a2d945f091a761",
     "locked": true,
     "points": 1,
     "schema_version": 3,
     "solution": false,
     "task": false
    }
   },
   "outputs": [],
   "source": [
    "result = minmax([])\n",
    "expected = (None, None)\n",
    "assert result == expected, f'\\nresult  : {result}\\nexpected: {expected}'\n",
    "\n",
    "result = minmax([], default=0)\n",
    "expected = (0, 0)\n",
    "assert result == expected, f'\\nresult  : {result}\\nexpected: {expected}'\n"
   ]
  },
  {
   "cell_type": "markdown",
   "id": "4eb6c704",
   "metadata": {
    "deletable": false,
    "editable": false,
    "nbgrader": {
     "cell_type": "markdown",
     "checksum": "83287997f02413913fc58f1f621c1465",
     "grade": false,
     "grade_id": "cell-72af64b9c72061d0",
     "locked": true,
     "schema_version": 3,
     "solution": false,
     "task": false
    }
   },
   "source": [
    "c) Make sure that the function hold for strings, reporting first and last words put in alphabetical order\n",
    "\n",
    "    >>> minmax(['world', 'is', 'weird', 'hello'])\n",
    "    ('hello', 'world')"
   ]
  },
  {
   "cell_type": "code",
   "execution_count": null,
   "id": "2e5945e4",
   "metadata": {
    "deletable": false,
    "editable": false,
    "nbgrader": {
     "cell_type": "code",
     "checksum": "41cb3b66dc11d67a2be572c7e837e65a",
     "grade": true,
     "grade_id": "cell-37939ec80886d32c",
     "locked": true,
     "points": 1,
     "schema_version": 3,
     "solution": false,
     "task": false
    }
   },
   "outputs": [],
   "source": [
    "result = minmax(['world', 'is', 'strange', 'hello'])\n",
    "expected = ('hello', 'world')\n",
    "\n",
    "assert result == expected, f'\\nresult  : {result}\\nexpected: {expected}'"
   ]
  },
  {
   "cell_type": "markdown",
   "id": "2b9f703d",
   "metadata": {
    "deletable": false,
    "editable": false,
    "nbgrader": {
     "cell_type": "markdown",
     "checksum": "27369b84f55797796564fa26a9d95e77",
     "grade": false,
     "grade_id": "cell-8952fb1b56d33fad",
     "locked": true,
     "schema_version": 3,
     "solution": false,
     "task": false
    }
   },
   "source": [
    "d) Define an optional keyword `key` for a callable that defines sorting order, e.g. when sorting by word length we may write\n",
    "\n",
    "    >>> minmax(['world', 'is', 'strange', 'hello'], key=len)\n",
    "    ('is', 'strange')\n",
    "    \n",
    "and let its default value be `None`"
   ]
  },
  {
   "cell_type": "code",
   "execution_count": null,
   "id": "7be471db",
   "metadata": {
    "deletable": false,
    "editable": false,
    "nbgrader": {
     "cell_type": "code",
     "checksum": "8d1ed65926f9f3b94210dcebc45e78c8",
     "grade": true,
     "grade_id": "cell-02c3f52b78b218ec",
     "locked": true,
     "points": 1,
     "schema_version": 3,
     "solution": false,
     "task": false
    }
   },
   "outputs": [],
   "source": [
    "result = minmax(['world', 'is', 'strange', 'hello'], key=len)\n",
    "expected = ('is', 'strange')\n",
    "\n",
    "assert result == expected, f'\\nresult  : {result}\\nexpected: {expected}'\n",
    "\n",
    "result = minmax(['World', 'is', 'strange', 'hello'], key=str.lower)\n",
    "expected = ('hello', 'World')\n",
    "\n",
    "assert result == expected, f'\\nresult  : {result}\\nexpected: {expected}'"
   ]
  },
  {
   "cell_type": "markdown",
   "id": "cfcc5a2a",
   "metadata": {},
   "source": [
    "### Part 2\n",
    "\n",
    "Build on the previous. This time we consider special functions for dictionaries but that call your `minmax` under the hood\n",
    "\n",
    "    >>> minmax_keys({'a': 3, 'b': 4, 'c': 5})\n",
    "    ('a', 'c')\n",
    "    >>> minmax_values{'a': 3, 'b': 4, 'c': 5})\n",
    "    (3, 5)\n",
    "    >>> keys_of_minmax_values{'a': 2, 'b': 1})\n",
    "    ('b', 'a')\n",
    "    >>> minmax_items({'b': 2, 'a': 1})\n",
    "    [('a', 1), ('b', 2)]\n",
    "\n"
   ]
  },
  {
   "cell_type": "markdown",
   "id": "ad2bfe0a",
   "metadata": {},
   "source": [
    "a) Let `minmax_keys` be a funtion that returns the min and max keys of a dictionary"
   ]
  },
  {
   "cell_type": "code",
   "execution_count": null,
   "id": "cc148156",
   "metadata": {
    "deletable": false,
    "nbgrader": {
     "cell_type": "code",
     "checksum": "94758703946fb545c186336f49afaa2f",
     "grade": false,
     "grade_id": "cell-0e953b20316873ee",
     "locked": false,
     "schema_version": 3,
     "solution": true,
     "task": false
    }
   },
   "outputs": [],
   "source": [
    "def minmax_keys(dct):\n",
    "    # YOUR CODE HERE\n",
    "    ################"
   ]
  },
  {
   "cell_type": "code",
   "execution_count": null,
   "id": "2a624604",
   "metadata": {
    "deletable": false,
    "editable": false,
    "nbgrader": {
     "cell_type": "code",
     "checksum": "df98fcbb96605e44373f29a3300791ea",
     "grade": true,
     "grade_id": "cell-cadac0ae5c3d0945",
     "locked": true,
     "points": 1,
     "schema_version": 3,
     "solution": false,
     "task": false
    }
   },
   "outputs": [],
   "source": [
    "assert minmax_keys(dict(a=1, b=2)) == ('a', 'b')\n",
    "assert minmax_keys({'a': 3, 'b': 4, 'c': 5}) == ('a', 'c')\n",
    "\n",
    "# this verifies that minmax was called by minmax_keys\n",
    "from unittest.mock import patch\n",
    "with patch('__main__.minmax', return_value=(None, None)) as mock_mm:\n",
    "    minmax_keys({'a': 1})\n",
    "    \n",
    "mock_mm.assert_called_with({'a': 1})"
   ]
  },
  {
   "cell_type": "markdown",
   "id": "21be929c",
   "metadata": {},
   "source": [
    "b) Let `minmax_values` be a function that returns the min and max values of a dictionary"
   ]
  },
  {
   "cell_type": "code",
   "execution_count": null,
   "id": "3fe16bf7",
   "metadata": {
    "deletable": false,
    "nbgrader": {
     "cell_type": "code",
     "checksum": "4707391510dc6b5b30a5864931bba69f",
     "grade": false,
     "grade_id": "cell-368fa25ee36fb54a",
     "locked": false,
     "schema_version": 3,
     "solution": true,
     "task": false
    }
   },
   "outputs": [],
   "source": [
    "def minmax_values(dct):\n",
    "    # YOUR CODE HERE\n",
    "    ################"
   ]
  },
  {
   "cell_type": "code",
   "execution_count": null,
   "id": "b3b8bd96",
   "metadata": {
    "deletable": false,
    "editable": false,
    "nbgrader": {
     "cell_type": "code",
     "checksum": "1c61f186952151bc895eaa2e3b2a54cf",
     "grade": true,
     "grade_id": "cell-ecd6cb4b9edd0928",
     "locked": true,
     "points": 1,
     "schema_version": 3,
     "solution": false,
     "task": false
    }
   },
   "outputs": [],
   "source": [
    "assert minmax_values(dict(a=1, b=2)) == (1, 2)\n",
    "assert minmax_values({'a': 3, 'b': 4, 'c': 5}) == (3, 5)\n",
    "\n",
    "# did you call minmax?\n",
    "\n",
    "with patch('__main__.minmax', return_value=(None, None)) as mock_mm:\n",
    "    minmax_values({})\n",
    "    \n",
    "mock_mm.assert_called()"
   ]
  },
  {
   "cell_type": "markdown",
   "id": "09abe2ad",
   "metadata": {},
   "source": [
    "c) Let `keys_of_minmax_values` be a function that returns the keys of the smallest and largest values in the dictionary. Hint: you will need to define a helper function to pass to `minmax`"
   ]
  },
  {
   "cell_type": "code",
   "execution_count": null,
   "id": "033fe886",
   "metadata": {
    "deletable": false,
    "nbgrader": {
     "cell_type": "code",
     "checksum": "2a37c823e61d8fb1018a3cdb40f10541",
     "grade": false,
     "grade_id": "cell-100fb43e7ece47e8",
     "locked": false,
     "schema_version": 3,
     "solution": true,
     "task": false
    }
   },
   "outputs": [],
   "source": [
    "def keys_of_minmax_values(dct):\n",
    "    # YOUR CODE HERE\n",
    "    ################\n"
   ]
  },
  {
   "cell_type": "code",
   "execution_count": null,
   "id": "9bd12f41",
   "metadata": {
    "deletable": false,
    "editable": false,
    "nbgrader": {
     "cell_type": "code",
     "checksum": "5dc7dc304c12df0013c3cc175280076b",
     "grade": true,
     "grade_id": "cell-456dbc3c0a012bed",
     "locked": true,
     "points": 1,
     "schema_version": 3,
     "solution": false,
     "task": false
    }
   },
   "outputs": [],
   "source": [
    "dct = {'a': 2, 'b': 1}\n",
    "assert minmax(dct) == ('a', 'b')\n",
    "assert minmax_values(dct) == (1, 2)\n",
    "assert keys_of_minmax_values(dct) == ('b', 'a')\n",
    "\n",
    "# did you call minmax?\n",
    "\n",
    "with patch('__main__.minmax', return_value=(None, None)) as mock_mm:\n",
    "    keys_of_minmax_values({})\n",
    "    \n",
    "mock_mm.assert_called()"
   ]
  },
  {
   "cell_type": "markdown",
   "id": "610d27b1",
   "metadata": {},
   "source": [
    "d) A `minmax_items` will return key-value pairs of a dictionary corresponding to the smallest and largest keys respectively"
   ]
  },
  {
   "cell_type": "code",
   "execution_count": null,
   "id": "1bec2522",
   "metadata": {
    "deletable": false,
    "nbgrader": {
     "cell_type": "code",
     "checksum": "f0a49edeaf0bd22b6c3e9504891e7d83",
     "grade": false,
     "grade_id": "cell-2583e60042563a75",
     "locked": false,
     "schema_version": 3,
     "solution": true,
     "task": false
    }
   },
   "outputs": [],
   "source": [
    "def minmax_items(dct):\n",
    "    # YOUR CODE HERE\n",
    "    ################\n"
   ]
  },
  {
   "cell_type": "code",
   "execution_count": null,
   "id": "2f17ccf2",
   "metadata": {
    "deletable": false,
    "editable": false,
    "nbgrader": {
     "cell_type": "code",
     "checksum": "48e3603c90976916faf29bc02390d7a9",
     "grade": true,
     "grade_id": "cell-387944423ac9aba7",
     "locked": true,
     "points": 1,
     "schema_version": 3,
     "solution": false,
     "task": false
    }
   },
   "outputs": [],
   "source": [
    "dct = {'b': 2, 'a': 1}\n",
    "assert minmax_items(dct) == (('a', 1), ('b', 2))\n",
    "\n",
    "# did you call minmax?\n",
    "\n",
    "with patch('__main__.minmax', return_value=(None, None)) as mock_mm:\n",
    "    minmax_items({})\n",
    "    \n",
    "mock_mm.assert_called()"
   ]
  },
  {
   "cell_type": "markdown",
   "id": "48a619d1",
   "metadata": {
    "deletable": false,
    "editable": false,
    "nbgrader": {
     "cell_type": "markdown",
     "checksum": "613e2926b44f5811cf7e5d59024c27c4",
     "grade": false,
     "grade_id": "cell-82c6aa2cb3c2bf9c",
     "locked": true,
     "schema_version": 3,
     "solution": false,
     "task": false
    }
   },
   "source": [
    "### Part 3"
   ]
  },
  {
   "cell_type": "markdown",
   "id": "1c64dabb",
   "metadata": {
    "deletable": false,
    "editable": false,
    "nbgrader": {
     "cell_type": "markdown",
     "checksum": "d6f22fed62dbc201e40321463fb2c478",
     "grade": false,
     "grade_id": "cell-d0b175bc19e71a56",
     "locked": true,
     "schema_version": 3,
     "solution": false,
     "task": false
    }
   },
   "source": [
    "Build on the previous example again. Consider the official documentation for [named tuples](https://docs.python.org/3/library/collections.html#collections.namedtuple)\n",
    "\n",
    "The following function `minmax2` calls the function in part 1, works the same way as before, but returns an object with min, and max attributes\n",
    "\n",
    "    >>> minmax2([1, 2, 3]).min\n",
    "    1\n",
    "    >>> minmax2([1, 2, 3]).max\n",
    "    2\n",
    "    \n",
    "a) A new function `minmax2` with same arguments satisfies the same tests but that is returning a named tuple (define it as `MinMax`)"
   ]
  },
  {
   "cell_type": "code",
   "execution_count": null,
   "id": "999fec1f",
   "metadata": {
    "deletable": false,
    "nbgrader": {
     "cell_type": "code",
     "checksum": "3df36f07e6ddbf4a46f4760c6906bf7a",
     "grade": false,
     "grade_id": "cell-fe5adbbd6d156f14",
     "locked": false,
     "schema_version": 3,
     "solution": true,
     "task": false
    }
   },
   "outputs": [],
   "source": [
    "# YOUR CODE HERE\n",
    "################"
   ]
  },
  {
   "cell_type": "code",
   "execution_count": null,
   "id": "53152291",
   "metadata": {
    "deletable": false,
    "editable": false,
    "nbgrader": {
     "cell_type": "code",
     "checksum": "9a61ce8167287fd61c7a33c6576cdc8f",
     "grade": true,
     "grade_id": "cell-760913208c76b573",
     "locked": true,
     "points": 1,
     "schema_version": 3,
     "solution": false,
     "task": false
    }
   },
   "outputs": [],
   "source": [
    "# repeat the previous test, \n",
    "result = minmax2(['world', 'is', 'strange', 'hello'], key=len)\n",
    "expected = ('is', 'strange')\n",
    "\n",
    "assert result == expected, f'\\nresult  : {result}\\nexpected: {expected}'\n",
    "\n",
    "# but note that the return value is not the ordinary tuple\n",
    "assert result.__class__.__name__ == 'MinMax'"
   ]
  },
  {
   "cell_type": "markdown",
   "id": "935fb487",
   "metadata": {},
   "source": [
    "b) The return value now has attributes `min` and `max`"
   ]
  },
  {
   "cell_type": "code",
   "execution_count": null,
   "id": "f0af3235",
   "metadata": {
    "deletable": false,
    "editable": false,
    "nbgrader": {
     "cell_type": "code",
     "checksum": "9600894da3680860cb193f20bb3f0fb1",
     "grade": true,
     "grade_id": "cell-aef9482444ec1821",
     "locked": true,
     "points": 1,
     "schema_version": 3,
     "solution": false,
     "task": false
    }
   },
   "outputs": [],
   "source": [
    "# the return value of the `minmax2` function is an object with attributes min and max\n",
    "\n",
    "result = minmax2(['world', 'is', 'strange', 'hello'], key=len)\n",
    "\n",
    "assert result.min == 'is'\n",
    "assert result.max == 'strange'\n",
    "\n"
   ]
  },
  {
   "cell_type": "markdown",
   "id": "06abe465",
   "metadata": {
    "deletable": false,
    "editable": false,
    "nbgrader": {
     "cell_type": "markdown",
     "checksum": "120169375fb12efa2daebea7ec0ff13b",
     "grade": false,
     "grade_id": "cell-6246c81c44050c03",
     "locked": true,
     "schema_version": 3,
     "solution": false,
     "task": false
    }
   },
   "source": [
    "c) Was the original function called? "
   ]
  },
  {
   "cell_type": "code",
   "execution_count": null,
   "id": "296b6eb4",
   "metadata": {
    "deletable": false,
    "editable": false,
    "nbgrader": {
     "cell_type": "code",
     "checksum": "5d3448a7f39b91e835c1b1e1e0ed9ff2",
     "grade": true,
     "grade_id": "cell-7591cc9cb3b5f76b",
     "locked": true,
     "points": 1,
     "schema_version": 3,
     "solution": false,
     "task": false
    }
   },
   "outputs": [],
   "source": [
    "# This test verifies that the original function minmax was called\n",
    "\n",
    "from unittest.mock import patch\n",
    "with patch('__main__.minmax', return_value=(None, None)) as mock_mm:\n",
    "    minmax2([])\n",
    "    \n",
    "mock_mm.assert_called_with([], default=None, key=None)"
   ]
  },
  {
   "cell_type": "markdown",
   "id": "7cede6d3",
   "metadata": {
    "deletable": false,
    "editable": false,
    "nbgrader": {
     "cell_type": "markdown",
     "checksum": "6d40280ef3d14ba065aa96bb4d79eda1",
     "grade": false,
     "grade_id": "cell-72034b0005e4210c",
     "locked": true,
     "schema_version": 3,
     "solution": false,
     "task": false
    }
   },
   "source": [
    "d) let minmax2 take any number of positional arguments. If there is one argument it is assumed to be an iterable. If there is more than one arguments, the items are compared to each other"
   ]
  },
  {
   "cell_type": "code",
   "execution_count": null,
   "id": "cbec6c2a",
   "metadata": {
    "deletable": false,
    "editable": false,
    "nbgrader": {
     "cell_type": "code",
     "checksum": "d730e9f3c32af91890633d0d7e0e27be",
     "grade": true,
     "grade_id": "cell-0a4275a5867cc18b",
     "locked": true,
     "points": 1,
     "schema_version": 3,
     "solution": false,
     "task": false
    }
   },
   "outputs": [],
   "source": [
    "assert minmax2([1, 2, 3]) == (1, 3)\n",
    "assert minmax2(1, 2, 3) == (1, 3)\n",
    "\n",
    "assert minmax2(range(5)) == (0, 4)\n",
    "assert minmax2(*range(5)) == (0, 4)"
   ]
  }
 ],
 "metadata": {
  "kernelspec": {
   "display_name": "Python 3 (ipykernel)",
   "language": "python",
   "name": "python3"
  },
  "language_info": {
   "codemirror_mode": {
    "name": "ipython",
    "version": 3
   },
   "file_extension": ".py",
   "mimetype": "text/x-python",
   "name": "python",
   "nbconvert_exporter": "python",
   "pygments_lexer": "ipython3",
   "version": "3.9.0"
  }
 },
 "nbformat": 4,
 "nbformat_minor": 5
}
