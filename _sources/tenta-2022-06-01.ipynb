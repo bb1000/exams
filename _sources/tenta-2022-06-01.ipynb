{
 "cells": [
  {
   "cell_type": "markdown",
   "id": "aa24cf26",
   "metadata": {},
   "source": [
    "Before you turn this problem in, make sure everything runs as expected. First, **restart the kernel** (in the menubar, select Kernel$\\rightarrow$Restart) and then **run all cells** (in the menubar, select Cell$\\rightarrow$Run All).\n",
    "\n",
    "Make sure you fill in any place that says `YOUR CODE HERE` or \"YOUR ANSWER HERE\", as well as your name and collaborators below:"
   ]
  },
  {
   "cell_type": "code",
   "execution_count": null,
   "id": "f2625064",
   "metadata": {},
   "outputs": [],
   "source": [
    "NAME = \"\"\n",
    "PERSON_NUMBER = \"\""
   ]
  },
  {
   "cell_type": "markdown",
   "id": "d91beb3a",
   "metadata": {},
   "source": [
    "---"
   ]
  },
  {
   "cell_type": "markdown",
   "id": "b60e7179",
   "metadata": {},
   "source": [
    "# Tenta BB1000 2022-06-01\n",
    "\n",
    "## Grading\n",
    "\n",
    "There are three levels in order of increasing difficulty\n",
    "\n",
    "    Grade E for 75% at level 1\n",
    "    Grade D as E plus 25% at level 2\n",
    "    Grade C for 75% at levels 1 and 2\n",
    "    Grade B as C 25% at level 3\n",
    "    Grade A for 75% at all levels\n",
    "\n",
    "For the exam you should be able to import the following external libraries: requests\n"
   ]
  },
  {
   "cell_type": "markdown",
   "id": "80305a74",
   "metadata": {
    "deletable": false,
    "editable": false,
    "nbgrader": {
     "cell_type": "markdown",
     "checksum": "5de891a679ce0b58f4e47ae5d740e8a4",
     "grade": false,
     "grade_id": "cell-ed8d52b474b1e457",
     "locked": true,
     "schema_version": 3,
     "solution": false,
     "task": false
    }
   },
   "source": [
    "## Part 1\n",
    "\n",
    "**1**. There is a command-line interface to the Google calendar that allows you to view and add events. If you have it installed (NOT REQUIRED FOR THIS ASSIGNMENT) help for adding events can be read with\n",
    "\n",
    "    $ gcalcli add -h\n",
    "    usage: gcalcli add [-h] [--details {calendar,location,length,reminders,description,url,attendees,email,attachments,end,all}] [--reminder REMINDERS] [--default-reminders] [--color EVENT_COLOR]\n",
    "                       [--title TITLE] [--who WHO] [--where WHERE] [--when WHEN] [--duration DURATION] [--description DESCRIPTION] [--allday] [--noprompt]\n",
    "\n",
    "Suppose you would like to add things to your calendar from the command line but you find that the interface is too inconvenient. You decide to generate the command from Python where some options have reasonable defaults. You decide to setup the  command-line options from a Python dictionary, such that e.g.\n",
    "\n",
    "    {\"when\": \"now\"}\n",
    "    \n",
    "makes a contribution to the command with\n",
    "\n",
    "    '--when \"now\"'\n",
    "\n",
    "\n",
    "You find that it makes most sense to always have the dictionary values in quotation marks to allow for e.g. multi-word titles with spaces. \n",
    "\n",
    "Write a `generate_command` function which accepts  keyword arguments into a dictionary. As a first testcase\n",
    "verify that\n",
    "\n",
    "~~~\n",
    ">>> generate_command(title='exam', when='8:00')\n",
    "'gcalcli add --title \"exam\" --when \"8:00\"'\n",
    "~~~\n",
    "\n",
    "How do you continue with the implementation?"
   ]
  },
  {
   "cell_type": "code",
   "execution_count": null,
   "id": "c5f833da",
   "metadata": {
    "deletable": false,
    "nbgrader": {
     "cell_type": "code",
     "checksum": "c06ee8c19e9da07686ab3713b9b1f93d",
     "grade": false,
     "grade_id": "cell-09994c5a863df0e2",
     "locked": false,
     "schema_version": 3,
     "solution": true,
     "task": false
    }
   },
   "outputs": [],
   "source": [
    "def generate_command(**keywords):\n",
    "    \"\"\"\n",
    "    Generate bash command\n",
    "    \n",
    "    >>> generate_cmd(when=\"12:00\", what=\"do this\")\n",
    "    gcalcli add --when \"12:00\" --what \"do this\"\n",
    "    \"\"\"\n",
    "    # YOUR CODE HERE\n",
    "    ################\n",
    "    \n",
    "\n",
    "# Example\n",
    "generate_command(title='exam', when='8:00')"
   ]
  },
  {
   "cell_type": "code",
   "execution_count": null,
   "id": "1f20bb9e",
   "metadata": {
    "deletable": false,
    "editable": false,
    "nbgrader": {
     "cell_type": "code",
     "checksum": "edb8d6662ac8f03acc7656c3765797d5",
     "grade": true,
     "grade_id": "cell-bf4c38be3cee98ee",
     "locked": true,
     "points": 1,
     "schema_version": 3,
     "solution": false,
     "task": false
    }
   },
   "outputs": [],
   "source": [
    "cmd = generate_command(title='exam', when='8:00') \n",
    "expected = 'gcalcli add --title \"exam\" --when \"8:00\"'\n",
    "assert cmd == expected, f'\\nActual:   {cmd}\\nExpected: {expected}'"
   ]
  },
  {
   "cell_type": "markdown",
   "id": "ee0f5992",
   "metadata": {
    "deletable": false,
    "editable": false,
    "nbgrader": {
     "cell_type": "markdown",
     "checksum": "a46e6c9bf8380675ddbf495783d6882e",
     "grade": false,
     "grade_id": "cell-d811e55533a6511e",
     "locked": true,
     "schema_version": 3,
     "solution": false,
     "task": false
    }
   },
   "source": [
    "**2**. When the calendar event does not explicitly include time the command line should contain the '--allday' flag as well. Assume that this holds whenever the colon character `\":\"` is not part of the `when=` keyword argument\n",
    "\n",
    "~~~\n",
    ">>> generate_command(title='study more', when='tomorrow')\n",
    "'gcalcli add --title \"study more\" --when \"tomorrow\" --allday'\n",
    "~~~"
   ]
  },
  {
   "cell_type": "code",
   "execution_count": null,
   "id": "c686695e",
   "metadata": {
    "deletable": false,
    "editable": false,
    "nbgrader": {
     "cell_type": "code",
     "checksum": "4ac6f473f0c2cc2b6a6d3fb0c9118c39",
     "grade": true,
     "grade_id": "cell-cc36ecc57ca42fd1",
     "locked": true,
     "points": 1,
     "schema_version": 3,
     "solution": false,
     "task": false
    }
   },
   "outputs": [],
   "source": [
    "cmd = generate_command(title='study more', when='tomorrow') \n",
    "expected = 'gcalcli add --title \"study more\" --when \"tomorrow\" --allday'\n",
    "assert cmd == expected, f'\\nActual:   {cmd}\\nExpected: {expected}'"
   ]
  },
  {
   "cell_type": "markdown",
   "id": "169d24af",
   "metadata": {},
   "source": [
    "**3**.\n",
    "Some of the keywords can be predifined in a configuration file. Set a default calendar with the json file"
   ]
  },
  {
   "cell_type": "code",
   "execution_count": null,
   "id": "667c8663",
   "metadata": {
    "deletable": false,
    "editable": false,
    "nbgrader": {
     "cell_type": "code",
     "checksum": "cddb3dfe7d6fdfe6657604cece7862a2",
     "grade": false,
     "grade_id": "cell-0fdac032506a1f40",
     "locked": true,
     "schema_version": 3,
     "solution": false,
     "task": false
    }
   },
   "outputs": [],
   "source": [
    "%%file config.json\n",
    "{\n",
    "    \"calendar\":\"user@gmail.com\"\n",
    "}"
   ]
  },
  {
   "cell_type": "markdown",
   "id": "52eac2a3",
   "metadata": {},
   "source": [
    " and read it into a Python dictionary `config` such that\n",
    " \n",
    "     >>> get_config('config.json')\n",
    "     {'calendar': 'user@gmail.com'}"
   ]
  },
  {
   "cell_type": "code",
   "execution_count": null,
   "id": "5a341bff",
   "metadata": {
    "deletable": false,
    "nbgrader": {
     "cell_type": "code",
     "checksum": "becc8841214acc39455ba9a0f997a981",
     "grade": false,
     "grade_id": "cell-13cb5f8b86ce5e89",
     "locked": false,
     "schema_version": 3,
     "solution": true,
     "task": false
    }
   },
   "outputs": [],
   "source": [
    "import json\n",
    "def get_config():\n",
    "    # YOUR CODE HERE\n",
    "    ################\n",
    "    \n",
    "get_config()"
   ]
  },
  {
   "cell_type": "markdown",
   "id": "718eca2b",
   "metadata": {
    "deletable": false,
    "editable": false,
    "nbgrader": {
     "cell_type": "markdown",
     "checksum": "442f3da8a981593622147844a83ca084",
     "grade": false,
     "grade_id": "cell-5c1f1a3f62ac8e56",
     "locked": true,
     "schema_version": 3,
     "solution": false,
     "task": false
    }
   },
   "source": [
    "Verify now that the following holds\n",
    "\n",
    "    >>> get_command(**get_config())\n",
    "    'gcalcli add --calendar \"user@gmail.com\"'\n",
    "    "
   ]
  },
  {
   "cell_type": "code",
   "execution_count": null,
   "id": "54058f2a",
   "metadata": {
    "deletable": false,
    "editable": false,
    "nbgrader": {
     "cell_type": "code",
     "checksum": "cfcf94106f127585a0ac7b5e01f83088",
     "grade": true,
     "grade_id": "cell-473a850678f55468",
     "locked": true,
     "points": 1,
     "schema_version": 3,
     "solution": false,
     "task": false
    }
   },
   "outputs": [],
   "source": [
    "cmd = generate_command(**get_config())\n",
    "expected = 'gcalcli add --calendar \"user@gmail.com\"'\n",
    "assert cmd == expected, f'\\nActual:   {cmd}\\nExpected: {expected}'"
   ]
  },
  {
   "cell_type": "markdown",
   "id": "4d35f2bf",
   "metadata": {
    "deletable": false,
    "editable": false,
    "nbgrader": {
     "cell_type": "markdown",
     "checksum": "9e0e8aca5f1d99d95365d61cc3024e2b",
     "grade": false,
     "grade_id": "cell-91dbac59b5f0c32e",
     "locked": true,
     "schema_version": 3,
     "solution": false,
     "task": false
    }
   },
   "source": [
    "**4** If the dictionary value is the None object let that translate to an empty string\n",
    "\n",
    "    >>> generate_command(description=None)\n",
    "    'gcalcli add --description \"\"'"
   ]
  },
  {
   "cell_type": "code",
   "execution_count": null,
   "id": "8d3bccb1",
   "metadata": {
    "deletable": false,
    "editable": false,
    "nbgrader": {
     "cell_type": "code",
     "checksum": "e1c7e02354e50fc5ee1051c3bfe0e026",
     "grade": true,
     "grade_id": "cell-342dbd0eca8b37a9",
     "locked": true,
     "points": 1,
     "schema_version": 3,
     "solution": false,
     "task": false
    }
   },
   "outputs": [],
   "source": [
    "cmd = generate_command(description=None)\n",
    "expected = 'gcalcli add --description \"\"'\n",
    "assert cmd == expected, f'\\nActual:   {cmd}\\nExpected: {expected}'"
   ]
  },
  {
   "cell_type": "markdown",
   "id": "a9e18f6b",
   "metadata": {
    "deletable": false,
    "editable": false,
    "nbgrader": {
     "cell_type": "markdown",
     "checksum": "8d4655772cd6f372662ec1a64e2b0265",
     "grade": false,
     "grade_id": "cell-1d49646c97a2f4bc",
     "locked": true,
     "schema_version": 3,
     "solution": false,
     "task": false
    }
   },
   "source": [
    "## Part 2\n",
    "\n",
    "A User class is used to save username and password. The instance attributes are `username` and `_password`. The stored password should be encrypted and for that we use the helper function `encrypt`. The c`users` class attribute is a dictionary that contains all created users"
   ]
  },
  {
   "cell_type": "code",
   "execution_count": null,
   "id": "d702c247",
   "metadata": {},
   "outputs": [],
   "source": [
    "import hashlib\n",
    "def encrypt(password):\n",
    "    return hashlib.md5(password.encode()).hexdigest()\n",
    "\n",
    "encrypt('querty')"
   ]
  },
  {
   "cell_type": "code",
   "execution_count": null,
   "id": "39e2b857",
   "metadata": {
    "deletable": false,
    "nbgrader": {
     "cell_type": "code",
     "checksum": "98b1d8c436047ef214aad7a900fdbf6b",
     "grade": false,
     "grade_id": "cell-92758d01db883240",
     "locked": false,
     "schema_version": 3,
     "solution": true,
     "task": false
    }
   },
   "outputs": [],
   "source": [
    "class User:\n",
    "    \"\"\"\n",
    "    instance attributes\n",
    "    \n",
    "    username: str\n",
    "    _password: str\n",
    "    \n",
    "    class attributes\n",
    "    \n",
    "    users: dict\n",
    "    \n",
    "    \"\"\"\n",
    "    # YOUR CODE HERE\n",
    "    ################"
   ]
  },
  {
   "cell_type": "markdown",
   "id": "fd55507f",
   "metadata": {
    "deletable": false,
    "editable": false,
    "nbgrader": {
     "cell_type": "markdown",
     "checksum": "19a214792d20f4d5562354b00ab64d7c",
     "grade": false,
     "grade_id": "cell-bc3c7b2df94fb1b9",
     "locked": true,
     "schema_version": 3,
     "solution": false,
     "task": false
    }
   },
   "source": [
    "**5** Write an initializer such that the following hold"
   ]
  },
  {
   "cell_type": "code",
   "execution_count": null,
   "id": "f14e0599",
   "metadata": {
    "deletable": false,
    "editable": false,
    "nbgrader": {
     "cell_type": "code",
     "checksum": "25ee5844df5f58869c1dfc5f8a034888",
     "grade": true,
     "grade_id": "cell-3480ef7510acc50e",
     "locked": true,
     "points": 1,
     "schema_version": 3,
     "solution": false,
     "task": false
    }
   },
   "outputs": [],
   "source": [
    "adam = User('Adam', 'qwerty')\n",
    "assert adam.username == 'Adam'\n",
    "assert adam._password != 'querty'"
   ]
  },
  {
   "cell_type": "markdown",
   "id": "3921eafc",
   "metadata": {
    "deletable": false,
    "editable": false,
    "nbgrader": {
     "cell_type": "markdown",
     "checksum": "0be5a2d7bd71737a0092571fab2cafde",
     "grade": false,
     "grade_id": "cell-ef00f53cda484bc2",
     "locked": true,
     "schema_version": 3,
     "solution": false,
     "task": false
    }
   },
   "source": [
    "**6** Write a string representation function for the User class such that"
   ]
  },
  {
   "cell_type": "code",
   "execution_count": null,
   "id": "27183229",
   "metadata": {
    "deletable": false,
    "editable": false,
    "nbgrader": {
     "cell_type": "code",
     "checksum": "adc42a75e3e5d993e5f779c7ffe65ab7",
     "grade": true,
     "grade_id": "cell-3f6c49612826ea93",
     "locked": true,
     "points": 1,
     "schema_version": 3,
     "solution": false,
     "task": false
    }
   },
   "outputs": [],
   "source": [
    "assert repr(adam) == 'User(\"Adam\")'"
   ]
  },
  {
   "cell_type": "markdown",
   "id": "d9671f94",
   "metadata": {},
   "source": [
    "**7** Verify that a supplied password in a login situation matches the stored encrypted password"
   ]
  },
  {
   "cell_type": "code",
   "execution_count": null,
   "id": "e0fc0c84",
   "metadata": {
    "deletable": false,
    "editable": false,
    "nbgrader": {
     "cell_type": "code",
     "checksum": "c4e5b571bb0363395d7c0d2a37b8d26b",
     "grade": true,
     "grade_id": "cell-a2a2cc05fa5905a1",
     "locked": true,
     "points": 1,
     "schema_version": 3,
     "solution": false,
     "task": false
    }
   },
   "outputs": [],
   "source": [
    "assert adam.verify('qwerty')\n",
    "assert not adam.verify('qwertu')"
   ]
  },
  {
   "cell_type": "markdown",
   "id": "68322e91",
   "metadata": {
    "deletable": false,
    "editable": false,
    "nbgrader": {
     "cell_type": "markdown",
     "checksum": "eea4dce973b76d1aeccb56dbe93dc645",
     "grade": false,
     "grade_id": "cell-c61d372f50689156",
     "locked": true,
     "schema_version": 3,
     "solution": false,
     "task": false
    }
   },
   "source": [
    "**8** include a method that lists the other users"
   ]
  },
  {
   "cell_type": "code",
   "execution_count": null,
   "id": "f3644267",
   "metadata": {},
   "outputs": [],
   "source": [
    "eve = User('Eve', 'asdfgh')\n",
    "kain = User('Kain', 'omg')\n",
    "abel = User('Abel', 'foo')"
   ]
  },
  {
   "cell_type": "code",
   "execution_count": null,
   "id": "faffaaab",
   "metadata": {
    "deletable": false,
    "editable": false,
    "nbgrader": {
     "cell_type": "code",
     "checksum": "ee6cfa62ebfb7f7ff00c92a5a197e503",
     "grade": true,
     "grade_id": "cell-8eb8f37aad90db25",
     "locked": true,
     "points": 1,
     "schema_version": 3,
     "solution": false,
     "task": false
    }
   },
   "outputs": [],
   "source": [
    "actual = adam.friends()\n",
    "expected = ['Eve', 'Kain', 'Abel']\n",
    "assert actual == expected, f'\\nActual:   {actual}\\nExpected: {expected}'\n"
   ]
  },
  {
   "cell_type": "markdown",
   "id": "2c3996c5",
   "metadata": {},
   "source": [
    "## Part 3\n"
   ]
  },
  {
   "cell_type": "markdown",
   "id": "1deb9245",
   "metadata": {},
   "source": [
    "KTH provides an web application programming interface (API) for the schedule database. \n",
    "\n",
    "The following command returns a Python dictionary with some nested data for the time period Jun-Aug 22\n",
    "\n",
    "    >>> requests.get('https://kth.se/api/schema/v2/course/bb1000?startTime=2022-06-01&endTime=2022-08-31').json()\n",
    "    {'url': 'https://www.kth.se/social/course/BB1000/calendar/',\n",
    "     'entries': [{'url': 'https://www.kth.se/social/course/BB1000/subgroup/vt-2022-811/event/556204/',\n",
    "         'start': '2022-06-01 08:00:00',\n",
    "         'end': '2022-06-01 12:00:00',\n",
    "         'title': 'Tentamen',\n",
    "         'type': 'Ten',\n",
    "         'type_name': {'sv': 'Tentamen', 'en': 'Examination'},\n",
    "         'group': '',\n",
    "         'locations': [{'name': 'FB42',\n",
    "             'url': 'https://www.kth.se/places/room/id/d0adc673-3b21-4590-8e07-4995c3c449df'},\n",
    "            {'name': 'FB52',\n",
    "             'url': 'https://www.kth.se/places/room/id/8af44ca1-c331-43fe-b1bf-437047c7afa4'},\n",
    "            {'name': 'FD41',\n",
    "             'url': 'https://www.kth.se/places/room/id/fc59066e-51b3-4980-ba39-1a9d508ad8a8'}]},\n",
    "        ...\n",
    "\n",
    "(which you can verify)"
   ]
  },
  {
   "cell_type": "code",
   "execution_count": null,
   "id": "73ea946e",
   "metadata": {
    "deletable": false,
    "editable": false,
    "nbgrader": {
     "cell_type": "code",
     "checksum": "f444371779c3f1935106aacea100b666",
     "grade": false,
     "grade_id": "cell-d2323495129be859",
     "locked": true,
     "schema_version": 3,
     "solution": false,
     "task": false
    }
   },
   "outputs": [],
   "source": [
    "import requests\n",
    "KTH_SCHEMA = 'https://kth.se/api/schema/v2/course/bb1000?startTime=2022-06-01&endTime=2022-08-31'\n",
    "requests.get(KTH_SCHEMA).json()"
   ]
  },
  {
   "cell_type": "markdown",
   "id": "44b00308",
   "metadata": {
    "deletable": false,
    "editable": false,
    "nbgrader": {
     "cell_type": "markdown",
     "checksum": "6a0b926fa66da8dc8a04f15431161e35",
     "grade": false,
     "grade_id": "cell-f7b669f0a12e0842",
     "locked": true,
     "schema_version": 3,
     "solution": false,
     "task": false
    }
   },
   "source": [
    "Complete the function below to be a generator that returns dictionaries with information from kth but in a form useful for the Google calendar function in part 1.\n",
    "\n",
    "In particular we need to extract\n",
    "\n",
    "    * start time of an event (for the --when option)\n",
    "    * location (for the --where option)\n",
    "    * the event title (for the --what option)\n",
    "    \n",
    "For the case that we have more than one location it is enough to consider the first/"
   ]
  },
  {
   "cell_type": "code",
   "execution_count": null,
   "id": "2f86a5bf",
   "metadata": {
    "deletable": false,
    "nbgrader": {
     "cell_type": "code",
     "checksum": "a8bd0004b054c5dcca8544d01852e04b",
     "grade": false,
     "grade_id": "cell-8cd12e4734ffa3b4",
     "locked": false,
     "schema_version": 3,
     "solution": true,
     "task": false
    }
   },
   "outputs": [],
   "source": [
    "KTH_URL = 'https://kth.se/api/schema/v2/course/'\n",
    "def kth2gcal(course, start_time='2022-06-01', end_time='2022-08-31'):\n",
    "    # YOUR CODE HERE\n",
    "    ################"
   ]
  },
  {
   "cell_type": "markdown",
   "id": "9c244953",
   "metadata": {},
   "source": [
    "**9**. This verifies that `kth2gcal is a generator"
   ]
  },
  {
   "cell_type": "code",
   "execution_count": null,
   "id": "437d06db",
   "metadata": {
    "deletable": false,
    "editable": false,
    "nbgrader": {
     "cell_type": "code",
     "checksum": "0625ade6973f072bed68e990d9ffffdf",
     "grade": true,
     "grade_id": "cell-7fa089cac31daa9a",
     "locked": true,
     "points": 1,
     "schema_version": 3,
     "solution": false,
     "task": false
    }
   },
   "outputs": [],
   "source": [
    "import typing\n",
    "assert isinstance(kth2gcal, typing.Callable)  # is a function\n",
    "assert isinstance(kth2gcal(''), typing.Generator)  # is a generator"
   ]
  },
  {
   "cell_type": "markdown",
   "id": "3acb1c3e",
   "metadata": {},
   "source": [
    "**10.** Then we loop ever all events of the period the last one is the August reexam"
   ]
  },
  {
   "cell_type": "code",
   "execution_count": null,
   "id": "373a8add",
   "metadata": {
    "deletable": false,
    "editable": false,
    "nbgrader": {
     "cell_type": "code",
     "checksum": "7f3161b253052a84e4b3d5586906c177",
     "grade": true,
     "grade_id": "cell-02c75c088cda8bc2",
     "locked": true,
     "points": 1,
     "schema_version": 3,
     "solution": false,
     "task": false
    }
   },
   "outputs": [],
   "source": [
    "for event in kth2gcal('BB1000', start_time='2022-06-01', end_time='2022-08-31'):\n",
    "    pass\n",
    "\n",
    "print(event)\n",
    "\n",
    "expected = dict(where='FB41', what='Omtenta', when='2022-08-19 08:00:00')\n",
    "assert event == expected, f'\\nActual: {event}\\nExpected {expected}'"
   ]
  },
  {
   "cell_type": "markdown",
   "id": "e93f308f",
   "metadata": {},
   "source": [
    "**11**. Verify that this fits in with the gcalcli command"
   ]
  },
  {
   "cell_type": "code",
   "execution_count": null,
   "id": "08aad5d4",
   "metadata": {
    "deletable": false,
    "editable": false,
    "nbgrader": {
     "cell_type": "code",
     "checksum": "6e750ba3c79bab3d7bedf12d2e1e936e",
     "grade": true,
     "grade_id": "cell-be2b67c958e0db9b",
     "locked": true,
     "points": 1,
     "schema_version": 3,
     "solution": false,
     "task": false
    }
   },
   "outputs": [],
   "source": [
    "cmd = generate_command(**event)\n",
    "print(cmd)\n",
    "assert '--where \"FB41\"' in cmd\n",
    "assert '--what \"Omtenta\"' in cmd"
   ]
  },
  {
   "cell_type": "markdown",
   "id": "15873af5",
   "metadata": {},
   "source": [
    "**12**. A function `search_lab_date` finds the  occurances of a lab session where a given computer room has been scheduled. \n",
    "\n",
    "Write an expression involving kth2gcal which returns a list of such dates which is returned by the function"
   ]
  },
  {
   "cell_type": "code",
   "execution_count": null,
   "id": "90541471",
   "metadata": {
    "deletable": false,
    "nbgrader": {
     "cell_type": "code",
     "checksum": "dd7f7142c3feba0d6134d584f05cccc8",
     "grade": false,
     "grade_id": "cell-a15015dd5c54da2d",
     "locked": false,
     "schema_version": 3,
     "solution": true,
     "task": false
    }
   },
   "outputs": [],
   "source": [
    "def search_lab_dates(class_room):\n",
    "# YOUR CODE HERE\n",
    "################"
   ]
  },
  {
   "cell_type": "code",
   "execution_count": null,
   "id": "873f4ab3",
   "metadata": {
    "deletable": false,
    "editable": false,
    "nbgrader": {
     "cell_type": "code",
     "checksum": "f9d19792489304c6ebfd8877a93fec2a",
     "grade": true,
     "grade_id": "cell-435eec3d3f7af324",
     "locked": true,
     "points": 1,
     "schema_version": 3,
     "solution": false,
     "task": false
    }
   },
   "outputs": [],
   "source": [
    "actual = search_lab_dates('Gul')[0]  # The first lab in yellow\n",
    "expected = '2022-05-20 13:00:00'\n",
    "assert actual == expected, f'\\nActual   {actual}\\nExpected {expected}'"
   ]
  }
 ],
 "metadata": {
  "kernelspec": {
   "display_name": "Python 3 (ipykernel)",
   "language": "python",
   "name": "python3"
  },
  "language_info": {
   "codemirror_mode": {
    "name": "ipython",
    "version": 3
   },
   "file_extension": ".py",
   "mimetype": "text/x-python",
   "name": "python",
   "nbconvert_exporter": "python",
   "pygments_lexer": "ipython3",
   "version": "3.9.0"
  }
 },
 "nbformat": 4,
 "nbformat_minor": 5
}
