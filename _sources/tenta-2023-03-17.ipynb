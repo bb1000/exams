{
 "cells": [
  {
   "cell_type": "markdown",
   "id": "248e9228",
   "metadata": {},
   "source": [
    "Before you turn this problem in, make sure everything runs as expected. First, **restart the kernel** (in the menubar, select Kernel$\\rightarrow$Restart) and then **run all cells** (in the menubar, select Cell$\\rightarrow$Run All).\n",
    "\n",
    "Make sure you fill in any place that says `YOUR CODE HERE` or \"YOUR ANSWER HERE\", as well as your name and collaborators below:"
   ]
  },
  {
   "cell_type": "code",
   "execution_count": null,
   "id": "9018dfa0",
   "metadata": {},
   "outputs": [],
   "source": [
    "NAME = \"\"\n",
    "PERSONNUMBER = \"\""
   ]
  },
  {
   "cell_type": "markdown",
   "id": "a16fbe19",
   "metadata": {},
   "source": [
    "---"
   ]
  },
  {
   "cell_type": "markdown",
   "id": "de2b9fbf",
   "metadata": {},
   "source": [
    "# Tenta 2023-03-17 14:00\n",
    "\n",
    "To intialize this exam to not forget run the import cell next"
   ]
  },
  {
   "cell_type": "code",
   "execution_count": null,
   "id": "6e07bfdc",
   "metadata": {},
   "outputs": [],
   "source": [
    "import time"
   ]
  },
  {
   "cell_type": "markdown",
   "id": "0f87d678",
   "metadata": {},
   "source": [
    "## Part 1\n",
    "\n",
    "\n",
    "### A digital clock\n",
    "\n",
    "The time.time function returns the number of seconds since a reference point of time known as the UNIX epoch, 1 Jan 1970 (GMT).\n",
    "\n",
    "    >>> time.time()\n",
    "    1678896639.9824622\n",
    "\n",
    "\n",
    "Write a function `current_time_of_day` that has no required input, and that returns its output as a string-representation the of current time (GMT). Example:\n",
    "\n",
    "    >>> current_time_of_day()\n",
    "    '13:05:00'\n",
    "    \n",
    "will be the output 5 minutes into the time of the exam (still GMT).\n",
    "\n",
    "You are expected to use `time.time` in your solution and to truncate the `float` value it returns to an integer - i.e. remove/ignore decimals."
   ]
  },
  {
   "cell_type": "code",
   "execution_count": null,
   "id": "89cb9c4c",
   "metadata": {
    "deletable": false,
    "nbgrader": {
     "cell_type": "code",
     "checksum": "56f5ee5a9a133446ac13d5381ddbb51f",
     "grade": false,
     "grade_id": "cell-e2b5da5074216899",
     "locked": false,
     "schema_version": 3,
     "solution": true,
     "task": false
    }
   },
   "outputs": [],
   "source": [
    "def current_time_of_day(tz=0):\n",
    "    \"\"\"\n",
    "    >>> current_time_of_day()\n",
    "    '13:05:00'\n",
    "    \"\"\"\n",
    "    # YOUR CODE HERE\n",
    "    ################"
   ]
  },
  {
   "cell_type": "markdown",
   "id": "0fa6c6ce",
   "metadata": {},
   "source": [
    "### Verify return type\n",
    "\n",
    "Here we verify that we have string of length 8 and that the the output at midnight GMT is\n",
    "\n",
    "    >>> current_time_of_day()\n",
    "    '00:00:00'"
   ]
  },
  {
   "cell_type": "code",
   "execution_count": null,
   "id": "3126cbce",
   "metadata": {
    "deletable": false,
    "editable": false,
    "nbgrader": {
     "cell_type": "code",
     "checksum": "6b45d3c17decad33e00acd43f7b3ff54",
     "grade": true,
     "grade_id": "cell-382721a62e0b5d1a",
     "locked": true,
     "points": 1,
     "schema_version": 3,
     "solution": false,
     "task": false
    }
   },
   "outputs": [],
   "source": [
    "assert type(current_time_of_day()) == str and len(current_time_of_day()) == 8\n",
    "\n"
   ]
  },
  {
   "cell_type": "markdown",
   "id": "44327701",
   "metadata": {},
   "source": [
    "### Verify before/after midnight\n",
    "\n",
    "At any midnight the return value should  be the string\n",
    "\n",
    "    '00:00:00'\n",
    "    \n",
    "and a second before that\n",
    "\n",
    "    '23:59:59'"
   ]
  },
  {
   "cell_type": "code",
   "execution_count": null,
   "id": "bc3d3b9c",
   "metadata": {
    "deletable": false,
    "editable": false,
    "nbgrader": {
     "cell_type": "code",
     "checksum": "82315faee38bec4672d543865694348d",
     "grade": true,
     "grade_id": "cell-124ab4469beaee02",
     "locked": true,
     "points": 1,
     "schema_version": 3,
     "solution": false,
     "task": false
    }
   },
   "outputs": [],
   "source": [
    "import random\n",
    "from unittest.mock import patch\n",
    "\n",
    "any_random_midnight = 60*60*24*random.randint(0, 1000)\n",
    "\n",
    "# This make time.time() return a chosen value during a test\n",
    "\n",
    "with patch('time.time', return_value=any_random_midnight):  \n",
    "    calculated = current_time_of_day()\n",
    "    expected = '00:00:00'\n",
    "    assert calculated == expected, f'{calculated=} != {expected}'\n",
    "    \n",
    "just_before_midnight = any_random_midnight - 1\n",
    "\n",
    "with patch('time.time', return_value=just_before_midnight): \n",
    "    calculated = current_time_of_day()\n",
    "    expected = '23:59:59'\n",
    "    assert calculated == expected, f'{calculated=} != {expected=}'\n",
    "  \n"
   ]
  },
  {
   "cell_type": "markdown",
   "id": "d30b6b50",
   "metadata": {},
   "source": [
    "### Verify handling of fractional seconds"
   ]
  },
  {
   "cell_type": "markdown",
   "id": "cf537b1c",
   "metadata": {},
   "source": [
    "Verify that fractional values from `time.time` is handled such that \n",
    "\n",
    "    .9 seconds after midnight -> \"00:00:00\"\n",
    "    1.1 seconds after midnight -> \"00:00:01\""
   ]
  },
  {
   "cell_type": "code",
   "execution_count": null,
   "id": "99005145",
   "metadata": {
    "deletable": false,
    "editable": false,
    "nbgrader": {
     "cell_type": "code",
     "checksum": "eb07ceea738ad9ca31c0aa9b3b2f5da4",
     "grade": true,
     "grade_id": "cell-5a332274f4db5a22",
     "locked": true,
     "points": 1,
     "schema_version": 3,
     "solution": false,
     "task": false
    }
   },
   "outputs": [],
   "source": [
    "import random\n",
    "from unittest.mock import patch\n",
    "\n",
    "any_random_midnight = 60*60*24*random.randint(0, 1000)\n",
    "\n",
    "# This make time.time() return a chosen value during a test\n",
    "\n",
    "with patch('time.time', return_value=any_random_midnight + 0.9):  \n",
    "    calculated = current_time_of_day()\n",
    "    expected = '00:00:00'\n",
    "    assert calculated == expected, f'{calculated=} != {expected}'\n",
    "    \n",
    "with patch('time.time', return_value=any_random_midnight + 1.1):  \n",
    "    calculated = current_time_of_day()\n",
    "    expected = '00:00:01'\n",
    "    assert calculated == expected, f'{calculated=} != {expected}'"
   ]
  },
  {
   "cell_type": "markdown",
   "id": "89852a7c",
   "metadata": {},
   "source": [
    "### Include optional timezone\n",
    "\n",
    "Complement the function with an optional argument `tz`, an integer representing hours ahead of GMT. For Central European Time (CET) this has value 1. \n",
    "\n",
    "The docstring above could be updated with \n",
    "\n",
    "    >>> current_time_of_day()\n",
    "    '13:05:00'\n",
    "    >>> current_time_of_day(tz=1)\n",
    "    '14:05:00'\n"
   ]
  },
  {
   "cell_type": "markdown",
   "id": "6ec59df6",
   "metadata": {},
   "source": [
    "Verify for yourself that it returns the current time in CET timezone"
   ]
  },
  {
   "cell_type": "code",
   "execution_count": null,
   "id": "64f4afb7",
   "metadata": {
    "deletable": false,
    "editable": false,
    "nbgrader": {
     "cell_type": "code",
     "checksum": "fef5be172a20877f027e864cf4d5ccee",
     "grade": true,
     "grade_id": "cell-e41c8f291cbbf177",
     "locked": true,
     "points": 1,
     "schema_version": 3,
     "solution": false,
     "task": false
    }
   },
   "outputs": [],
   "source": [
    "import random\n",
    "from unittest.mock import patch\n",
    "\n",
    "any_random_midnight = 60*60*24*random.randint(0, 1000)\n",
    "\n",
    "# This make time.time() return a chosen value during a test\n",
    "\n",
    "with patch('time.time', return_value=any_random_midnight):  \n",
    "    calculated = current_time_of_day(tz=1)\n",
    "    expected = '01:00:00'\n",
    "    assert calculated == expected, f'{calculated=} != {expected}'\n",
    "    \n",
    "with patch('time.time', return_value=any_random_midnight):  \n",
    "    calculated = current_time_of_day(tz=2)\n",
    "    expected = '02:00:00'\n",
    "    assert calculated == expected, f'{calculated=} != {expected}'\n"
   ]
  },
  {
   "cell_type": "code",
   "execution_count": null,
   "id": "d38302f6",
   "metadata": {},
   "outputs": [],
   "source": [
    "RNA = 'AUGUCGGAAAAAGAAAUUUGGGAAAAAGUGCUUGAAAUUGCUCAAGAAAAAUUAUCAGCUGUAAGUUACUCAACUUUCCUAAAAGAUACUGAGCUUUACACGAUUAAAGAUGGUGAAGCUAUCGUAUUAUCGAGUAUUCCUUUUAAUGCAAAUUGGUUAAAUCAACAAUAUGCUGAAAUUAUCCAAGCAAUCUUAUUUGAUGUUGUAGGCUAUGAAGUUAAACCUCACUUUAUUACUACUGAAGAAUUAGCAAAUUAUAGUAAUAAUGAAACUGCUACUCCAAAAGAAACAACAAAACCUUCUACUGAAACAACUGAGGAUAAUCAUGUGCUUGGUAGAGAGCAAUUCAAUGCCCAUAACACAUUUGACACUUUUGUAAUCGGACCCGGUAACCGCUUUCCACAUGCAGCGAGUUUAGCUGUGGCCGAAGCACCAGCCAAAGCGUACAAUCCAUUAUUUAUCUAUGGAGGUGUUGGUUUAGGAAAAACCCAUUUAAUGCAUGCCAUUGGUCAUCAUGUUUUAGAUAAUAAUCCAGAUGCCAAAGUGAUUUACACAUCAAGUGAAAAAUUCACAAAUGAAUUUAUUAAAUCAAUUCGUGAUAACGAAGGUGAAGCUUUCAGAGAAAGAUAUCGUAAUAUCGACGUCUUAUUAAUCGAUGAUAUUCAGUUCAUACAAAACAAGGUACAAACACAAGAAGAAUUUUUCUAUACUUUUAAUGAAUUGCAUCAGAAUAACAAGCAAAUAGUUAUUUCGAGUGAUCGACCACCAAAGGAAAUUGCACAAUUAGAAGACCGAUUACGUUCACGCUUUGAAUGGGGGCUAAUUGUUGAUAUUACGCCACCAGAUUAUGAAACUCGAAUGGCAAUUUUGCAGAAGAAAAUUGAAGAAGAAAAAUUAGAUAUUCCACCAGAAGCUUUAAAUUAUAUAGCAAAUCAAAUUCAAUCUAAUAUUCGUGAAUUAGAAGGUGCAUUAACACGUUUACUUGCAUAUUCACAAUUAUUAGGAAAACCAAUUACAACUGAAUUAACUGCUGAAGCUUUAAAAGAUAUCAUUCAAGCACCAAAAUCUAAAAAGAUUACCAUCCAAGAUAUUCAAAAAAUUGUAGGCCAGUACUAUAAUGUUAGAAUUGAAGAUUUCAGUGCAAAAAAACGUACAAAGUCAAUUGCAUAUCCGCGUCAAAUAGCUAUGUACUUGUCUAGAGAGCUUACAGAUUUCUCAUUACCUAAAAUUGGUGAAGAAUUUGGUGGGCGUGAUCAUACGACCGUCAUUCAUGCUCAUGAAAAAAUAUCUAAAGAUUUAAAAGAAGAUCCUAUUUUUAAACAAGAAGUAGAGAAUCUUGAAAAAGAAAUAAGAAAUGUAUAA'"
   ]
  },
  {
   "cell_type": "markdown",
   "id": "c9a52c72",
   "metadata": {
    "deletable": false,
    "editable": false,
    "nbgrader": {
     "cell_type": "markdown",
     "checksum": "5378b2919060a29130e1bddfcc1e12c1",
     "grade": false,
     "grade_id": "cell-994a03e4c537fe41",
     "locked": true,
     "schema_version": 3,
     "solution": false,
     "task": false
    }
   },
   "source": [
    "\n",
    "## Part 2\n",
    "\n",
    "### Classical mechanics\n",
    "\n",
    "The motion of a two-particle system can be decoupled into the motion of a the center-of-mass particle with an effective mass equal to the total mass of the system,\n",
    "\n",
    "\n",
    "$$ {\\bf r}_{cm} = \\frac{m_1 {\\textbf r}_1 + m_2 {\\textbf r}_2}{m_1 + m_2} \\qquad m_{tot} = m_1 + m_2$$\n",
    "$$ $$\n",
    "\n",
    "and the internal motion of a particle with a reduced mass\n",
    "\n",
    "$$ {\\bf r}_{red} = {\\textbf r}_1 -  {\\textbf r}_2 \\qquad m_{red} = \\frac{m_1m_2}{m_1 + m_2}$$\n",
    "\n",
    "\n",
    "\n",
    "The bold-face notation ${\\textbf r}$ refers to a point in space with $(x, y, z)$ coordinates and the scalar $m$ to the mass of a particle\n"
   ]
  },
  {
   "cell_type": "markdown",
   "id": "a738c553",
   "metadata": {
    "deletable": false,
    "editable": false,
    "nbgrader": {
     "cell_type": "markdown",
     "checksum": "13597e7887ac2d604cadf1eaa9f805fe",
     "grade": false,
     "grade_id": "cell-38a8ad7634f60a9c",
     "locked": true,
     "schema_version": 3,
     "solution": false,
     "task": false
    }
   },
   "source": [
    "### A Particle class\n",
    "\n",
    "Construct a class of a particle with  $x, y, z$-coordinates and mass $m$. Let `x`, `y`, `z` and `m` be instance attributes of the class."
   ]
  },
  {
   "cell_type": "code",
   "execution_count": null,
   "id": "d8c39d47",
   "metadata": {
    "deletable": false,
    "nbgrader": {
     "cell_type": "code",
     "checksum": "1dfe26c5ec6a5bcb18dbab2005b27e65",
     "grade": false,
     "grade_id": "cell-acdbbabfcf9a51c6",
     "locked": false,
     "schema_version": 3,
     "solution": true,
     "task": false
    }
   },
   "outputs": [],
   "source": [
    "class Particle:\n",
    "    \"\"\"\n",
    "    Class for particle with position and mass\n",
    "    \n",
    "    \"\"\"\n",
    "    # YOUR CODE HERE\n",
    "    ################\n"
   ]
  },
  {
   "cell_type": "code",
   "execution_count": null,
   "id": "fe7090e4",
   "metadata": {
    "deletable": false,
    "editable": false,
    "nbgrader": {
     "cell_type": "code",
     "checksum": "3f5420a0b2c8321b4b45941f4a9872ee",
     "grade": true,
     "grade_id": "cell-0ee3ce1bc892e5dd",
     "locked": true,
     "points": 1,
     "schema_version": 3,
     "solution": false,
     "task": false
    }
   },
   "outputs": [],
   "source": [
    "p = Particle(1, 2, 3, 4)\n",
    "assert p.x == 1\n",
    "assert p.y == 2\n",
    "assert p.z == 3\n",
    "assert p.m == 4"
   ]
  },
  {
   "cell_type": "markdown",
   "id": "af361b1f",
   "metadata": {
    "deletable": false,
    "editable": false,
    "nbgrader": {
     "cell_type": "markdown",
     "checksum": "74579ca3947eb792436126858a3cd64d",
     "grade": false,
     "grade_id": "cell-debd4ea9ffd0531d",
     "locked": true,
     "schema_version": 3,
     "solution": false,
     "task": false
    }
   },
   "source": [
    "Define a `cm` method for a center-of-mass such that"
   ]
  },
  {
   "cell_type": "code",
   "execution_count": null,
   "id": "45971f89",
   "metadata": {
    "deletable": false,
    "editable": false,
    "nbgrader": {
     "cell_type": "code",
     "checksum": "96258644bb2297755c3adb72efcd4d98",
     "grade": true,
     "grade_id": "cell-6c4b4d28759ad052",
     "locked": true,
     "points": 1,
     "schema_version": 3,
     "solution": false,
     "task": false
    }
   },
   "outputs": [],
   "source": [
    "p1 = Particle(0, 0, 0, 1)\n",
    "p2 = Particle(0, 0, 1, 1)\n",
    "r_cm = p1.cm(p2)\n",
    "assert r_cm.x == 0\n",
    "assert r_cm.y == 0\n",
    "assert r_cm.z == 0.5\n",
    "assert r_cm.m == 2"
   ]
  },
  {
   "cell_type": "markdown",
   "id": "3be553ef",
   "metadata": {},
   "source": [
    "Define a reduced particle which satisfies"
   ]
  },
  {
   "cell_type": "code",
   "execution_count": null,
   "id": "e69dc53e",
   "metadata": {
    "deletable": false,
    "editable": false,
    "nbgrader": {
     "cell_type": "code",
     "checksum": "cdd5e3650e2f228764f982ef1504fff5",
     "grade": true,
     "grade_id": "cell-e6a55631ef9a1acc",
     "locked": true,
     "points": 1,
     "schema_version": 3,
     "solution": false,
     "task": false
    }
   },
   "outputs": [],
   "source": [
    "p1 = Particle(0, 0, 0, 1)\n",
    "p2 = Particle(0, 0, 1, 1)\n",
    "r_red = p1.red(p2)\n",
    "\n",
    "assert r_red.x == 0, f'{r_red.x=} != 0' \n",
    "assert r_red.y == 0, f'{r_red.y=} != 0' \n",
    "assert r_red.z == -1, f'{r_red.z=} != -1' \n",
    "assert r_red.m == 0.5"
   ]
  },
  {
   "cell_type": "markdown",
   "id": "c30eb718",
   "metadata": {},
   "source": [
    "### Subclass: particle with charge\n",
    "\n",
    "In this newclass the particle will have an additional attribute: charge, and the electrostatic interaction\n",
    "between two charges is given by\n",
    "\n",
    "$$ V = \\frac{q_1 q_2}{|{\\textbf r_1} - {\\textbf r_2}|} $$\n",
    "\n",
    "i.e. the product of the charges divided by the distance\n",
    "\n",
    "Have a method `coulomb` in this new subclass that calculates this energy"
   ]
  },
  {
   "cell_type": "code",
   "execution_count": null,
   "id": "aea93a40",
   "metadata": {
    "deletable": false,
    "nbgrader": {
     "cell_type": "code",
     "checksum": "c257aa81911bcad7ddb79b23dc08bc96",
     "grade": false,
     "grade_id": "cell-5ce0017471fdb449",
     "locked": false,
     "schema_version": 3,
     "solution": true,
     "task": false
    }
   },
   "outputs": [],
   "source": [
    "class ChargedParticle(Particle):\n",
    "    \"\"\"\n",
    "    Class for particle with charge\n",
    "    \n",
    "    \"\"\"\n",
    "    # YOUR CODE HERE\n",
    "    ################"
   ]
  },
  {
   "cell_type": "markdown",
   "id": "bcc501e2",
   "metadata": {},
   "source": [
    "### Test case: hydrogen atom\n",
    "\n",
    "The electrostatic interaction between a proton and electron in a hydrogen atom"
   ]
  },
  {
   "cell_type": "code",
   "execution_count": null,
   "id": "7391fa8f",
   "metadata": {
    "deletable": false,
    "editable": false,
    "nbgrader": {
     "cell_type": "code",
     "checksum": "da381195e0b5b89ede7e07b412952116",
     "grade": true,
     "grade_id": "cell-6186b66bd4288312",
     "locked": true,
     "points": 1,
     "schema_version": 3,
     "solution": false,
     "task": false
    }
   },
   "outputs": [],
   "source": [
    "q1 = ChargedParticle(0,0,0,1, 1)\n",
    "q2 = ChargedParticle(0,0,1,1, -1)\n",
    "energy = q1.coulomb(q2)\n",
    "expected = -1\n",
    "assert energy == expected, f'{energy=} != {expected=}'"
   ]
  },
  {
   "cell_type": "markdown",
   "id": "1bb3d105",
   "metadata": {},
   "source": [
    "## Part 3\n",
    "\n",
    "Given a DNA string write a generator that yield the characters in groups of three (codons)."
   ]
  },
  {
   "cell_type": "code",
   "execution_count": null,
   "id": "4534a21a",
   "metadata": {
    "deletable": false,
    "nbgrader": {
     "cell_type": "code",
     "checksum": "2a370533cdba02dbfccf90399b2f0f62",
     "grade": false,
     "grade_id": "cell-36f00109bdfeb041",
     "locked": false,
     "schema_version": 3,
     "solution": true,
     "task": false
    }
   },
   "outputs": [],
   "source": [
    "def codons(dna):\n",
    "    \"\"\"\n",
    "    Yield the codons of a DNA/RNA string\n",
    "    \n",
    "    >>> for c in codons('GCAGCC'))\n",
    "    ...      print(c)\n",
    "    GCA\n",
    "    GCC\n",
    "    \"\"\"\n",
    "    # YOUR CODE HERE\n",
    "    ################"
   ]
  },
  {
   "cell_type": "markdown",
   "id": "480bb8d7",
   "metadata": {},
   "source": [
    "Verify that this is a generator"
   ]
  },
  {
   "cell_type": "code",
   "execution_count": null,
   "id": "bad1f0c4",
   "metadata": {
    "deletable": false,
    "editable": false,
    "nbgrader": {
     "cell_type": "code",
     "checksum": "7b0ed4f7d2cbb31ca9a87c223dc4dd9f",
     "grade": true,
     "grade_id": "cell-58a7dcd4a99e5786",
     "locked": true,
     "points": 1,
     "schema_version": 3,
     "solution": false,
     "task": false
    }
   },
   "outputs": [],
   "source": [
    "# Verify type\n",
    "class_name = codons('').__class__.__name__\n",
    "assert class_name == 'generator', f'{class_name=} != generator'"
   ]
  },
  {
   "cell_type": "markdown",
   "id": "15c51fbb",
   "metadata": {},
   "source": [
    "Verify some values in a defined string"
   ]
  },
  {
   "cell_type": "code",
   "execution_count": null,
   "id": "748ab146",
   "metadata": {
    "deletable": false,
    "editable": false,
    "nbgrader": {
     "cell_type": "code",
     "checksum": "937f7d158de86f74fba3d8fcb7d839cf",
     "grade": false,
     "grade_id": "cell-8442ba8d9db0c615",
     "locked": true,
     "schema_version": 3,
     "solution": false,
     "task": false
    }
   },
   "outputs": [],
   "source": [
    "RNA = 'AUGUCGGAAAAAGAAAUUUGGGAAAAAGUGCUUGAAAUUGCUCAAGAAAAAUUAUCAGCUGUAAGUUACUCAACUUUCCUAAAAGAUACUGAGCUUUACACGAUUAAAGAUGGUGAAGCUAUCGUAUUAUCGAGUAUUCCUUUUAAUGCAAAUUGGUUAAAUCAACAAUAUGCUGAAAUUAUCCAAGCAAUCUUAUUUGAUGUUGUAGGCUAUGAAGUUAAACCUCACUUUAUUACUACUGAAGAAUUAGCAAAUUAUAGUAAUAAUGAAACUGCUACUCCAAAAGAAACAACAAAACCUUCUACUGAAACAACUGAGGAUAAUCAUGUGCUUGGUAGAGAGCAAUUCAAUGCCCAUAACACAUUUGACACUUUUGUAAUCGGACCCGGUAACCGCUUUCCACAUGCAGCGAGUUUAGCUGUGGCCGAAGCACCAGCCAAAGCGUACAAUCCAUUAUUUAUCUAUGGAGGUGUUGGUUUAGGAAAAACCCAUUUAAUGCAUGCCAUUGGUCAUCAUGUUUUAGAUAAUAAUCCAGAUGCCAAAGUGAUUUACACAUCAAGUGAAAAAUUCACAAAUGAAUUUAUUAAAUCAAUUCGUGAUAACGAAGGUGAAGCUUUCAGAGAAAGAUAUCGUAAUAUCGACGUCUUAUUAAUCGAUGAUAUUCAGUUCAUACAAAACAAGGUACAAACACAAGAAGAAUUUUUCUAUACUUUUAAUGAAUUGCAUCAGAAUAACAAGCAAAUAGUUAUUUCGAGUGAUCGACCACCAAAGGAAAUUGCACAAUUAGAAGACCGAUUACGUUCACGCUUUGAAUGGGGGCUAAUUGUUGAUAUUACGCCACCAGAUUAUGAAACUCGAAUGGCAAUUUUGCAGAAGAAAAUUGAAGAAGAAAAAUUAGAUAUUCCACCAGAAGCUUUAAAUUAUAUAGCAAAUCAAAUUCAAUCUAAUAUUCGUGAAUUAGAAGGUGCAUUAACACGUUUACUUGCAUAUUCACAAUUAUUAGGAAAACCAAUUACAACUGAAUUAACUGCUGAAGCUUUAAAAGAUAUCAUUCAAGCACCAAAAUCUAAAAAGAUUACCAUCCAAGAUAUUCAAAAAAUUGUAGGCCAGUACUAUAAUGUUAGAAUUGAAGAUUUCAGUGCAAAAAAACGUACAAAGUCAAUUGCAUAUCCGCGUCAAAUAGCUAUGUACUUGUCUAGAGAGCUUACAGAUUUCUCAUUACCUAAAAUUGGUGAAGAAUUUGGUGGGCGUGAUCAUACGACCGUCAUUCAUGCUCAUGAAAAAAUAUCUAAAGAUUUAAAAGAAGAUCCUAUUUUUAAACAAGAAGUAGAGAAUCUUGAAAAAGAAAUAAGAAAUGUAUAA'"
   ]
  },
  {
   "cell_type": "code",
   "execution_count": null,
   "id": "effea718",
   "metadata": {
    "deletable": false,
    "editable": false,
    "nbgrader": {
     "cell_type": "code",
     "checksum": "dcf202188c12d96fe02912c728d8f9c4",
     "grade": true,
     "grade_id": "cell-ed847302a879f082",
     "locked": true,
     "points": 1,
     "schema_version": 3,
     "solution": false,
     "task": false
    }
   },
   "outputs": [],
   "source": [
    "assert list(codons(RNA))[0] == 'AUG'\n",
    "assert list(codons(RNA))[-1] == 'UAA'"
   ]
  },
  {
   "cell_type": "markdown",
   "id": "bbfe55ab",
   "metadata": {},
   "source": [
    "### Count\n",
    "\n",
    "Look up the `Counter` class in the `collections` module. It has a method `most_common`. Write a wrapper to that function so you get the most common codon and its count in the string\n",
    "\n",
    "    >>> most_common_codon('AAAGGGAAA')\n",
    "    ('AAA', 2)"
   ]
  },
  {
   "cell_type": "code",
   "execution_count": null,
   "id": "56b4bf16",
   "metadata": {
    "deletable": false,
    "nbgrader": {
     "cell_type": "code",
     "checksum": "62eb30c24c73824170ce874f4e515c6e",
     "grade": false,
     "grade_id": "cell-425b86d1aa31e752",
     "locked": false,
     "schema_version": 3,
     "solution": true,
     "task": false
    }
   },
   "outputs": [],
   "source": [
    "from collections import Counter\n",
    "\n",
    "def most_common_codon(dna):\n",
    "    \"\"\"\n",
    "    Returns the most common codon with its count\n",
    "    >>> most_common_codon('AAAGGGAAA')\n",
    "    ('AAA', 2)\n",
    "    \"\"\"\n",
    "    # YOUR CODE HERE\n",
    "    ################\n"
   ]
  },
  {
   "cell_type": "code",
   "execution_count": null,
   "id": "c9a742df",
   "metadata": {
    "deletable": false,
    "editable": false,
    "nbgrader": {
     "cell_type": "code",
     "checksum": "312e350bd9689ec8a929d8f632084432",
     "grade": true,
     "grade_id": "cell-07d22f7dfa7badd6",
     "locked": true,
     "points": 1,
     "schema_version": 3,
     "solution": false,
     "task": false
    }
   },
   "outputs": [],
   "source": [
    "assert most_common_codon('AAAGGGAAA') == ('AAA', 2)\n",
    "assert most_common_codon(RNA) == ('GAA', 42)"
   ]
  },
  {
   "cell_type": "markdown",
   "id": "2528d587",
   "metadata": {},
   "source": [
    "### Search\n",
    "\n",
    "Write a function to search for a given substring and return the number (counting codons) of the first match according to\n",
    "\n",
    "    >>> find_codon('AAA'  'AAAGGG')\n",
    "    0\n",
    "    >>> find_codon('GGG', 'AAAGGG')\n",
    "    1"
   ]
  },
  {
   "cell_type": "code",
   "execution_count": null,
   "id": "26dac42f",
   "metadata": {
    "deletable": false,
    "nbgrader": {
     "cell_type": "code",
     "checksum": "572f7e62d8207b5b56a24a2ba0afae91",
     "grade": false,
     "grade_id": "cell-0f04b19956a83a07",
     "locked": false,
     "schema_version": 3,
     "solution": true,
     "task": false
    }
   },
   "outputs": [],
   "source": [
    "def find_codon(codon, dna):\n",
    "    \"\"\"\n",
    "    >>> find_codon('AAA'  'AAAGGG')\n",
    "    0\n",
    "    >>> find_codon('GGG', 'AAAGGG')\n",
    "    1\n",
    "    \"\"\"\n",
    "    # YOUR CODE HERE\n",
    "    ################"
   ]
  },
  {
   "cell_type": "code",
   "execution_count": null,
   "id": "182aa905",
   "metadata": {
    "deletable": false,
    "editable": false,
    "nbgrader": {
     "cell_type": "code",
     "checksum": "185f7ae3fdf07c21dfe1f400c4e1516b",
     "grade": true,
     "grade_id": "cell-532880ad9d9e4fe1",
     "locked": true,
     "points": 1,
     "schema_version": 3,
     "solution": false,
     "task": false
    }
   },
   "outputs": [],
   "source": [
    "assert find_codon('AUG', RNA) == 0\n",
    "assert find_codon('GAA', RNA) == 2"
   ]
  }
 ],
 "metadata": {
  "kernelspec": {
   "display_name": "Python 3 (ipykernel)",
   "language": "python",
   "name": "python3"
  },
  "language_info": {
   "codemirror_mode": {
    "name": "ipython",
    "version": 3
   },
   "file_extension": ".py",
   "mimetype": "text/x-python",
   "name": "python",
   "nbconvert_exporter": "python",
   "pygments_lexer": "ipython3",
   "version": "3.10.5"
  }
 },
 "nbformat": 4,
 "nbformat_minor": 5
}
