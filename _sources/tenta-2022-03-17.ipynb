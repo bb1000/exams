{
 "cells": [
  {
   "cell_type": "markdown",
   "id": "2c7a9087",
   "metadata": {},
   "source": [
    "Before you turn this problem in, make sure everything runs as expected. First, **restart the kernel** (in the menubar, select Kernel$\\rightarrow$Restart) and then **run all cells** (in the menubar, select Cell$\\rightarrow$Run All).\n",
    "\n",
    "Make sure you fill in any place that says `YOUR CODE HERE` or \"YOUR ANSWER HERE\", as well as your name and person number below:"
   ]
  },
  {
   "cell_type": "code",
   "execution_count": null,
   "id": "9fc78823",
   "metadata": {},
   "outputs": [],
   "source": [
    "NAME = \"\"\n",
    "PERSON NUMBER = \"\""
   ]
  },
  {
   "cell_type": "markdown",
   "id": "2ffe77f7",
   "metadata": {},
   "source": [
    "---"
   ]
  },
  {
   "cell_type": "markdown",
   "id": "5cffe4d5",
   "metadata": {},
   "source": [
    "# Tenta BB1000 2022-03-17"
   ]
  },
  {
   "cell_type": "code",
   "execution_count": null,
   "id": "04abf5a0",
   "metadata": {},
   "outputs": [],
   "source": []
  }
 ],
 "metadata": {
  "kernelspec": {
   "display_name": "Python 3",
   "language": "python",
   "name": "python3"
  },
  "language_info": {
   "codemirror_mode": {
    "name": "ipython",
    "version": 3
   },
   "file_extension": ".py",
   "mimetype": "text/x-python",
   "name": "python",
   "nbconvert_exporter": "python",
   "pygments_lexer": "ipython3",
   "version": "3.9.0"
  }
 },
 "nbformat": 4,
 "nbformat_minor": 5
}
