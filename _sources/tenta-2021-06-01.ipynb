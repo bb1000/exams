{
 "cells": [
  {
   "cell_type": "markdown",
   "id": "monthly-death",
   "metadata": {},
   "source": [
    "# Tenta 2021-06-01\n",
    "*Personal information modified from the original*"
   ]
  },
  {
   "cell_type": "markdown",
   "id": "choice-breed",
   "metadata": {
    "deletable": false,
    "editable": true,
    "nbgrader": {
     "cell_type": "markdown",
     "checksum": "08f48e1c1afaea6909c2d2f049d43717",
     "grade": false,
     "grade_id": "cell-dbf6fdd0f81450b6",
     "locked": true,
     "schema_version": 3,
     "solution": false,
     "task": false
    }
   },
   "source": [
    "## Requirements\n",
    "\n",
    "For the whole exam you should be able to import the following libraries"
   ]
  },
  {
   "cell_type": "code",
   "execution_count": 1,
   "id": "hydraulic-implement",
   "metadata": {
    "deletable": false,
    "editable": true,
    "nbgrader": {
     "cell_type": "code",
     "checksum": "26cfc8ef2a4ebaa2489402ae3588241d",
     "grade": false,
     "grade_id": "cell-73f4a0ec6ba0dd1f",
     "locked": true,
     "schema_version": 3,
     "solution": false,
     "task": false
    }
   },
   "outputs": [],
   "source": [
    "import numpy\n",
    "import requests\n",
    "import IPython"
   ]
  },
  {
   "cell_type": "markdown",
   "id": "natural-flight",
   "metadata": {
    "deletable": false,
    "editable": true,
    "nbgrader": {
     "cell_type": "markdown",
     "checksum": "1572d7204dfc72631b208d193f14c5d1",
     "grade": false,
     "grade_id": "cell-478a406c0308da30",
     "locked": true,
     "schema_version": 3,
     "solution": false,
     "task": false
    }
   },
   "source": [
    "## Level 1\n"
   ]
  },
  {
   "cell_type": "markdown",
   "id": "incident-raleigh",
   "metadata": {
    "deletable": false,
    "editable": true,
    "nbgrader": {
     "cell_type": "markdown",
     "checksum": "db262f7982521eaa12cc53cecb2f5feb",
     "grade": false,
     "grade_id": "cell-7df74405c3baf4e5",
     "locked": true,
     "schema_version": 3,
     "solution": false,
     "task": false
    }
   },
   "source": [
    "**1. Given that we have a list of email addresses in a file, in this example with the name 'email.txt'**"
   ]
  },
  {
   "cell_type": "code",
   "execution_count": 2,
   "id": "scientific-village",
   "metadata": {
    "deletable": false,
    "editable": true,
    "nbgrader": {
     "cell_type": "code",
     "checksum": "2beb97244c193c1b5855c0e4fe1f07c7",
     "grade": false,
     "grade_id": "cell-128175b08f5220e6",
     "locked": true,
     "schema_version": 3,
     "solution": false,
     "task": false
    }
   },
   "outputs": [
    {
     "name": "stdout",
     "output_type": "stream",
     "text": [
      "Overwriting emails.txt\n"
     ]
    }
   ],
   "source": [
    "%%file emails.txt\n",
    "bonnie@kth.se\n",
    "clyde@chalmers.se\n",
    "scarlett@kth.se\n",
    "rhett@chalmers.se"
   ]
  },
  {
   "cell_type": "markdown",
   "id": "elder-glass",
   "metadata": {
    "deletable": false,
    "editable": true,
    "nbgrader": {
     "cell_type": "markdown",
     "checksum": "648d311972d9e163aec2fea497c98c46",
     "grade": false,
     "grade_id": "cell-16f6b03afb099fa3",
     "locked": true,
     "schema_version": 3,
     "solution": false,
     "task": false
    }
   },
   "source": [
    "**write a function that extracts the account names (the part to the left of the '@' sign) in a list**\n",
    "\n",
    "~~~\n",
    ">>> get_usernames('emails.txt')\n",
    "['bonnie', 'clyde']\n",
    "~~~"
   ]
  },
  {
   "cell_type": "code",
   "execution_count": 3,
   "id": "prescribed-november",
   "metadata": {
    "deletable": false,
    "nbgrader": {
     "cell_type": "code",
     "checksum": "966f0209d4f201ac574eb720707247b6",
     "grade": false,
     "grade_id": "cell-f822b8fd33ae224e",
     "locked": false,
     "schema_version": 3,
     "solution": true,
     "task": false
    }
   },
   "outputs": [],
   "source": [
    "def get_usernames(source: str) -> list:\n",
    "    \"\"\"\n",
    "    Returns username from a file of mail addresses as a list\n",
    "    \"\"\"\n",
    "    # YOUR CODE HERE\n",
    "    "
   ]
  },
  {
   "cell_type": "code",
   "execution_count": 4,
   "id": "architectural-preparation",
   "metadata": {
    "deletable": false,
    "editable": true,
    "nbgrader": {
     "cell_type": "code",
     "checksum": "bbe87c578db2c694afe7dd15a624faa1",
     "grade": true,
     "grade_id": "cell-6d536596d441b56e",
     "locked": true,
     "points": 1,
     "schema_version": 3,
     "solution": false,
     "task": false
    }
   },
   "outputs": [],
   "source": [
    "from solutions import get_usernames\n",
    "users = get_usernames(\"emails.txt\")\n",
    "expected = [\"bonnie\", \"clyde\", \"scarlett\", \"rhett\"]\n",
    "assert users == expected, f'\\n{users} \\n!= \\n{expected}'\n"
   ]
  },
  {
   "cell_type": "code",
   "execution_count": null,
   "id": "adolescent-proof",
   "metadata": {
    "deletable": false,
    "editable": true,
    "nbgrader": {
     "cell_type": "code",
     "checksum": "871d5e80febf174c54f60afb1a88b1d1",
     "grade": true,
     "grade_id": "cell-6ac45588bcc8080d",
     "locked": true,
     "points": 1,
     "schema_version": 3,
     "solution": false,
     "task": false
    }
   },
   "outputs": [],
   "source": []
  },
  {
   "cell_type": "markdown",
   "id": "dffaa6b1-60b8-4a99-a521-95a50b12e71e",
   "metadata": {},
   "source": [
    "```{admonition} Solution\n",
    ":class: dropdown\n",
    "~~~\n",
    "def get_usernames(source: str) -> list:\n",
    "    \"\"\"               \n",
    "    Returns usernames from a file of mail addresses as a list\n",
    "    \"\"\"\n",
    "    with open(source) as f:                                     \n",
    "        usernames = []\n",
    "        for line in f:\n",
    "            username = line.split('@')[0]\n",
    "            usernames.append(username)\n",
    "    return users               \n",
    "~~~\n",
    "```"
   ]
  },
  {
   "cell_type": "markdown",
   "id": "desirable-deputy",
   "metadata": {
    "deletable": false,
    "editable": true,
    "nbgrader": {
     "cell_type": "markdown",
     "checksum": "93af31be1f6f5f0157e09c4f99229a37",
     "grade": false,
     "grade_id": "cell-0e1475e62309c263",
     "locked": true,
     "schema_version": 3,
     "solution": false,
     "task": false
    }
   },
   "source": [
    "**2. Group the users by affiliation with a function that returns a dictionary**\n",
    "\n",
    "~~~\n",
    ">>> get usernames_by_affiliation('emails.txt')\n",
    "{'kth': ['bonnie', 'scarlett'], 'chalmers': ['clyde', 'rhett']}\n",
    "~~~"
   ]
  },
  {
   "cell_type": "code",
   "execution_count": 5,
   "id": "south-savage",
   "metadata": {
    "deletable": false,
    "nbgrader": {
     "cell_type": "code",
     "checksum": "a057d149ee1fdbfe4d3fa9256c1d481c",
     "grade": false,
     "grade_id": "cell-252f3ca6ac3a00ae",
     "locked": false,
     "schema_version": 3,
     "solution": true,
     "task": false
    }
   },
   "outputs": [],
   "source": [
    "def get_usernames_by_affiliation(source: str) -> list:\n",
    "    \"\"\"\n",
    "    Returns usernames from a file grouped by affiliation\n",
    "    \"\"\"\n",
    "    # YOUR CODE HERE\n",
    "    \n"
   ]
  },
  {
   "cell_type": "code",
   "execution_count": 6,
   "id": "documented-crown",
   "metadata": {
    "deletable": false,
    "editable": true,
    "nbgrader": {
     "cell_type": "code",
     "checksum": "70f2fd17ccc3255f9cbe14b5a6baf12f",
     "grade": true,
     "grade_id": "cell-4485fa612388c633",
     "locked": true,
     "points": 1,
     "schema_version": 3,
     "solution": false,
     "task": false
    }
   },
   "outputs": [],
   "source": [
    "from solutions import get_usernames_by_affiliation\n",
    "users = get_usernames_by_affiliation('emails.txt')\n",
    "expected = {'kth': ['bonnie', 'scarlett'], 'chalmers': ['clyde', 'rhett']}  \n",
    "assert users == expected, f'\\n{users} \\n!= \\n{expected}'"
   ]
  },
  {
   "cell_type": "code",
   "execution_count": null,
   "id": "hearing-automation",
   "metadata": {
    "deletable": false,
    "editable": true,
    "nbgrader": {
     "cell_type": "code",
     "checksum": "0f07178bb415d03962838b1057752c10",
     "grade": true,
     "grade_id": "cell-252f3ca6ac3a00af",
     "locked": true,
     "points": 1,
     "schema_version": 3,
     "solution": false,
     "task": false
    }
   },
   "outputs": [],
   "source": []
  },
  {
   "cell_type": "markdown",
   "id": "c145112a-39ee-4342-812c-12ef906dafb5",
   "metadata": {},
   "source": [
    "```{admonition} Solution\n",
    ":class: dropdown\n",
    "~~~\n",
    "def get_usernames_by_affiliation(source: str) -> dict:\n",
    "    \"\"\"\n",
    "    Returns usernames from a file as a dictionary grouped by affiliation\n",
    "    \"\"\"\n",
    "    users = {}\n",
    "    with open(source) as f:\n",
    "        for line in f:\n",
    "            username, domain = line.split('@')\n",
    "            affiliation, _ = domain.split('.')\n",
    "            if affiliation not in users:\n",
    "                users[affiliation] = []\n",
    "            users[affiliation].append(username)\n",
    "    return users\n",
    "~~~\n",
    "```"
   ]
  },
  {
   "cell_type": "markdown",
   "id": "every-torture",
   "metadata": {},
   "source": [
    "## Level 2\n",
    "\n",
    "### Classes\n",
    "\n",
    "\n",
    "Based on dictionary input in the following form\n",
    "\n",
    "~~~\n",
    "{\n",
    "    'givenName': 'Anders',\n",
    "    'familyName': 'Söderholm',\n",
    "    'url': 'https://www.kth.se/profile/soderhol',\n",
    "    'email': 'rektor@kth.se',\n",
    "}\n",
    "~~~\n",
    "\n",
    "**1. Create an Employee class that takes this type of record data as input and which stores the values in instance attributes `first`, `last`, `email`**"
   ]
  },
  {
   "cell_type": "code",
   "execution_count": 7,
   "id": "united-treasury",
   "metadata": {
    "deletable": false,
    "nbgrader": {
     "cell_type": "code",
     "checksum": "869c277f885b19d1296050b4aef4307b",
     "grade": false,
     "grade_id": "cell-5bed954dde7d9e1e",
     "locked": false,
     "schema_version": 3,
     "solution": true,
     "task": false
    }
   },
   "outputs": [],
   "source": [
    "# YOUR CODE HERE\n"
   ]
  },
  {
   "cell_type": "code",
   "execution_count": 8,
   "id": "advised-alberta",
   "metadata": {
    "deletable": false,
    "editable": true,
    "nbgrader": {
     "cell_type": "code",
     "checksum": "ee731ada96fda5f070dfaca7f3f7fa24",
     "grade": true,
     "grade_id": "cell-86051b003641f730",
     "locked": true,
     "points": 1,
     "schema_version": 3,
     "solution": false,
     "task": false
    }
   },
   "outputs": [],
   "source": [
    "from solutions import Employee\n",
    "record = {\n",
    "    'givenName': 'Anders',\n",
    "    'familyName': 'Söderholm',\n",
    "    'url': 'https://www.kth.se/profile/soderhol',\n",
    "    'email': 'rektor@kth.se',\n",
    "}\n",
    "\n",
    "args = (record['givenName'], record['familyName'], record['email'])\n",
    "rector = Employee(*args)\n",
    "assert rector.first == 'Anders'\n",
    "assert rector.last == 'Söderholm'\n",
    "assert rector.email == 'rektor@kth.se'"
   ]
  },
  {
   "cell_type": "markdown",
   "id": "621f8390-06c2-4d46-982d-434ad2255763",
   "metadata": {},
   "source": [
    "```{admonition} Solution\n",
    ":class: dropdown\n",
    "~~~\n",
    "class Employee:\n",
    "    def __init__(self, first, last, email):\n",
    "        self.first = first\n",
    "        self.last = last\n",
    "        self.email = email\n",
    "~~~\n",
    "```"
   ]
  },
  {
   "cell_type": "markdown",
   "id": "transsexual-might",
   "metadata": {
    "deletable": false,
    "editable": true,
    "nbgrader": {
     "cell_type": "markdown",
     "checksum": "a567d49d06d19362df19509f966f6eee",
     "grade": false,
     "grade_id": "cell-ea3c6564c4ec4912",
     "locked": true,
     "schema_version": 3,
     "solution": false,
     "task": false
    }
   },
   "source": [
    "**2. Implement instance methods such that the following relations hold**"
   ]
  },
  {
   "cell_type": "code",
   "execution_count": 9,
   "id": "electronic-placement",
   "metadata": {
    "deletable": false,
    "editable": true,
    "nbgrader": {
     "cell_type": "code",
     "checksum": "afd281e8d62818c91c7ee00553a27d1a",
     "grade": true,
     "grade_id": "cell-3cb30633bae04d4f",
     "locked": true,
     "points": 1,
     "schema_version": 3,
     "solution": false,
     "task": false
    }
   },
   "outputs": [],
   "source": [
    "emp = Employee('Malvina', 'Sievert', 'malvina@kth.se')\n",
    "assert str(emp) == 'Malvina Sievert <malvina@kth.se>', f'\"{str(emp)}\" is incorrect'\n",
    "assert repr(emp) == 'Employee(\"Malvina\", \"Sievert\", \"malvina@kth.se\")', f'\"{repr(emp)}\" is incorrect'"
   ]
  },
  {
   "cell_type": "markdown",
   "id": "9d84e963-20ac-4859-b49b-bdbdf6a13686",
   "metadata": {},
   "source": [
    "```{admonition} Solution\n",
    ":class: dropdown\n",
    "~~~\n",
    "class Employee\n",
    "    ...\n",
    "    def __str__(self):\n",
    "        return f'{self.first} {self.last} <{self.email}>'\n",
    "\n",
    "    def __repr__(self):\n",
    "        return f'Employee(\"{self.first}\", \"{self.last}\", \"{self.email}\")'\n",
    "~~~\n",
    "```"
   ]
  },
  {
   "cell_type": "markdown",
   "id": "immediate-average",
   "metadata": {},
   "source": [
    "**3. Have a class variable `all` be a list which contain references to all created Employee records**"
   ]
  },
  {
   "cell_type": "code",
   "execution_count": 10,
   "id": "chief-semester",
   "metadata": {
    "deletable": false,
    "editable": true,
    "nbgrader": {
     "cell_type": "code",
     "checksum": "57f22db637b086afa8edc81a0c13b950",
     "grade": true,
     "grade_id": "cell-96206ee5afd04747",
     "locked": true,
     "points": 1,
     "schema_version": 3,
     "solution": false,
     "task": false
    }
   },
   "outputs": [],
   "source": [
    "Employee.all.clear()\n",
    "assert len(Employee.all) == 0, f'{len(Employee.all)} != 0'\n",
    "Employee(*args)\n",
    "assert len(Employee.all) == 1, f'{len(Employee.all)} != 1'"
   ]
  },
  {
   "cell_type": "markdown",
   "id": "a4c317da-c0ea-4abc-8fd6-b088bb5d4750",
   "metadata": {},
   "source": [
    "```{admonition} Solution\n",
    ":class: dropdown\n",
    "~~~\n",
    "class Employee:\n",
    "    all = []\n",
    "    def __init__(self, first, last, email):\n",
    "        self.first = first\n",
    "        self.last = last\n",
    "        self.email = email\n",
    "        Employee.all.append(self)\n",
    "    ...\n",
    "~~~\n",
    "```"
   ]
  },
  {
   "cell_type": "markdown",
   "id": "seven-tulsa",
   "metadata": {
    "deletable": false,
    "editable": true,
    "nbgrader": {
     "cell_type": "markdown",
     "checksum": "067724d1087b754f651e040a90471fee",
     "grade": false,
     "grade_id": "cell-510c51929c5b3d7e",
     "locked": true,
     "schema_version": 3,
     "solution": false,
     "task": false
    }
   },
   "source": [
    "**4. A method `to_mail_file` that takes the current state of the Employee class and writes a maillist file (as in ex 1)**"
   ]
  },
  {
   "cell_type": "code",
   "execution_count": 11,
   "id": "after-intervention",
   "metadata": {
    "deletable": false,
    "editable": true,
    "nbgrader": {
     "cell_type": "code",
     "checksum": "3b6dcdf1ceba189ce101dd6fb8f22c6b",
     "grade": true,
     "grade_id": "cell-2e3e6c6046d9cc36",
     "locked": true,
     "points": 1,
     "schema_version": 3,
     "solution": false,
     "task": false
    }
   },
   "outputs": [],
   "source": [
    "Employee.all.clear()\n",
    "Employee('Chip', '', 'chip@kth.se')\n",
    "Employee('Dale', '', 'dale@kth.se')\n",
    "\n",
    "Employee.to_mail_file('employees.txt')\n",
    "\n",
    "assert get_usernames('employees.txt') == ['chip', 'dale'], f'Incorrect: {get_usernames(\"employees.txt\")}'\n"
   ]
  },
  {
   "cell_type": "markdown",
   "id": "2ce95771-d1a9-4b1c-be74-e5bb523aa8b1",
   "metadata": {},
   "source": [
    "```{admonition} Solution\n",
    ":class: dropdown\n",
    "~~~\n",
    "class Employee:\n",
    "    ...\n",
    "    @staticmethod\n",
    "    def to_mail_file(filename):\n",
    "        with open(filename, 'w') as f:\n",
    "            for e in Employee.all:\n",
    "                print(e.email, file=f)\n",
    "~~~\n",
    "```"
   ]
  },
  {
   "cell_type": "markdown",
   "id": "extended-difficulty",
   "metadata": {
    "deletable": false,
    "editable": true,
    "nbgrader": {
     "cell_type": "markdown",
     "checksum": "ff7195b85445ccb1b5ebd80bd4a51aef",
     "grade": false,
     "grade_id": "cell-15648703b9fea6b3",
     "locked": true,
     "schema_version": 3,
     "solution": false,
     "task": false
    }
   },
   "source": [
    "## Level 3\n",
    "\n",
    "A decorator is normally applied in the file where a function is defined with the `@decorator` syntax on the line above the function definition. \n",
    "\n",
    "~~~\n",
    "@decorator\n",
    "def f():\n",
    "    ...\n",
    "~~~\n",
    "\n",
    "which is equivalent to a redefinition\n",
    "\n",
    "```\n",
    "f = decorator(f)\n",
    "```\n",
    "\n",
    "**1. Write a `ChalmersHack` decorator that modifiees all email addresses to\n",
    "end with `@chalmers.se`**\n",
    "\n"
   ]
  },
  {
   "cell_type": "code",
   "execution_count": 12,
   "id": "bridal-water",
   "metadata": {
    "deletable": false,
    "nbgrader": {
     "cell_type": "code",
     "checksum": "99ad1051ece659be15bd8aa4649eb176",
     "grade": false,
     "grade_id": "cell-d56d07f0f8902c20",
     "locked": false,
     "schema_version": 3,
     "solution": true,
     "task": false
    }
   },
   "outputs": [],
   "source": [
    "def ChalmersHack(cls):\n",
    "    # YOUR CODE HERE\n",
    "    ...\n",
    "    "
   ]
  },
  {
   "cell_type": "code",
   "execution_count": 13,
   "id": "ranking-bobby",
   "metadata": {
    "deletable": false,
    "editable": true,
    "nbgrader": {
     "cell_type": "code",
     "checksum": "cb851fb92e13b5b1d457b47af816b412",
     "grade": true,
     "grade_id": "cell-d40ea7172d8e4cdb",
     "locked": true,
     "points": 1,
     "schema_version": 3,
     "solution": false,
     "task": false
    }
   },
   "outputs": [],
   "source": [
    "from solutions import ChalmersHack\n",
    "_Employee = ChalmersHack(Employee)\n",
    "emp = _Employee('John', 'Doe', 'jd@kth.se')\n",
    "assert emp.email == 'jd@chalmers.se'"
   ]
  },
  {
   "cell_type": "markdown",
   "id": "50cc22f0-2dc9-4fb2-87d4-9effdb477af0",
   "metadata": {},
   "source": [
    "```{admonition} Solution\n",
    ":class: dropdown\n",
    "~~~\n",
    "def ChalmersHack(cls):\n",
    "    def wrapper(*args, **kwargs):\n",
    "        employee = cls(*args, **kwargs)\n",
    "        employee.email = employee.email.split('@')[0] + '@chalmers.se'\n",
    "        return employee\n",
    "    return wrapper\n",
    "~~~\n",
    "```"
   ]
  },
  {
   "cell_type": "markdown",
   "id": "center-exhaust",
   "metadata": {
    "deletable": false,
    "editable": true,
    "nbgrader": {
     "cell_type": "markdown",
     "checksum": "498d4c708a0cf17b1b3d7e58f2c3e68b",
     "grade": false,
     "grade_id": "cell-4befa92431837b91",
     "locked": true,
     "schema_version": 3,
     "solution": false,
     "task": false
    }
   },
   "source": [
    "**2. Write a function that looks up usernames in the KTH public database**\n",
    "\n",
    "Example:\n",
    "\n",
    "~~~\n",
    ">>> requests.get('https://api.kth.se/api/profile/1.1/soderholigbritt').json()\n",
    "{'givenName': 'Anders',\n",
    " 'familyName': 'Söderholm',\n",
    " 'url': 'https://www.kth.se/profile/soderhol',\n",
    " 'email': 'rektor@kth.se',\n",
    " 'image': 'https://www.kth.se/files/avatar/soderhol',\n",
    " 'telephone': '087907001',\n",
    " 'jobTitle': 'REKTOR',\n",
    " 'jobTitle-en': '',\n",
    " 'worksFor': [{'url': 'https://www.kth.se/directory/t/ta',\n",
    "   'name': 'UNIVERSITETSLEDNING',\n",
    "   'name-en': 'PRESIDENT AND MANAGEMENT'}],\n",
    " 'workLocation': 'BRINELLVÄGEN 8'}\n",
    "~~~\n",
    "\n",
    "First verify that the output in the cell below looks the same"
   ]
  },
  {
   "cell_type": "code",
   "execution_count": 14,
   "id": "executed-latest",
   "metadata": {
    "deletable": false,
    "editable": true,
    "nbgrader": {
     "cell_type": "code",
     "checksum": "dcd6455102363b1d0579fa5a3cbec49d",
     "grade": false,
     "grade_id": "cell-3d6916be02cacab5",
     "locked": true,
     "schema_version": 3,
     "solution": false,
     "task": false
    }
   },
   "outputs": [
    {
     "data": {
      "text/plain": [
       "{'givenName': 'Anders',\n",
       " 'familyName': 'Söderholm',\n",
       " 'url': 'https://www.kth.se/profile/soderhol',\n",
       " 'email': 'rektor@kth.se',\n",
       " 'image': 'https://www.kth.se/files/avatar/soderhol',\n",
       " 'telephone': '087907001',\n",
       " 'jobTitle': 'REKTOR',\n",
       " 'jobTitle-en': '',\n",
       " 'worksFor': [{'url': 'https://www.kth.se/directory/t/ta',\n",
       "   'name': 'UNIVERSITETSLEDNING',\n",
       "   'name-en': 'PRESIDENT AND MANAGEMENT'}],\n",
       " 'workLocation': 'BRINELLVÄGEN 8'}"
      ]
     },
     "execution_count": 14,
     "metadata": {},
     "output_type": "execute_result"
    }
   ],
   "source": [
    "requests.get('https://api.kth.se/api/profile/1.1/soderhol').json()"
   ]
  },
  {
   "cell_type": "markdown",
   "id": "angry-delta",
   "metadata": {
    "deletable": false,
    "editable": true,
    "nbgrader": {
     "cell_type": "markdown",
     "checksum": "e269116e09739fd002ec80098aea7dbf",
     "grade": false,
     "grade_id": "cell-f0dfc1e0a9dc75e8",
     "locked": true,
     "schema_version": 3,
     "solution": false,
     "task": false
    }
   },
   "source": [
    "**3. Write a generator functinon that takes a sequence of usernames as inputs that yields Employee record and the image urls as output**"
   ]
  },
  {
   "cell_type": "code",
   "execution_count": 15,
   "id": "involved-brighton",
   "metadata": {
    "deletable": false,
    "nbgrader": {
     "cell_type": "code",
     "checksum": "44aaf44a49a48d8860133fdd85fe44dc",
     "grade": false,
     "grade_id": "cell-d6ff720ac4b319c9",
     "locked": false,
     "schema_version": 3,
     "solution": true,
     "task": false
    }
   },
   "outputs": [],
   "source": [
    "def get_users(users):\n",
    "    # YOUR CODE HERE\n",
    "    ...\n",
    "    "
   ]
  },
  {
   "cell_type": "code",
   "execution_count": 16,
   "id": "passive-hello",
   "metadata": {
    "deletable": false,
    "editable": true,
    "nbgrader": {
     "cell_type": "code",
     "checksum": "e46f1fe5616313a6afc75ed800bdf7cb",
     "grade": true,
     "grade_id": "cell-58810442437f174d",
     "locked": true,
     "points": 1,
     "schema_version": 3,
     "solution": false,
     "task": false
    }
   },
   "outputs": [],
   "source": [
    "from solutions import get_users\n",
    "users = get_users(['soderhol', 'mil'])\n",
    "result = next(users)\n",
    "expected = Employee('Anders', 'Söderholm', 'rektor@kth.se'), 'https://www.kth.se/files/avatar/soderhol'\n",
    "\n",
    "assert result[1] == expected[1], f'\\n{result[1]} \\n!=\\n{expected[1]}'"
   ]
  },
  {
   "cell_type": "code",
   "execution_count": null,
   "id": "sophisticated-rebound",
   "metadata": {
    "deletable": false,
    "editable": true,
    "nbgrader": {
     "cell_type": "code",
     "checksum": "989a615bf44d6660d19752d1def2479f",
     "grade": true,
     "grade_id": "cell-a10526585a12624e",
     "locked": true,
     "points": 1,
     "schema_version": 3,
     "solution": false,
     "task": false
    }
   },
   "outputs": [],
   "source": []
  },
  {
   "cell_type": "markdown",
   "id": "c5b8a49b-2291-4014-8cdb-8a4c29146680",
   "metadata": {},
   "source": [
    "```{admonition} Solution\n",
    ":class: dropdown\n",
    "~~~\n",
    "def get_users(users):\n",
    "    url = 'https://api.kth.se/api/profile/1.1/'\n",
    "    for u in users:\n",
    "        r = requests.get(url + u).json()\n",
    "        yield Employee(r['givenName'], r['familyName'], r['email']), r['image']\n",
    "~~~\n",
    "```"
   ]
  },
  {
   "cell_type": "markdown",
   "id": "incorporated-filing",
   "metadata": {
    "deletable": false,
    "editable": true,
    "nbgrader": {
     "cell_type": "markdown",
     "checksum": "2eddcad7ddd55fa0f2e560366b83842a",
     "grade": false,
     "grade_id": "cell-36ccaf5c13ada363",
     "locked": true,
     "schema_version": 3,
     "solution": false,
     "task": false
    }
   },
   "source": [
    "Verify that you get images of the heads of KTH Schools with the final code "
   ]
  },
  {
   "cell_type": "code",
   "execution_count": 17,
   "id": "welsh-accused",
   "metadata": {
    "deletable": false,
    "editable": true,
    "nbgrader": {
     "cell_type": "code",
     "checksum": "f672a4ba278e30c32592031fe97f7f7a",
     "grade": false,
     "grade_id": "cell-119191383344123b",
     "locked": true,
     "schema_version": 3,
     "solution": false,
     "task": false
    }
   },
   "outputs": [
    {
     "data": {
      "text/html": [
       "<img src=\"https://www.kth.se/files/avatar/bber\"/>"
      ],
      "text/plain": [
       "<IPython.core.display.Image object>"
      ]
     },
     "metadata": {},
     "output_type": "display_data"
    },
    {
     "name": "stdout",
     "output_type": "stream",
     "text": [
      "Björn Berggren\n"
     ]
    },
    {
     "data": {
      "text/html": [
       "<img src=\"https://www.kth.se/files/avatar/ameliek\"/>"
      ],
      "text/plain": [
       "<IPython.core.display.Image object>"
      ]
     },
     "metadata": {},
     "output_type": "display_data"
    },
    {
     "name": "stdout",
     "output_type": "stream",
     "text": [
      "Amelie Eriksson Karlström\n"
     ]
    },
    {
     "data": {
      "text/html": [
       "<img src=\"https://www.kth.se/files/avatar/alz\"/>"
      ],
      "text/plain": [
       "<IPython.core.display.Image object>"
      ]
     },
     "metadata": {},
     "output_type": "display_data"
    },
    {
     "name": "stdout",
     "output_type": "stream",
     "text": [
      "Ann Lantz\n"
     ]
    },
    {
     "data": {
      "text/html": [
       "<img src=\"https://www.kth.se/files/avatar/parj\"/>"
      ],
      "text/plain": [
       "<IPython.core.display.Image object>"
      ]
     },
     "metadata": {},
     "output_type": "display_data"
    },
    {
     "name": "stdout",
     "output_type": "stream",
     "text": [
      "Pär Jönsson\n"
     ]
    },
    {
     "data": {
      "text/html": [
       "<img src=\"https://www.kth.se/files/avatar/dirocco\"/>"
      ],
      "text/plain": [
       "<IPython.core.display.Image object>"
      ]
     },
     "metadata": {},
     "output_type": "display_data"
    },
    {
     "name": "stdout",
     "output_type": "stream",
     "text": [
      "Sandra Di Rocco\n"
     ]
    }
   ],
   "source": [
    "skolchefer = ['bber', 'ameliek', 'alz', 'parj', 'dirocco']\n",
    "\n",
    "for record, image in get_users(skolchefer):\n",
    "    display(IPython.display.Image(url=image))\n",
    "    print(record.first, record.last)\n"
   ]
  },
  {
   "cell_type": "code",
   "execution_count": 18,
   "id": "blocked-label",
   "metadata": {
    "deletable": false,
    "editable": true,
    "nbgrader": {
     "cell_type": "code",
     "checksum": "9deeafe51a1b221d0d4a1b75278aaa15",
     "grade": true,
     "grade_id": "cell-a873ec5d8f44004b",
     "locked": true,
     "points": 1,
     "schema_version": 3,
     "solution": false,
     "task": false
    }
   },
   "outputs": [],
   "source": [
    "assert len(list(get_users(skolchefer))) == 5"
   ]
  }
 ],
 "metadata": {
  "kernelspec": {
   "display_name": "Python 3 (ipykernel)",
   "language": "python",
   "name": "python3"
  },
  "language_info": {
   "codemirror_mode": {
    "name": "ipython",
    "version": 3
   },
   "file_extension": ".py",
   "mimetype": "text/x-python",
   "name": "python",
   "nbconvert_exporter": "python",
   "pygments_lexer": "ipython3",
   "version": "3.12.0"
  }
 },
 "nbformat": 4,
 "nbformat_minor": 5
}
