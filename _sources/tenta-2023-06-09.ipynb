{
 "cells": [
  {
   "cell_type": "markdown",
   "id": "be4e4e7a",
   "metadata": {},
   "source": [
    "Before you turn this problem in, make sure everything runs as expected. First, **restart the kernel** (in the menubar, select Kernel$\\rightarrow$Restart) and then **run all cells** (in the menubar, select Cell$\\rightarrow$Run All).\n",
    "\n",
    "Make sure you fill in any place that says `YOUR CODE HERE` or \"YOUR ANSWER HERE\", as well as your name and collaborators below:"
   ]
  },
  {
   "cell_type": "code",
   "execution_count": null,
   "id": "a298fce6",
   "metadata": {},
   "outputs": [],
   "source": [
    "NAME = \"\"\n",
    "PERSON_NUMBER = \"\""
   ]
  },
  {
   "cell_type": "markdown",
   "id": "a0ac0172",
   "metadata": {},
   "source": [
    "---"
   ]
  },
  {
   "cell_type": "markdown",
   "id": "de2b9fbf",
   "metadata": {},
   "source": [
    "# Tenta 2023-06-09 8:00-12:00\n",
    "\n"
   ]
  },
  {
   "cell_type": "markdown",
   "id": "0f87d678",
   "metadata": {},
   "source": [
    "## Part 1\n",
    "\n",
    "Here we use data from the git lab (git-2023-04-19). Use the current version of `booklist.txt` in what follows.\n",
    "\n",
    "* The data in the file is close to a csv file but the formatting is not consistent all over: separation between author and title is often a comma, but somtimes by `-`, sometimes the word `by` and similar. Start by writing a script that cleans the data and saves the book in a pure csv file `booklist.csv`\n",
    "\n",
    "* Let the new csv-file have semi-colon as separator, to allow for comma in title. In this sample we accept the simplication that there are no books with more than two authors.\n",
    "\n",
    "(4p)"
   ]
  },
  {
   "cell_type": "code",
   "execution_count": null,
   "id": "0bcd73b7",
   "metadata": {},
   "outputs": [],
   "source": [
    "!git clone git@gits-15.sys.kth.se:bb1000/git-2023-04-19"
   ]
  },
  {
   "cell_type": "code",
   "execution_count": null,
   "id": "23097afd",
   "metadata": {
    "deletable": false,
    "nbgrader": {
     "cell_type": "code",
     "checksum": "3a0a4f5d1cc839fd68b0d40598aea026",
     "grade": false,
     "grade_id": "cell-9a7763cb656ee883",
     "locked": false,
     "schema_version": 3,
     "solution": true,
     "task": false
    }
   },
   "outputs": [],
   "source": [
    "# transform `booklist.txt` to `booklist.csv`\n",
    "from pathlib import Path\n",
    "\n",
    "source = Path('git-2023-04-19') / 'booklist.txt'\n",
    "target = 'booklist.csv'\n",
    "\n",
    "with open(target, 'w') as csvfile:\n",
    "    csvfile.write('title;author\\n')\n",
    "    for line in open(source):\n",
    "        # YOUR CODE HERE\n",
    "        ################"
   ]
  },
  {
   "cell_type": "markdown",
   "id": "2032bbd6",
   "metadata": {},
   "source": [
    "### Verification"
   ]
  },
  {
   "cell_type": "code",
   "execution_count": null,
   "id": "0cd892d4",
   "metadata": {
    "deletable": false,
    "editable": false,
    "nbgrader": {
     "cell_type": "code",
     "checksum": "ccbb64be133c726dac15cf277051dc46",
     "grade": true,
     "grade_id": "cell-d9970f4369104a3d",
     "locked": true,
     "points": 1,
     "schema_version": 3,
     "solution": false,
     "task": false
    }
   },
   "outputs": [],
   "source": [
    "# Verify the transformation of `by`:\n",
    "# Pro Git by Scott Chacon and Ben Straub\n",
    "\n",
    "books = open('booklist.csv').read()\n",
    "assert \"Pro Git;Scott Chacon and Ben Straub\\n\" in books"
   ]
  },
  {
   "cell_type": "code",
   "execution_count": null,
   "id": "03911589",
   "metadata": {
    "deletable": false,
    "editable": false,
    "nbgrader": {
     "cell_type": "code",
     "checksum": "671e5af57aa6bd589777f998fafb32e9",
     "grade": true,
     "grade_id": "cell-926e2f285977660e",
     "locked": true,
     "points": 1,
     "schema_version": 3,
     "solution": false,
     "task": false
    }
   },
   "outputs": [],
   "source": [
    "# Verify the transformation of `-`\n",
    "# Allegro Pastell - Leif Randt\n",
    "\n",
    "assert \"Allegro Pastell;Leif Randt\\n\" in books"
   ]
  },
  {
   "cell_type": "code",
   "execution_count": null,
   "id": "b6baed2d",
   "metadata": {
    "deletable": false,
    "editable": false,
    "nbgrader": {
     "cell_type": "code",
     "checksum": "b0969346e21aff2f8ae0c998df706efb",
     "grade": true,
     "grade_id": "cell-098f595ec2ff62e8",
     "locked": true,
     "points": 1,
     "schema_version": 3,
     "solution": false,
     "task": false
    }
   },
   "outputs": [],
   "source": [
    "# Verify that lacking author gets an `Unknown entry`\n",
    "assert \"Formel i hallfastighetslara;Unknown\\n\" in books"
   ]
  },
  {
   "cell_type": "code",
   "execution_count": null,
   "id": "535b7d2e",
   "metadata": {
    "deletable": false,
    "editable": false,
    "nbgrader": {
     "cell_type": "code",
     "checksum": "509699b7bd70d122df453ec82b1041f2",
     "grade": true,
     "grade_id": "cell-c259d79d4907b051",
     "locked": true,
     "points": 1,
     "schema_version": 3,
     "solution": false,
     "task": false
    }
   },
   "outputs": [],
   "source": [
    "# Verify only one separator `;` per line in the transformed file\n",
    "entries_per_line = [line.count(';') for line in open('booklist.csv')]\n",
    "assert set(entries_per_line) == {1}, entries_per_line"
   ]
  },
  {
   "cell_type": "markdown",
   "id": "c9a52c72",
   "metadata": {
    "deletable": false,
    "editable": false,
    "nbgrader": {
     "cell_type": "markdown",
     "checksum": "e68140a1df538752b6ec8587ebb120b9",
     "grade": false,
     "grade_id": "cell-994a03e4c537fe41",
     "locked": true,
     "schema_version": 3,
     "solution": false,
     "task": false
    }
   },
   "source": [
    "\n",
    "## Part 2\n",
    "\n",
    "* Use the generated csv file to create a dictionary that maps a title to an author. Implement this in a function `csv_to_dict`\n"
   ]
  },
  {
   "cell_type": "code",
   "execution_count": null,
   "id": "274d2d23",
   "metadata": {
    "deletable": false,
    "nbgrader": {
     "cell_type": "code",
     "checksum": "316187ee377a9325721ea5b824f6082b",
     "grade": false,
     "grade_id": "cell-5f2ab8ed945c9bf7",
     "locked": false,
     "schema_version": 3,
     "solution": true,
     "task": false
    }
   },
   "outputs": [],
   "source": [
    "# YOUR CODE HERE\n",
    "################"
   ]
  },
  {
   "cell_type": "code",
   "execution_count": null,
   "id": "b420e022",
   "metadata": {
    "deletable": false,
    "editable": false,
    "nbgrader": {
     "cell_type": "code",
     "checksum": "583fa53f2483ed708258ac8914d3e34c",
     "grade": true,
     "grade_id": "cell-d9c9c1c0fa57a858",
     "locked": true,
     "points": 1,
     "schema_version": 3,
     "solution": false,
     "task": false
    }
   },
   "outputs": [],
   "source": [
    "books = csv_to_dict('booklist.csv', sep=';')\n",
    "assert type(books) == dict\n",
    "assert books['1984'] == 'George Orwell'"
   ]
  },
  {
   "cell_type": "markdown",
   "id": "d41a6ed9",
   "metadata": {},
   "source": [
    "* Dictinaries preserve the order in which they were created. Make sure that the data is sorted by title so that there first entry in the dictionary is the *1984* novel"
   ]
  },
  {
   "cell_type": "code",
   "execution_count": null,
   "id": "1368eda4",
   "metadata": {
    "deletable": false,
    "editable": false,
    "nbgrader": {
     "cell_type": "code",
     "checksum": "6e456a35009ddb8d8b699ebdf78aa103",
     "grade": true,
     "grade_id": "cell-da3a9a0a9df1c647",
     "locked": true,
     "points": 1,
     "schema_version": 3,
     "solution": false,
     "task": false
    }
   },
   "outputs": [],
   "source": [
    "assert list(books.items())[0] == ('1984', 'George Orwell')"
   ]
  },
  {
   "cell_type": "markdown",
   "id": "18013f15",
   "metadata": {},
   "source": [
    "* Reimplement these concepts into a class such that"
   ]
  },
  {
   "cell_type": "code",
   "execution_count": null,
   "id": "a86c649b",
   "metadata": {
    "deletable": false,
    "nbgrader": {
     "cell_type": "code",
     "checksum": "a23eb9fdf864a8dc07913a38bb46454b",
     "grade": false,
     "grade_id": "cell-485dea1be87db90b",
     "locked": false,
     "schema_version": 3,
     "solution": true,
     "task": false
    }
   },
   "outputs": [],
   "source": [
    "class Books:\n",
    "    # YOUR CODE HERE\n",
    "    ################"
   ]
  },
  {
   "cell_type": "code",
   "execution_count": null,
   "id": "6ac52701",
   "metadata": {
    "deletable": false,
    "editable": false,
    "nbgrader": {
     "cell_type": "code",
     "checksum": "373e8c043f07e70b784028159e81dcc8",
     "grade": true,
     "grade_id": "cell-41e269deeedf1b19",
     "locked": true,
     "points": 1,
     "schema_version": 3,
     "solution": false,
     "task": false
    }
   },
   "outputs": [],
   "source": [
    "books = Books('booklist.csv')\n",
    "\n",
    "assert list(books.to_dict().items())[0] == ('1984', 'George Orwell')"
   ]
  },
  {
   "cell_type": "code",
   "execution_count": null,
   "id": "5925a4da",
   "metadata": {
    "deletable": false,
    "editable": false,
    "nbgrader": {
     "cell_type": "code",
     "checksum": "dc620f3521febfae24c96cedb723ffc5",
     "grade": true,
     "grade_id": "cell-249a6af80039fa30",
     "locked": true,
     "points": 1,
     "schema_version": 3,
     "solution": false,
     "task": false
    }
   },
   "outputs": [],
   "source": [
    "assert books['1984'] == 'George Orwell', books['1984']"
   ]
  },
  {
   "cell_type": "markdown",
   "id": "1bb3d105",
   "metadata": {},
   "source": [
    "## Part 3\n",
    "\n",
    "We build on the previous class by adding search functions. Let the instance method `find_title` such that\n",
    "\n",
    "~~~\n",
    ">>> for title in books.find_title('python'):\n",
    "...     print(title)\n",
    "Automate the Boring Stuff with Python\n",
    "Python Cookbook\n",
    "Python For Dummies\n",
    "~~~\n",
    "\n",
    "i.e. let the matching ignore case. To anticipate very large files this should result in a generator"
   ]
  },
  {
   "cell_type": "code",
   "execution_count": null,
   "id": "84a2512b",
   "metadata": {
    "deletable": false,
    "nbgrader": {
     "cell_type": "code",
     "checksum": "7729de8cac68e1c0607dbfa5090b28e9",
     "grade": false,
     "grade_id": "cell-61326ce87f60dbc4",
     "locked": false,
     "schema_version": 3,
     "solution": true,
     "task": false
    }
   },
   "outputs": [],
   "source": [
    "def find_title(self, search):\n",
    "    # YOUR CODE HERE\n",
    "    ################\n",
    "    \n",
    "Books.find_title = find_title\n",
    "books = Books('booklist.csv')"
   ]
  },
  {
   "cell_type": "code",
   "execution_count": null,
   "id": "383e2dd8",
   "metadata": {
    "deletable": false,
    "editable": false,
    "nbgrader": {
     "cell_type": "code",
     "checksum": "cc28a4741d720104e9fe1b51b43e077f",
     "grade": true,
     "grade_id": "cell-696354e140f231e4",
     "locked": true,
     "points": 1,
     "schema_version": 3,
     "solution": false,
     "task": false
    }
   },
   "outputs": [],
   "source": [
    "# is it a generator?\n",
    "python_books = books.find_title('python')\n",
    "assert iter(python_books) == python_books"
   ]
  },
  {
   "cell_type": "code",
   "execution_count": null,
   "id": "3878f863",
   "metadata": {
    "deletable": false,
    "editable": false,
    "nbgrader": {
     "cell_type": "code",
     "checksum": "a8ebfb5ad1f974aff25c247e27aeeab0",
     "grade": true,
     "grade_id": "cell-e4eb983cc2c733a9",
     "locked": true,
     "points": 1,
     "schema_version": 3,
     "solution": false,
     "task": false
    }
   },
   "outputs": [],
   "source": [
    "python_books = books.find_title('python')\n",
    "assert list(python_books) ==[\n",
    "    'Automate the Boring Stuff with Python',\n",
    "    'Python Cookbook',\n",
    "    'Python For Dummies'\n",
    "]"
   ]
  },
  {
   "cell_type": "markdown",
   "id": "bdf762b1",
   "metadata": {},
   "source": [
    "* Build on the previous example to search in the author field and return the titles for case-insensitive author matches"
   ]
  },
  {
   "cell_type": "code",
   "execution_count": null,
   "id": "58743419",
   "metadata": {
    "deletable": false,
    "nbgrader": {
     "cell_type": "code",
     "checksum": "632f211da67329c60ef2f816320f248f",
     "grade": false,
     "grade_id": "cell-122170bfa7ee520d",
     "locked": false,
     "schema_version": 3,
     "solution": true,
     "task": false
    }
   },
   "outputs": [],
   "source": [
    "def find_author_titles(self, search):\n",
    "    # YOUR CODE HERE\n",
    "    ################\n",
    "    \n",
    "Books.find_author_titles = find_author_titles\n",
    "books = Books('booklist.csv')"
   ]
  },
  {
   "cell_type": "code",
   "execution_count": null,
   "id": "f006cd40",
   "metadata": {
    "deletable": false,
    "editable": false,
    "nbgrader": {
     "cell_type": "code",
     "checksum": "deebef1db5d742203cdc6cc001e2bc47",
     "grade": true,
     "grade_id": "cell-e76a631471721456",
     "locked": true,
     "points": 1,
     "schema_version": 3,
     "solution": false,
     "task": false
    }
   },
   "outputs": [],
   "source": [
    "assert list(books.find_author_titles('Strindberg')) == ['En dåres försvarstal', 'Roda rummet']"
   ]
  },
  {
   "cell_type": "markdown",
   "id": "2d315934",
   "metadata": {},
   "source": [
    "* Define a decorator that takes a function returning a dictionary to instead return a pandas Series object. We apply this to the to_dict method of our class as below"
   ]
  },
  {
   "cell_type": "code",
   "execution_count": null,
   "id": "b5f0321b",
   "metadata": {
    "deletable": false,
    "nbgrader": {
     "cell_type": "code",
     "checksum": "cab0984738cebdec34bf98854ed3737f",
     "grade": false,
     "grade_id": "cell-2482495dad6a826d",
     "locked": false,
     "schema_version": 3,
     "solution": true,
     "task": false
    }
   },
   "outputs": [],
   "source": [
    "import pandas as pd\n",
    "def dict_to_series(f):\n",
    "    # YOUR CODE HERE\n",
    "    ################"
   ]
  },
  {
   "cell_type": "code",
   "execution_count": null,
   "id": "e28da768",
   "metadata": {
    "deletable": false,
    "editable": false,
    "nbgrader": {
     "cell_type": "code",
     "checksum": "430bed2cea47aff851def95aec9cd098",
     "grade": false,
     "grade_id": "cell-a8d10a754d23da0c",
     "locked": true,
     "schema_version": 3,
     "solution": false,
     "task": false
    }
   },
   "outputs": [],
   "source": [
    "Books.to_series = dict_to_series(Books.to_dict)\n",
    "books = Books('booklist.csv')"
   ]
  },
  {
   "cell_type": "code",
   "execution_count": null,
   "id": "ffa1ba0b",
   "metadata": {
    "deletable": false,
    "editable": false,
    "nbgrader": {
     "cell_type": "code",
     "checksum": "19090b4cb8325ef578dd35aa9a8d771f",
     "grade": true,
     "grade_id": "cell-e019b7ccb9c03c5c",
     "locked": true,
     "points": 1,
     "schema_version": 3,
     "solution": false,
     "task": false
    }
   },
   "outputs": [],
   "source": [
    "assert type(books.to_dict()) == dict\n",
    "assert type(books.to_series()) == pd.Series\n",
    "assert books.to_series()['1984'] == 'George Orwell'"
   ]
  }
 ],
 "metadata": {
  "kernelspec": {
   "display_name": "Python 3 (ipykernel)",
   "language": "python",
   "name": "python3"
  },
  "language_info": {
   "codemirror_mode": {
    "name": "ipython",
    "version": 3
   },
   "file_extension": ".py",
   "mimetype": "text/x-python",
   "name": "python",
   "nbconvert_exporter": "python",
   "pygments_lexer": "ipython3",
   "version": "3.11.1"
  }
 },
 "nbformat": 4,
 "nbformat_minor": 5
}
