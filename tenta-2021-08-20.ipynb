{
 "cells": [
  {
   "cell_type": "markdown",
   "id": "monthly-death",
   "metadata": {},
   "source": [
    "# Tenta 2021-08-20"
   ]
  },
  {
   "cell_type": "markdown",
   "id": "choice-breed",
   "metadata": {
    "deletable": false,
    "editable": true,
    "nbgrader": {
     "cell_type": "markdown",
     "checksum": "08f48e1c1afaea6909c2d2f049d43717",
     "grade": false,
     "grade_id": "cell-dbf6fdd0f81450b6",
     "locked": true,
     "schema_version": 3,
     "solution": false,
     "task": false
    }
   },
   "source": [
    "## Requirements\n",
    "\n",
    "For the whole exam you should be able to import the following libraries"
   ]
  },
  {
   "cell_type": "code",
   "execution_count": 1,
   "id": "lesbian-rebel",
   "metadata": {
    "deletable": false,
    "editable": true,
    "nbgrader": {
     "cell_type": "code",
     "checksum": "8de20488d6ee3153a1c6589ef37cfbe6",
     "grade": false,
     "grade_id": "cell-470bd66004ee59ba",
     "locked": true,
     "schema_version": 3,
     "solution": false,
     "task": false
    }
   },
   "outputs": [],
   "source": [
    "import pandas"
   ]
  },
  {
   "cell_type": "markdown",
   "id": "natural-flight",
   "metadata": {
    "deletable": false,
    "editable": true,
    "nbgrader": {
     "cell_type": "markdown",
     "checksum": "1572d7204dfc72631b208d193f14c5d1",
     "grade": false,
     "grade_id": "cell-478a406c0308da30",
     "locked": true,
     "schema_version": 3,
     "solution": false,
     "task": false
    }
   },
   "source": [
    "## Level 1\n"
   ]
  },
  {
   "cell_type": "markdown",
   "id": "elder-glass",
   "metadata": {
    "deletable": false,
    "editable": true,
    "nbgrader": {
     "cell_type": "markdown",
     "checksum": "0fe67d63d4097362f2b8a12c11b417ed",
     "grade": false,
     "grade_id": "cell-16f6b03afb099fa3",
     "locked": true,
     "schema_version": 3,
     "solution": false,
     "task": false
    }
   },
   "source": [
    "**1. The file `market-price.csv` contains historical daily bitcoin data for the recent year. Write a function that extracts the value in dollars for a given date**\n",
    "\n",
    "This can be a simple implementation looping over the lines of the file processing the line\n",
    "with the matching date. Not that the return value is expected to be of type float\n",
    "\n",
    "~~~\n",
    ">>> get_usd('2021-04-01', 'market-price.csv')\n",
    "58735.25\n",
    "~~~\n",
    "\n",
    "The file has the structure\n",
    "\n",
    "    2020-08-20 00:00:00,11734.0\n",
    "    2020-08-21 00:00:00,11865.82\n",
    "    2020-08-22 00:00:00,11522.8\n",
    "    ..."
   ]
  },
  {
   "cell_type": "code",
   "execution_count": 2,
   "id": "prescribed-november",
   "metadata": {
    "deletable": false,
    "nbgrader": {
     "cell_type": "code",
     "checksum": "4cd85b8615516f15eb1f2fa44cb6bd81",
     "grade": false,
     "grade_id": "cell-f822b8fd33ae224e",
     "locked": false,
     "schema_version": 3,
     "solution": true,
     "task": false
    }
   },
   "outputs": [],
   "source": [
    "def get_usd(date_string, filename):\n",
    "    \"\"\"\n",
    "    Returns exchange rate in file for given date\n",
    "    \"\"\"\n",
    "    # YOUR CODE HERE\n",
    "    "
   ]
  },
  {
   "cell_type": "code",
   "execution_count": 3,
   "id": "architectural-preparation",
   "metadata": {
    "deletable": false,
    "editable": true,
    "nbgrader": {
     "cell_type": "code",
     "checksum": "16c0b4bbb219d377e94e33222dc90c30",
     "grade": true,
     "grade_id": "cell-6d536596d441b56e",
     "locked": true,
     "points": 1,
     "schema_version": 3,
     "solution": false,
     "task": false
    }
   },
   "outputs": [],
   "source": [
    "from solutions import get_usd\n",
    "result = get_usd('2021-04-01', 'market-price.csv')\n",
    "expected = 58735.25\n",
    "assert result == expected, f'{result} != {expected}'\n",
    "\n",
    "assert get_usd('2021-08-19', 'market-price.csv') == 44777.86"
   ]
  },
  {
   "cell_type": "markdown",
   "id": "ccfa3608-d65d-4361-9ba6-4235c6eb03b2",
   "metadata": {},
   "source": [
    "```{admonition} Solution\n",
    ":class: dropdown\n",
    "~~~\n",
    "def get_usd(date_string, filename):\n",
    "    \"\"\"\n",
    "    Returns exchange rate in file for given date\n",
    "    \"\"\"\n",
    "    with open(filename) as f:\n",
    "        for line in f:\n",
    "            date, value = line.split(',')\n",
    "            if date[:10] == date_string:\n",
    "                break\n",
    "    return float(value)\n",
    "~~~\n",
    "```"
   ]
  },
  {
   "cell_type": "markdown",
   "id": "desirable-deputy",
   "metadata": {
    "deletable": false,
    "editable": true,
    "nbgrader": {
     "cell_type": "markdown",
     "checksum": "76a70a008e694268975d6fa7c7857993",
     "grade": false,
     "grade_id": "cell-0e1475e62309c263",
     "locked": true,
     "schema_version": 3,
     "solution": false,
     "task": false
    }
   },
   "source": [
    "**2. Read tha data values to a dictionary**\n",
    "\n",
    "Let the date format be a string in isoformat YYYY-MM-DD, which is the dictionary key and the exchange rate the\n",
    "dictionary value\n"
   ]
  },
  {
   "cell_type": "code",
   "execution_count": 4,
   "id": "divine-effectiveness",
   "metadata": {
    "deletable": false,
    "nbgrader": {
     "cell_type": "code",
     "checksum": "6b3d850bbcee7e678a5aa0b86ff43cc1",
     "grade": false,
     "grade_id": "cell-fff1cc445821fd2a",
     "locked": false,
     "schema_version": 3,
     "solution": true,
     "task": false
    }
   },
   "outputs": [],
   "source": [
    "def get_usd_as_dict(filename):\n",
    "    \"\"\"\n",
    "    Returns a dictionary with dates as keys and exchange rate as values\n",
    "    \"\"\"\n",
    "    # YOUR CODE HERE\n",
    "    "
   ]
  },
  {
   "cell_type": "code",
   "execution_count": 5,
   "id": "otherwise-bench",
   "metadata": {
    "deletable": false,
    "editable": true,
    "nbgrader": {
     "cell_type": "code",
     "checksum": "e8ade0f11e1cbe946e3c96a7e37c9f09",
     "grade": true,
     "grade_id": "cell-46b7195daa3616fd",
     "locked": true,
     "points": 1,
     "schema_version": 3,
     "solution": false,
     "task": false
    }
   },
   "outputs": [],
   "source": [
    "from solutions import get_usd_as_dict\n",
    "usd = get_usd_as_dict('market-price.csv')\n",
    "assert usd['2021-04-01'] == 58735.25"
   ]
  },
  {
   "cell_type": "markdown",
   "id": "aa41ff45-bce8-4543-b6ad-4c8bb3de2904",
   "metadata": {},
   "source": [
    "```{admonition} Solution\n",
    ":class: dropdown\n",
    "~~~\n",
    "def get_usd_as_dict(filename):\n",
    "    \"\"\"\n",
    "    Returns a dictionary with dates as keys and exchange rate as values\n",
    "    \"\"\"\n",
    "    d = {}\n",
    "    with open(filename) as f:\n",
    "        for line in f:\n",
    "            date, value = line.split(',')\n",
    "            d[date[:10]] = float(value)\n",
    "    return d\n",
    "~~~\n",
    "```"
   ]
  },
  {
   "cell_type": "markdown",
   "id": "female-parameter",
   "metadata": {},
   "source": [
    "**3. At which date was the exchange rate highest?**\n",
    "\n",
    "Write a function which takes a dictionary of the form of assignment 2 and returns the date with the highest rate.\n",
    "\n",
    "Hint: look up the documentation for `sorted`.\n",
    "\n"
   ]
  },
  {
   "cell_type": "code",
   "execution_count": 6,
   "id": "specialized-israeli",
   "metadata": {
    "deletable": false,
    "nbgrader": {
     "cell_type": "code",
     "checksum": "2fbf7e817aff8659fa3b27fce63c0ca5",
     "grade": false,
     "grade_id": "cell-d6f7f3efe0d9d995",
     "locked": false,
     "schema_version": 3,
     "solution": true,
     "task": false
    }
   },
   "outputs": [],
   "source": [
    "def get_index_max_value(dct):\n",
    "    # YOUR CODE HERE\n",
    "    ...\n",
    "    "
   ]
  },
  {
   "cell_type": "code",
   "execution_count": 7,
   "id": "coastal-identification",
   "metadata": {
    "deletable": false,
    "editable": true,
    "nbgrader": {
     "cell_type": "code",
     "checksum": "0c1b6665779c6716574474f548d6babc",
     "grade": true,
     "grade_id": "cell-f3e3cea29770d038",
     "locked": true,
     "points": 0,
     "schema_version": 3,
     "solution": false,
     "task": false
    }
   },
   "outputs": [],
   "source": [
    "from solutions import get_index_max_value\n",
    "assert get_index_max_value(usd) == '2021-04-14'\n",
    "assert usd['2021-04-14'] == 63554.44"
   ]
  },
  {
   "cell_type": "markdown",
   "id": "432b3164-3839-487e-8cd5-eeec4fcd21c3",
   "metadata": {},
   "source": [
    "```{admonition} Solution\n",
    ":class: dropdown\n",
    "~~~\n",
    "def get_index_max_value(dct):\n",
    "    return sorted(dct, key=lambda k: dct[k])[-1]\n",
    "~~~\n",
    "```"
   ]
  },
  {
   "cell_type": "markdown",
   "id": "designing-server",
   "metadata": {},
   "source": [
    "**4. Dollar cost averaging**\n",
    "\n",
    "Dollar cost averaging (DCA) means to save a fixed amount in dollars on a regular basis. An asset with large variation in value over time is high risk saving, but DCA is beleived to reduce risk in a longer perspective. Assume that you save 1 dollar per day converting it to btc without any exchange fees. What is the total btc accumulated  during this year.\n"
   ]
  },
  {
   "cell_type": "code",
   "execution_count": 8,
   "id": "naughty-general",
   "metadata": {
    "deletable": false,
    "nbgrader": {
     "cell_type": "code",
     "checksum": "3702c5948a715348a4cadda84bd31781",
     "grade": false,
     "grade_id": "cell-cb69b552e147b3dc",
     "locked": false,
     "schema_version": 3,
     "solution": true,
     "task": false
    }
   },
   "outputs": [],
   "source": [
    "def dca(dct):\n",
    "    \"\"\"\n",
    "    Return total btc acuumulated from $1/day\n",
    "    \"\"\"\n",
    "    # YOUR CODE HERE\n",
    "    "
   ]
  },
  {
   "cell_type": "code",
   "execution_count": 9,
   "id": "distinct-crawford",
   "metadata": {
    "deletable": false,
    "editable": true,
    "nbgrader": {
     "cell_type": "code",
     "checksum": "b0e0a4c0f6aa79d14276ecdda2329095",
     "grade": true,
     "grade_id": "cell-6f1176f4ef0dbb1c",
     "locked": true,
     "points": 1,
     "schema_version": 3,
     "solution": false,
     "task": false
    }
   },
   "outputs": [],
   "source": [
    "from solutions import dca\n",
    "assert dca({'2008-01-01': 10, '2008-01-02': 40}) == .125\n",
    "assert round(dca(usd), 8) == 0.01529260  # values is a dict from assignment 2"
   ]
  },
  {
   "cell_type": "markdown",
   "id": "d692e201-a72f-4464-9e9f-bde779618b1b",
   "metadata": {},
   "source": [
    "```{admonition} Solution\n",
    ":class: dropdown\n",
    "~~~\n",
    "def dca(dct):\n",
    "    \"\"\"\n",
    "    Return total btc acuumulated from $1/day\n",
    "    \"\"\"\n",
    "    btc = 0\n",
    "    daily = 1.0\n",
    "    for v in dct.values():\n",
    "        btc += daily/v\n",
    "    return btc\n",
    "~~~\n",
    "```"
   ]
  },
  {
   "cell_type": "markdown",
   "id": "weighted-norway",
   "metadata": {
    "deletable": false,
    "editable": true,
    "nbgrader": {
     "cell_type": "markdown",
     "checksum": "2633f1179e888fb75d8308ac721c0737",
     "grade": false,
     "grade_id": "cell-c41f7137afc12cda",
     "locked": true,
     "schema_version": 3,
     "solution": false,
     "task": false
    }
   },
   "source": [
    "*Observation*:\n",
    "the total invested and  value at the end of the year"
   ]
  },
  {
   "cell_type": "code",
   "execution_count": 10,
   "id": "sharing-accident",
   "metadata": {
    "deletable": false,
    "editable": true,
    "nbgrader": {
     "cell_type": "code",
     "checksum": "837d5280dad7efc221aeff046526e048",
     "grade": false,
     "grade_id": "cell-b097f8ea4cb75012",
     "locked": true,
     "schema_version": 3,
     "solution": false,
     "task": false
    }
   },
   "outputs": [
    {
     "name": "stdout",
     "output_type": "stream",
     "text": [
      "The total invested: 365\n",
      "Value after one year 684.77\n"
     ]
    }
   ],
   "source": [
    "print('The total invested:', len(usd))\n",
    "print('Value after one year', round(dca(usd) * list(usd.values())[-1], 2))"
   ]
  },
  {
   "cell_type": "markdown",
   "id": "every-torture",
   "metadata": {},
   "source": [
    "## Level 2\n",
    "\n",
    "**5. Use of pandas**\n",
    "\n",
    "Read in the data in `market-price.csv` as a pandas DataFrame. Initially it may look ill-formatted, if the data file does not have headers if its own\n",
    "\n",
    "          2020-08-20 00:00:00 \t11734.0\n",
    "    0 \t2020-08-21 00:00:00 \t11865.82\n",
    "    1 \t2020-08-22 00:00:00 \t11522.80\n",
    "    2 \t2020-08-23 00:00:00 \t11683.44\n",
    "    ... \n",
    "  "
   ]
  },
  {
   "cell_type": "code",
   "execution_count": 11,
   "id": "united-treasury",
   "metadata": {
    "deletable": false,
    "nbgrader": {
     "cell_type": "code",
     "checksum": "f7521ebf0b98a346a8b9e70c4fc4cdb6",
     "grade": false,
     "grade_id": "cell-5bed954dde7d9e1e",
     "locked": false,
     "schema_version": 3,
     "solution": true,
     "task": false
    }
   },
   "outputs": [],
   "source": [
    "import pandas\n",
    "data = (\n",
    "    # YOUR CODE HERE\n",
    "    ...\n",
    ")\n",
    "# data.head()"
   ]
  },
  {
   "cell_type": "code",
   "execution_count": 12,
   "id": "advised-alberta",
   "metadata": {
    "deletable": false,
    "editable": true,
    "nbgrader": {
     "cell_type": "code",
     "checksum": "a5eb386a707c49d3977817d18f7eb9ac",
     "grade": true,
     "grade_id": "cell-86051b003641f730",
     "locked": true,
     "points": 1,
     "schema_version": 3,
     "solution": false,
     "task": false
    }
   },
   "outputs": [],
   "source": [
    "from solutions import data0 as data\n",
    "assert isinstance(data, pandas.DataFrame)"
   ]
  },
  {
   "cell_type": "markdown",
   "id": "16aa2c37-3637-4634-8089-0fbe02a2e776",
   "metadata": {},
   "source": [
    "```{admonition} Solution\n",
    ":class: dropdown\n",
    "~~~\n",
    "pandas.read_csv('market-price.csv')\n",
    "~~~\n",
    "```"
   ]
  },
  {
   "cell_type": "markdown",
   "id": "confident-butler",
   "metadata": {
    "deletable": false,
    "editable": true,
    "nbgrader": {
     "cell_type": "markdown",
     "checksum": "56d7060c5eb97b223c07452d8d397d1b",
     "grade": false,
     "grade_id": "cell-ea3c6564c4ec4912",
     "locked": true,
     "schema_version": 3,
     "solution": false,
     "task": false
    }
   },
   "source": [
    "**6. Find options in 5. so that column headers are 'date' and 'USD'**\n",
    "\n",
    "          date \t                USD\n",
    "    0 \t2020-08-20 00:00:00 \t11734.00\n",
    "    1 \t2020-08-21 00:00:00 \t11865.82\n",
    "    2 \t2020-08-22 00:00:00 \t11522.80\n",
    "    3 \t2020-08-23 00:00:00 \t11683.44\n",
    "    4 \t2020-08-24 00:00:00 \t11653.02"
   ]
  },
  {
   "cell_type": "code",
   "execution_count": 13,
   "id": "common-symbol",
   "metadata": {
    "deletable": false,
    "nbgrader": {
     "cell_type": "code",
     "checksum": "a72abe8d10bae197c05d433c9d349342",
     "grade": false,
     "grade_id": "cell-c85f802cde279ff8",
     "locked": false,
     "schema_version": 3,
     "solution": true,
     "task": false
    }
   },
   "outputs": [
    {
     "data": {
      "text/html": [
       "<div>\n",
       "<style scoped>\n",
       "    .dataframe tbody tr th:only-of-type {\n",
       "        vertical-align: middle;\n",
       "    }\n",
       "\n",
       "    .dataframe tbody tr th {\n",
       "        vertical-align: top;\n",
       "    }\n",
       "\n",
       "    .dataframe thead th {\n",
       "        text-align: right;\n",
       "    }\n",
       "</style>\n",
       "<table border=\"1\" class=\"dataframe\">\n",
       "  <thead>\n",
       "    <tr style=\"text-align: right;\">\n",
       "      <th></th>\n",
       "      <th>2020-08-20 00:00:00</th>\n",
       "      <th>11734.0</th>\n",
       "    </tr>\n",
       "  </thead>\n",
       "  <tbody>\n",
       "    <tr>\n",
       "      <th>0</th>\n",
       "      <td>2020-08-21 00:00:00</td>\n",
       "      <td>11865.82</td>\n",
       "    </tr>\n",
       "    <tr>\n",
       "      <th>1</th>\n",
       "      <td>2020-08-22 00:00:00</td>\n",
       "      <td>11522.80</td>\n",
       "    </tr>\n",
       "    <tr>\n",
       "      <th>2</th>\n",
       "      <td>2020-08-23 00:00:00</td>\n",
       "      <td>11683.44</td>\n",
       "    </tr>\n",
       "    <tr>\n",
       "      <th>3</th>\n",
       "      <td>2020-08-24 00:00:00</td>\n",
       "      <td>11653.02</td>\n",
       "    </tr>\n",
       "    <tr>\n",
       "      <th>4</th>\n",
       "      <td>2020-08-25 00:00:00</td>\n",
       "      <td>11763.93</td>\n",
       "    </tr>\n",
       "  </tbody>\n",
       "</table>\n",
       "</div>"
      ],
      "text/plain": [
       "   2020-08-20 00:00:00   11734.0\n",
       "0  2020-08-21 00:00:00  11865.82\n",
       "1  2020-08-22 00:00:00  11522.80\n",
       "2  2020-08-23 00:00:00  11683.44\n",
       "3  2020-08-24 00:00:00  11653.02\n",
       "4  2020-08-25 00:00:00  11763.93"
      ]
     },
     "execution_count": 13,
     "metadata": {},
     "output_type": "execute_result"
    }
   ],
   "source": [
    "#data = (\n",
    "    # YOUR CODE HERE\n",
    "#)\n",
    "data.head()"
   ]
  },
  {
   "cell_type": "code",
   "execution_count": 14,
   "id": "electronic-placement",
   "metadata": {
    "deletable": false,
    "editable": true,
    "nbgrader": {
     "cell_type": "code",
     "checksum": "284b5631533a8d20cf32f1c3a5d59784",
     "grade": true,
     "grade_id": "cell-3cb30633bae04d4f",
     "locked": true,
     "points": 1,
     "schema_version": 3,
     "solution": false,
     "task": false
    }
   },
   "outputs": [],
   "source": [
    "from solutions import data1 as data\n",
    "assert all(data.columns == ['date', 'USD'])"
   ]
  },
  {
   "cell_type": "markdown",
   "id": "7d84874f-5454-4f98-886f-a6967ff42f81",
   "metadata": {},
   "source": [
    "```{admonition} Solution\n",
    ":class: dropdown\n",
    "~~~\n",
    "    pandas.read_csv('market-price.csv', names=['date', 'USD']),\n",
    "~~~\n",
    "```"
   ]
  },
  {
   "cell_type": "markdown",
   "id": "immediate-average",
   "metadata": {},
   "source": [
    "**7. How du you make the date column a dataframe index?**\n",
    "\n",
    "                             USD\n",
    "    date \t\n",
    "    2020-08-20 00:00:00 \t11734.00\n",
    "    2020-08-21 00:00:00 \t11865.82\n",
    "    2020-08-22 00:00:00 \t11522.80\n",
    "    ...\n",
    "    "
   ]
  },
  {
   "cell_type": "code",
   "execution_count": 15,
   "id": "chief-semester",
   "metadata": {
    "deletable": false,
    "nbgrader": {
     "cell_type": "code",
     "checksum": "c9e9b837252739dddb5fcb4f9674c8fe",
     "grade": false,
     "grade_id": "cell-96206ee5afd04747",
     "locked": false,
     "schema_version": 3,
     "solution": true,
     "task": false
    }
   },
   "outputs": [],
   "source": [
    "#data = (\n",
    "    # YOUR CODE HERE\n",
    "#)\n",
    "#data.head()"
   ]
  },
  {
   "cell_type": "code",
   "execution_count": 16,
   "id": "cooked-satellite",
   "metadata": {
    "deletable": false,
    "editable": true,
    "nbgrader": {
     "cell_type": "code",
     "checksum": "bc975041cdc6cbdb404e6b50704a19be",
     "grade": true,
     "grade_id": "cell-253d7bd6c66944ec",
     "locked": true,
     "points": 1,
     "schema_version": 3,
     "solution": false,
     "task": false
    }
   },
   "outputs": [
    {
     "data": {
      "text/plain": [
       "USD    float64\n",
       "dtype: object"
      ]
     },
     "execution_count": 16,
     "metadata": {},
     "output_type": "execute_result"
    }
   ],
   "source": [
    "from solutions import data2 as data\n",
    "assert data.columns == ['USD']\n",
    "assert data.index.name == 'date'\n",
    "data.dtypes"
   ]
  },
  {
   "cell_type": "markdown",
   "id": "f813331d-8e10-41e9-b6f4-d5f8aea23226",
   "metadata": {},
   "source": [
    "```{admonition} Solution\n",
    ":class: dropdown\n",
    "~~~\n",
    "    pandas.read_csv('market-price.csv', names=['date', 'USD']).set_index('date'),\n",
    "~~~\n",
    "```"
   ]
  },
  {
   "cell_type": "markdown",
   "id": "aerial-fault",
   "metadata": {},
   "source": [
    "**8. convert the expression to a Series object**\n",
    "\n",
    "    date\n",
    "    2020-08-20    11734.00\n",
    "    2020-08-21    11865.82\n",
    "    2020-08-22    11522.80\n",
    "    ...\n",
    "    Name: USD, dtype: float64"
   ]
  },
  {
   "cell_type": "code",
   "execution_count": 17,
   "id": "voluntary-shark",
   "metadata": {
    "deletable": false,
    "nbgrader": {
     "cell_type": "code",
     "checksum": "e60a11efc4274a8c24ac3674bf83ebc2",
     "grade": false,
     "grade_id": "cell-cded83a7864ffa49",
     "locked": false,
     "schema_version": 3,
     "solution": true,
     "task": false
    }
   },
   "outputs": [
    {
     "data": {
      "text/html": [
       "<div>\n",
       "<style scoped>\n",
       "    .dataframe tbody tr th:only-of-type {\n",
       "        vertical-align: middle;\n",
       "    }\n",
       "\n",
       "    .dataframe tbody tr th {\n",
       "        vertical-align: top;\n",
       "    }\n",
       "\n",
       "    .dataframe thead th {\n",
       "        text-align: right;\n",
       "    }\n",
       "</style>\n",
       "<table border=\"1\" class=\"dataframe\">\n",
       "  <thead>\n",
       "    <tr style=\"text-align: right;\">\n",
       "      <th></th>\n",
       "      <th>USD</th>\n",
       "    </tr>\n",
       "    <tr>\n",
       "      <th>date</th>\n",
       "      <th></th>\n",
       "    </tr>\n",
       "  </thead>\n",
       "  <tbody>\n",
       "    <tr>\n",
       "      <th>2020-08-20 00:00:00</th>\n",
       "      <td>11734.00</td>\n",
       "    </tr>\n",
       "    <tr>\n",
       "      <th>2020-08-21 00:00:00</th>\n",
       "      <td>11865.82</td>\n",
       "    </tr>\n",
       "    <tr>\n",
       "      <th>2020-08-22 00:00:00</th>\n",
       "      <td>11522.80</td>\n",
       "    </tr>\n",
       "    <tr>\n",
       "      <th>2020-08-23 00:00:00</th>\n",
       "      <td>11683.44</td>\n",
       "    </tr>\n",
       "    <tr>\n",
       "      <th>2020-08-24 00:00:00</th>\n",
       "      <td>11653.02</td>\n",
       "    </tr>\n",
       "  </tbody>\n",
       "</table>\n",
       "</div>"
      ],
      "text/plain": [
       "                          USD\n",
       "date                         \n",
       "2020-08-20 00:00:00  11734.00\n",
       "2020-08-21 00:00:00  11865.82\n",
       "2020-08-22 00:00:00  11522.80\n",
       "2020-08-23 00:00:00  11683.44\n",
       "2020-08-24 00:00:00  11653.02"
      ]
     },
     "execution_count": 17,
     "metadata": {},
     "output_type": "execute_result"
    }
   ],
   "source": [
    "#data = (\n",
    "    # YOUR CODE HERE\n",
    "#)\n",
    "data.head()"
   ]
  },
  {
   "cell_type": "code",
   "execution_count": 18,
   "id": "political-literature",
   "metadata": {
    "deletable": false,
    "editable": true,
    "nbgrader": {
     "cell_type": "code",
     "checksum": "d94dea5a523f89bd713afb5ca04d283a",
     "grade": true,
     "grade_id": "cell-969b94b2fb1f7424",
     "locked": true,
     "points": 1,
     "schema_version": 3,
     "solution": false,
     "task": false
    }
   },
   "outputs": [],
   "source": [
    "from solutions import data3 as data\n",
    "assert isinstance(data, pandas.Series)\n",
    "assert data.name == 'USD'\n",
    "assert data.index.name == 'date'\n",
    "assert data.dtype == 'float'"
   ]
  },
  {
   "cell_type": "markdown",
   "id": "cardiovascular-farming",
   "metadata": {},
   "source": [
    "*Observation*: date-like entries can be processed with the option parse_dates=[0], so that Python can internally use date-types. See e.g. the difference it makes for plotting. Use this in next assignment"
   ]
  },
  {
   "cell_type": "code",
   "execution_count": 19,
   "id": "stainless-beauty",
   "metadata": {},
   "outputs": [
    {
     "data": {
      "text/plain": [
       "<Axes: xlabel='date'>"
      ]
     },
     "execution_count": 19,
     "metadata": {},
     "output_type": "execute_result"
    },
    {
     "data": {
      "image/png": "[encoded data removed]",
      "text/plain": [
       "<Figure size 640x480 with 1 Axes>"
      ]
     },
     "metadata": {},
     "output_type": "display_data"
    }
   ],
   "source": [
    "data.plot()"
   ]
  },
  {
   "cell_type": "markdown",
   "id": "lasting-financing",
   "metadata": {
    "deletable": false,
    "editable": true,
    "nbgrader": {
     "cell_type": "markdown",
     "checksum": "c1d984b671223d893a4c80174175d42d",
     "grade": false,
     "grade_id": "cell-15648703b9fea6b3",
     "locked": true,
     "schema_version": 3,
     "solution": false,
     "task": false
    }
   },
   "source": [
    "## Level 3\n",
    "\n",
    "The goal here is to obtain a decorator that returns values from `market-price.csv` in SEK insted of USD given the exchange rate for a given date in the file `exchange-rates.csv`\n",
    "\n"
   ]
  },
  {
   "cell_type": "markdown",
   "id": "presidential-tuition",
   "metadata": {},
   "source": [
    "**9.** Verify that the `Date` column has the pandas datatype `Timestamp`"
   ]
  },
  {
   "cell_type": "code",
   "execution_count": 20,
   "id": "crazy-crest",
   "metadata": {
    "deletable": false,
    "nbgrader": {
     "cell_type": "code",
     "checksum": "fdc9b4d33b9219fef0b5ff5e28655b25",
     "grade": false,
     "grade_id": "cell-6869503264cfa8fb",
     "locked": false,
     "schema_version": 3,
     "solution": true,
     "task": false
    }
   },
   "outputs": [],
   "source": [
    "# exchange_rates = (\n",
    "#    # YOUR CODE HERE\n",
    "#)\n",
    "#exchange_rates.head()"
   ]
  },
  {
   "cell_type": "code",
   "execution_count": 21,
   "id": "periodic-sense",
   "metadata": {
    "deletable": false,
    "editable": true,
    "nbgrader": {
     "cell_type": "code",
     "checksum": "6c9b0f7fb3df8302607054251b6f4d79",
     "grade": true,
     "grade_id": "cell-55cff1d63b590d76",
     "locked": true,
     "points": 1,
     "schema_version": 3,
     "solution": false,
     "task": false
    }
   },
   "outputs": [],
   "source": [
    "from solutions import exchange_rates0 as exchange_rates\n",
    "assert isinstance(exchange_rates.iloc[0]['Date'], pandas.Timestamp)"
   ]
  },
  {
   "cell_type": "markdown",
   "id": "57c9bbeb-cfe8-4806-b9c9-50c37eec49fe",
   "metadata": {},
   "source": [
    "```{admonition} Solution\n",
    ":class: dropdown\n",
    "~~~\n",
    "exchange_rates = (\n",
    "    pandas.read_csv('exchange-rates.csv', parse_dates=[0])\n",
    ")\n",
    "~~~\n",
    "```"
   ]
  },
  {
   "cell_type": "markdown",
   "id": "excessive-williams",
   "metadata": {},
   "source": [
    "**10.** Create a column with dates in string iso format. The result of the following cell is us2sek as a pandas.Series object\n",
    "\n",
    "*Hint: work with the `apply` method of a series and a function that uses datetime.isoformat*"
   ]
  },
  {
   "cell_type": "code",
   "execution_count": 22,
   "id": "383a6338-e894-41fe-8937-6f7934610bb9",
   "metadata": {},
   "outputs": [
    {
     "data": {
      "text/html": [
       "<div>\n",
       "<style scoped>\n",
       "    .dataframe tbody tr th:only-of-type {\n",
       "        vertical-align: middle;\n",
       "    }\n",
       "\n",
       "    .dataframe tbody tr th {\n",
       "        vertical-align: top;\n",
       "    }\n",
       "\n",
       "    .dataframe thead th {\n",
       "        text-align: right;\n",
       "    }\n",
       "</style>\n",
       "<table border=\"1\" class=\"dataframe\">\n",
       "  <thead>\n",
       "    <tr style=\"text-align: right;\">\n",
       "      <th></th>\n",
       "      <th>Date</th>\n",
       "      <th>USD</th>\n",
       "      <th>SEK</th>\n",
       "      <th>isodate</th>\n",
       "    </tr>\n",
       "  </thead>\n",
       "  <tbody>\n",
       "    <tr>\n",
       "      <th>0</th>\n",
       "      <td>2021-08-18</td>\n",
       "      <td>1</td>\n",
       "      <td>8.7207</td>\n",
       "      <td>2021-08-18</td>\n",
       "    </tr>\n",
       "    <tr>\n",
       "      <th>1</th>\n",
       "      <td>2021-08-17</td>\n",
       "      <td>1</td>\n",
       "      <td>8.6639</td>\n",
       "      <td>2021-08-17</td>\n",
       "    </tr>\n",
       "    <tr>\n",
       "      <th>2</th>\n",
       "      <td>2021-08-16</td>\n",
       "      <td>1</td>\n",
       "      <td>8.6653</td>\n",
       "      <td>2021-08-16</td>\n",
       "    </tr>\n",
       "    <tr>\n",
       "      <th>3</th>\n",
       "      <td>2021-08-15</td>\n",
       "      <td>1</td>\n",
       "      <td>8.6692</td>\n",
       "      <td>2021-08-15</td>\n",
       "    </tr>\n",
       "    <tr>\n",
       "      <th>4</th>\n",
       "      <td>2021-08-14</td>\n",
       "      <td>1</td>\n",
       "      <td>8.6692</td>\n",
       "      <td>2021-08-14</td>\n",
       "    </tr>\n",
       "  </tbody>\n",
       "</table>\n",
       "</div>"
      ],
      "text/plain": [
       "        Date  USD     SEK     isodate\n",
       "0 2021-08-18    1  8.7207  2021-08-18\n",
       "1 2021-08-17    1  8.6639  2021-08-17\n",
       "2 2021-08-16    1  8.6653  2021-08-16\n",
       "3 2021-08-15    1  8.6692  2021-08-15\n",
       "4 2021-08-14    1  8.6692  2021-08-14"
      ]
     },
     "execution_count": 22,
     "metadata": {},
     "output_type": "execute_result"
    }
   ],
   "source": [
    "from solutions import exchange_rates1 as exchange_rates\n",
    "exchange_rates.head()"
   ]
  },
  {
   "cell_type": "markdown",
   "id": "5a4c79ab-8dd7-410e-8b9a-afba382a1180",
   "metadata": {},
   "source": [
    "```{admonition} Solution\n",
    ":class: dropdown\n",
    "~~~\n",
    "isodate = exchange_rates.Date.apply(lambda x: x.isoformat()[:10])\n",
    "exchange_rates['isodate'] = isodate\n",
    "~~~\n",
    "```"
   ]
  },
  {
   "cell_type": "code",
   "execution_count": 23,
   "id": "853397a2-44a3-4434-a621-ab17dc17c183",
   "metadata": {},
   "outputs": [
    {
     "data": {
      "text/html": [
       "<div>\n",
       "<style scoped>\n",
       "    .dataframe tbody tr th:only-of-type {\n",
       "        vertical-align: middle;\n",
       "    }\n",
       "\n",
       "    .dataframe tbody tr th {\n",
       "        vertical-align: top;\n",
       "    }\n",
       "\n",
       "    .dataframe thead th {\n",
       "        text-align: right;\n",
       "    }\n",
       "</style>\n",
       "<table border=\"1\" class=\"dataframe\">\n",
       "  <thead>\n",
       "    <tr style=\"text-align: right;\">\n",
       "      <th></th>\n",
       "      <th>Date</th>\n",
       "      <th>USD</th>\n",
       "      <th>SEK</th>\n",
       "      <th>isodate</th>\n",
       "    </tr>\n",
       "  </thead>\n",
       "  <tbody>\n",
       "    <tr>\n",
       "      <th>0</th>\n",
       "      <td>2021-08-18</td>\n",
       "      <td>1</td>\n",
       "      <td>8.7207</td>\n",
       "      <td>2021-08-18</td>\n",
       "    </tr>\n",
       "    <tr>\n",
       "      <th>1</th>\n",
       "      <td>2021-08-17</td>\n",
       "      <td>1</td>\n",
       "      <td>8.6639</td>\n",
       "      <td>2021-08-17</td>\n",
       "    </tr>\n",
       "    <tr>\n",
       "      <th>2</th>\n",
       "      <td>2021-08-16</td>\n",
       "      <td>1</td>\n",
       "      <td>8.6653</td>\n",
       "      <td>2021-08-16</td>\n",
       "    </tr>\n",
       "    <tr>\n",
       "      <th>3</th>\n",
       "      <td>2021-08-15</td>\n",
       "      <td>1</td>\n",
       "      <td>8.6692</td>\n",
       "      <td>2021-08-15</td>\n",
       "    </tr>\n",
       "    <tr>\n",
       "      <th>4</th>\n",
       "      <td>2021-08-14</td>\n",
       "      <td>1</td>\n",
       "      <td>8.6692</td>\n",
       "      <td>2021-08-14</td>\n",
       "    </tr>\n",
       "  </tbody>\n",
       "</table>\n",
       "</div>"
      ],
      "text/plain": [
       "        Date  USD     SEK     isodate\n",
       "0 2021-08-18    1  8.7207  2021-08-18\n",
       "1 2021-08-17    1  8.6639  2021-08-17\n",
       "2 2021-08-16    1  8.6653  2021-08-16\n",
       "3 2021-08-15    1  8.6692  2021-08-15\n",
       "4 2021-08-14    1  8.6692  2021-08-14"
      ]
     },
     "execution_count": 23,
     "metadata": {},
     "output_type": "execute_result"
    }
   ],
   "source": [
    "exchange_rates.head()"
   ]
  },
  {
   "cell_type": "code",
   "execution_count": 24,
   "id": "fresh-slave",
   "metadata": {
    "deletable": false,
    "editable": true,
    "nbgrader": {
     "cell_type": "code",
     "checksum": "71a1800f9a9e1cc06e75f1027891d55c",
     "grade": true,
     "grade_id": "cell-ea674f60101cc06e",
     "locked": true,
     "points": 1,
     "schema_version": 3,
     "solution": false,
     "task": false
    }
   },
   "outputs": [],
   "source": [
    "from solutions import us2sek\n",
    "assert isinstance(us2sek, pandas.Series)\n",
    "assert us2sek['2020-08-18'] == 8.6679"
   ]
  },
  {
   "cell_type": "code",
   "execution_count": 25,
   "id": "christian-complaint",
   "metadata": {
    "deletable": false,
    "nbgrader": {
     "cell_type": "code",
     "checksum": "c64e058110b0404b59b6896958acf56a",
     "grade": false,
     "grade_id": "cell-6747c8c5721d3d33",
     "locked": false,
     "schema_version": 3,
     "solution": true,
     "task": false
    }
   },
   "outputs": [
    {
     "data": {
      "text/plain": [
       "isodate\n",
       "2021-08-18    8.7207\n",
       "2021-08-17    8.6639\n",
       "2021-08-16    8.6653\n",
       "2021-08-15    8.6692\n",
       "2021-08-14    8.6692\n",
       "               ...  \n",
       "2020-08-22    8.8053\n",
       "2020-08-21    8.8053\n",
       "2020-08-20    8.7388\n",
       "2020-08-19    8.6433\n",
       "2020-08-18    8.6679\n",
       "Name: SEK, Length: 366, dtype: float64"
      ]
     },
     "execution_count": 25,
     "metadata": {},
     "output_type": "execute_result"
    }
   ],
   "source": [
    "# YOUR CODE HERE\n",
    "\n",
    "exchange_rates.set_index('isodate', inplace=True)\n",
    "us2sek = exchange_rates['SEK']\n",
    "us2sek"
   ]
  },
  {
   "cell_type": "markdown",
   "id": "typical-procedure",
   "metadata": {},
   "source": [
    "**11.** Complete a decorator so that `get_sek` returns the btc value in SEK instead of dollars"
   ]
  },
  {
   "cell_type": "code",
   "execution_count": 26,
   "id": "spatial-rachel",
   "metadata": {
    "deletable": false,
    "nbgrader": {
     "cell_type": "code",
     "checksum": "f704713d91c70b19306cb1e9e1536af2",
     "grade": false,
     "grade_id": "cell-d56d07f0f8902c20",
     "locked": false,
     "schema_version": 3,
     "solution": true,
     "task": false
    }
   },
   "outputs": [],
   "source": [
    "\n",
    "def convert(f):\n",
    "    # YOUR CODE HERE\n",
    "    ...\n",
    "get_sek = convert(get_usd)\n",
    "        "
   ]
  },
  {
   "cell_type": "code",
   "execution_count": 28,
   "id": "thousand-lobby",
   "metadata": {
    "deletable": false,
    "editable": true,
    "nbgrader": {
     "cell_type": "code",
     "checksum": "e256ccd4b7d2ae18a759ba75cb26d1f6",
     "grade": true,
     "grade_id": "cell-0e185dc400c08618",
     "locked": true,
     "points": 1,
     "schema_version": 3,
     "solution": false,
     "task": false
    }
   },
   "outputs": [],
   "source": [
    "from solutions import get_sek\n",
    "assert get_sek('2020-08-20', 'market-price.csv').round(2) == 102541.08"
   ]
  },
  {
   "cell_type": "code",
   "execution_count": 29,
   "id": "ranking-bobby",
   "metadata": {
    "deletable": false,
    "editable": true,
    "nbgrader": {
     "cell_type": "code",
     "checksum": "a84b55da51df71388421d9c215ce91d5",
     "grade": true,
     "grade_id": "cell-d40ea7172d8e4cdb",
     "locked": true,
     "points": 1,
     "schema_version": 3,
     "solution": false,
     "task": false
    }
   },
   "outputs": [],
   "source": [
    "assert get_sek('2021-08-18', 'market-price.csv').round(2) == 389366.78"
   ]
  }
 ],
 "metadata": {
  "kernelspec": {
   "display_name": "Python 3 (ipykernel)",
   "language": "python",
   "name": "python3"
  },
  "language_info": {
   "codemirror_mode": {
    "name": "ipython",
    "version": 3
   },
   "file_extension": ".py",
   "mimetype": "text/x-python",
   "name": "python",
   "nbconvert_exporter": "python",
   "pygments_lexer": "ipython3",
   "version": "3.12.1"
  }
 },
 "nbformat": 4,
 "nbformat_minor": 5
}
