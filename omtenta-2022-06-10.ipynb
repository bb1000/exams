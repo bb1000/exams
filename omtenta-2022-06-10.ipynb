{
 "cells": [
  {
   "cell_type": "markdown",
   "id": "70aec39e",
   "metadata": {
    "deletable": false,
    "editable": false,
    "nbgrader": {
     "cell_type": "markdown",
     "checksum": "ad551540a5073e64889214aa56046221",
     "grade": false,
     "grade_id": "cell-4a472b4c9006b883",
     "locked": true,
     "schema_version": 3,
     "solution": false,
     "task": false
    }
   },
   "source": [
    "# Tenta 2022-06-10"
   ]
  },
  {
   "cell_type": "markdown",
   "id": "7d480ef6",
   "metadata": {
    "deletable": false,
    "editable": false,
    "nbgrader": {
     "cell_type": "markdown",
     "checksum": "72da0254adb3d873fce5dace1bea8f93",
     "grade": false,
     "grade_id": "cell-00a7997d158a9bd3",
     "locked": true,
     "schema_version": 3,
     "solution": false,
     "task": false
    }
   },
   "source": [
    "## Part 1"
   ]
  },
  {
   "cell_type": "markdown",
   "id": "bd8c9683",
   "metadata": {
    "deletable": false,
    "editable": false,
    "nbgrader": {
     "cell_type": "markdown",
     "checksum": "4e58ce1577662b47df6915b51900abfd",
     "grade": false,
     "grade_id": "cell-2c0d0ffe5a22110a",
     "locked": true,
     "schema_version": 3,
     "solution": false,
     "task": false
    }
   },
   "source": [
    "The British pound (GBP) is the oldest existing currency today. Originally the value of a pound note was defined to be equivalent to the value of a pound (in weight) of silver. \n",
    "\n",
    "Until the 70's the division of the pound into smaller unit was different from most other currencies: two smaller units of currency was defined as\n",
    "\n",
    "    1 pound = 20 shillings\n",
    "    1 shilling = 12 pennies\n",
    "    \n",
    "**1** Write functions that handle GBP, assuming that any wallet can be represented by a triplet of ints (pounds, shilling, pence)\n",
    "\n"
   ]
  },
  {
   "cell_type": "code",
   "execution_count": 1,
   "id": "588bfc3b",
   "metadata": {
    "deletable": false,
    "nbgrader": {
     "cell_type": "code",
     "checksum": "7737f3d5ba135c6cac153a8e38c9d476",
     "grade": false,
     "grade_id": "cell-2fe171bc6a61c60a",
     "locked": false,
     "schema_version": 3,
     "solution": true,
     "task": false
    }
   },
   "outputs": [],
   "source": [
    "def to_pence(pounds, shillings, pence):\n",
    "    \"\"\"\n",
    "    Convert old British currency to smallest unit (p)\n",
    "    Example\n",
    "\n",
    "    >>> to_pence(0, 2, 0)\n",
    "    24\n",
    "    \"\"\""
   ]
  },
  {
   "cell_type": "code",
   "execution_count": 2,
   "id": "24d6c65d",
   "metadata": {
    "deletable": false,
    "editable": true,
    "nbgrader": {
     "cell_type": "code",
     "checksum": "6b253d0de56f4d58e2bb11224bd256e8",
     "grade": true,
     "grade_id": "cell-40f84e96e1c7af1a",
     "locked": true,
     "points": 1,
     "schema_version": 3,
     "solution": false,
     "task": false
    }
   },
   "outputs": [],
   "source": [
    "from solutions import to_pence\n",
    "assert to_pence(1, 0, 0) == 240, f'{to_p(1, 0, 0)} != 200'\n",
    "assert to_pence(0, 1, 0) == 12\n",
    "assert to_pence(0, 0, 5) == 5\n",
    "assert to_pence(1, 1, 1) == 253"
   ]
  },
  {
   "cell_type": "markdown",
   "id": "bce2926a-a9b6-4466-b18e-6ea42e07643f",
   "metadata": {},
   "source": [
    "```{admonition} Solution\n",
    ":class: dropdown\n",
    "~~~\n",
    "def to_pence(pounds, shillings, pence):\n",
    "    \"\"\"\n",
    "    Convert old British currency to smallest unit\n",
    "    \n",
    "    >>> to_pence(0, 2, 0)\n",
    "    24\n",
    "    \"\"\"\n",
    "    return (pounds*20 + shillings)*12 + pence\n",
    "~~~\n",
    "```"
   ]
  },
  {
   "cell_type": "markdown",
   "id": "08bf127d",
   "metadata": {
    "deletable": false,
    "editable": false,
    "nbgrader": {
     "cell_type": "markdown",
     "checksum": "4bb031d61eb151477a6a7129fda4deea",
     "grade": false,
     "grade_id": "cell-9685234c48ac7ae6",
     "locked": true,
     "schema_version": 3,
     "solution": false,
     "task": false
    }
   },
   "source": [
    "**2** Given any combination of coins, let a reduce function minimize the combination of coins so that the total amount remains constant."
   ]
  },
  {
   "cell_type": "code",
   "execution_count": 3,
   "id": "6f3df0d2-c78d-4391-a066-6b4dd342fa30",
   "metadata": {
    "deletable": false,
    "nbgrader": {
     "cell_type": "code",
     "checksum": "dc4d1903a2fa9dc83f7a4bda44811fac",
     "grade": false,
     "grade_id": "cell-34a877fddba69899",
     "locked": false,
     "schema_version": 3,
     "solution": true,
     "task": false
    }
   },
   "outputs": [],
   "source": [
    "def reduce(pounds, shillings, pence):\n",
    "    \"\"\"\n",
    "    Change the moneys first to maximize the number of pound notes,\n",
    "    then shillings, such that the total amount is constant\n",
    "    \"\"\""
   ]
  },
  {
   "cell_type": "code",
   "execution_count": 4,
   "id": "aa1d980f",
   "metadata": {
    "deletable": false,
    "editable": false,
    "nbgrader": {
     "cell_type": "code",
     "checksum": "a1d42975b2554b225b48f2e6f3fc0960",
     "grade": true,
     "grade_id": "cell-2bd955e6c650e552",
     "locked": true,
     "points": 1,
     "schema_version": 3,
     "solution": false,
     "task": false
    }
   },
   "outputs": [],
   "source": [
    "from solutions import reduce\n",
    "assert reduce(0, 0, 13) == (0, 1, 1), f'{reduce(0, 0, 13)} != (0, 1, 1)'\n",
    "assert reduce(0, 0, 245) == (1, 0, 5), f'{reduce(0, 0, 245)} != (1, 0, 5)'\n",
    "assert reduce(0, 0, 252) == (1, 1, 0), f'{reduce(0, 0, 252)} != (1, 1, 0)'"
   ]
  },
  {
   "cell_type": "markdown",
   "id": "4e67d492-5143-4835-a288-edb4a85db538",
   "metadata": {},
   "source": [
    "```{admonition} Solution\n",
    ":class: dropdown\n",
    "~~~\n",
    "def reduce(pounds, shillings, pence):\n",
    "    \"\"\"\n",
    "    Change the moneys first to maximize the number of pound notes,\n",
    "    then shillings, such that the total amount is constant\n",
    "    \"\"\"\n",
    "    total_pence = to_pence(pounds, shillings, pence)\n",
    "    # The number of shillings you get out of these pennies\n",
    "    total_shillings = total_pence // 12\n",
    "    # The remaining pennies after chaning into shillings\n",
    "    remaining_pence = total_pence % 12\n",
    "\n",
    "    # The number of pounds you get out of these shillings\n",
    "    total_pounds = total_shillings // 20\n",
    "    # The remaining shillings you get after changing int pound\n",
    "    remaining_shillings = total_shillings % 20\n",
    "\n",
    "    return (total_pounds, remaining_shillings, remaining_pence)\n",
    "`\n",
    "\n",
    "~~~\n",
    "```"
   ]
  },
  {
   "cell_type": "markdown",
   "id": "a5e9c9f0",
   "metadata": {
    "deletable": false,
    "editable": false,
    "nbgrader": {
     "cell_type": "markdown",
     "checksum": "325962c110cdfb4840dfb773c50cc076",
     "grade": false,
     "grade_id": "cell-036e7d436727bfba",
     "locked": true,
     "schema_version": 3,
     "solution": false,
     "task": false
    }
   },
   "source": [
    "**3**. What is the maximum number of pound notes that can be change for a given GBP tuple? Define a function to_pounds for this. Ignore the remaining change"
   ]
  },
  {
   "cell_type": "code",
   "execution_count": 5,
   "id": "a64fb5fd",
   "metadata": {
    "deletable": false,
    "nbgrader": {
     "cell_type": "code",
     "checksum": "2828fc0531a93ef2f38eccd892c51002",
     "grade": false,
     "grade_id": "cell-9f1761359c8f1937",
     "locked": false,
     "schema_version": 3,
     "solution": true,
     "task": false
    }
   },
   "outputs": [],
   "source": [
    "def to_pounds(pounds, shillings, pence):\n",
    "    \"\"\"\n",
    "    Return the max number of pound notes that can be obtained\n",
    "    \"\"\""
   ]
  },
  {
   "cell_type": "code",
   "execution_count": 6,
   "id": "7edffea2",
   "metadata": {
    "deletable": false,
    "editable": false,
    "nbgrader": {
     "cell_type": "code",
     "checksum": "179bd3a232f3d70e34e493b41413bb44",
     "grade": true,
     "grade_id": "cell-516921e35b32db2b",
     "locked": true,
     "points": 1,
     "schema_version": 3,
     "solution": false,
     "task": false
    }
   },
   "outputs": [],
   "source": [
    "from solutions import to_pounds\n",
    "assert to_pounds(0, 40, 0) == 2\n",
    "assert to_pounds(0, 0, 241) == 1"
   ]
  },
  {
   "cell_type": "markdown",
   "id": "c72cce5f-4dca-47e1-abd3-1f7cef1b9f54",
   "metadata": {},
   "source": [
    "```{admonition} Solution\n",
    ":class: dropdown\n",
    "~~~\n",
    "def to_pounds(pounds, shillings, pence):\n",
    "    \"\"\"\n",
    "    Return the max number of pound notes that can be obtained\n",
    "    \"\"\"\n",
    "    return to_pence(pounds, shillings, pence) // 240\n",
    "~~~\n",
    "```"
   ]
  },
  {
   "cell_type": "markdown",
   "id": "00ba2190",
   "metadata": {},
   "source": [
    "**4**. Same as **3** but for shilling coins"
   ]
  },
  {
   "cell_type": "code",
   "execution_count": 7,
   "id": "5b23be77",
   "metadata": {
    "deletable": false,
    "nbgrader": {
     "cell_type": "code",
     "checksum": "55a9a8f700b91fda3df92e3f8a5274b5",
     "grade": false,
     "grade_id": "cell-ee793cfcadfc0e9d",
     "locked": false,
     "schema_version": 3,
     "solution": true,
     "task": false
    }
   },
   "outputs": [],
   "source": [
    "def to_shillings(pounds, shillings, pence):\n",
    "    \"\"\"\n",
    "    Return the max number of pound notes that can be obtained\n",
    "    \"\"\"    \n",
    "    return to_pence(pounds, shillings, pence) // 12"
   ]
  },
  {
   "cell_type": "code",
   "execution_count": 8,
   "id": "e925f42c",
   "metadata": {
    "deletable": false,
    "editable": false,
    "nbgrader": {
     "cell_type": "code",
     "checksum": "b8db1faea235a51a98b60d1a6b39f65c",
     "grade": true,
     "grade_id": "cell-818df9f0c638aa16",
     "locked": true,
     "points": 1,
     "schema_version": 3,
     "solution": false,
     "task": false
    }
   },
   "outputs": [],
   "source": [
    "from solutions import to_shillings\n",
    "assert to_shillings(1, 0, 0) == 20\n",
    "assert to_shillings(2, 10, 0) == 50"
   ]
  },
  {
   "cell_type": "markdown",
   "id": "353f93c0-4d4e-4a0f-b561-6b0504c1d08d",
   "metadata": {},
   "source": [
    "```{admonition} Solution\n",
    ":class: dropdown\n",
    "~~~\n",
    "def to_shillings(pounds, shillings, pence):\n",
    "    \"\"\"\n",
    "    Return the max number of pound notes that can be obtained\n",
    "    \"\"\"    \n",
    "    return to_pence(pounds, shillings, pence) // 12\n",
    "~~~\n",
    "```"
   ]
  },
  {
   "cell_type": "markdown",
   "id": "7b8d1d66",
   "metadata": {
    "deletable": false,
    "editable": false,
    "nbgrader": {
     "cell_type": "markdown",
     "checksum": "5edb08cbd1203468f5120f38960b3fda",
     "grade": false,
     "grade_id": "cell-22eb212200abefa2",
     "locked": true,
     "schema_version": 3,
     "solution": false,
     "task": false
    }
   },
   "source": [
    "## Part 2"
   ]
  },
  {
   "cell_type": "markdown",
   "id": "810c707e",
   "metadata": {
    "deletable": false,
    "editable": false,
    "nbgrader": {
     "cell_type": "markdown",
     "checksum": "66d9ab47ec37a2d98b21f20e7f5f8a80",
     "grade": false,
     "grade_id": "cell-c0be93b8413b16a2",
     "locked": true,
     "schema_version": 3,
     "solution": false,
     "task": false
    }
   },
   "source": [
    "**5** Make a pound class that allows for addition of GBP amounts. Use the tuple in **1** as an instance attribute `data`"
   ]
  },
  {
   "cell_type": "code",
   "execution_count": 9,
   "id": "a9cbd2e2",
   "metadata": {
    "deletable": false,
    "nbgrader": {
     "cell_type": "code",
     "checksum": "e44fe03d2716e2292f1096152e8f1e3c",
     "grade": false,
     "grade_id": "cell-9310bacd23ea94c7",
     "locked": false,
     "schema_version": 3,
     "solution": true,
     "task": false
    }
   },
   "outputs": [],
   "source": [
    "class GBP:\n",
    "    ..."
   ]
  },
  {
   "cell_type": "code",
   "execution_count": 10,
   "id": "d8506b09",
   "metadata": {
    "deletable": false,
    "editable": false,
    "nbgrader": {
     "cell_type": "code",
     "checksum": "68705c6b1e7ec7941d32ed4ec983d8c6",
     "grade": true,
     "grade_id": "cell-d50965666a2b7cc5",
     "locked": true,
     "points": 1,
     "schema_version": 3,
     "solution": false,
     "task": false
    }
   },
   "outputs": [],
   "source": [
    "from solutions import GBP\n",
    "assert GBP(1, 2, 3).data == (1, 2, 3)"
   ]
  },
  {
   "cell_type": "markdown",
   "id": "10d75a47-7e52-4bce-8957-851a70e28506",
   "metadata": {},
   "source": [
    "```{admonition} Solution\n",
    ":class: dropdown\n",
    "The intializer must save the input coins as a tuple in an instance attribute `data`\n",
    "~~~\n",
    "    def __init__(self, pounds, shillings, pence):\n",
    "        # Save notes/coins as a tuple \"data\"\n",
    "        self.data = (pounds, shillings, pence)\n",
    "~~~\n",
    "```"
   ]
  },
  {
   "cell_type": "markdown",
   "id": "7b931419",
   "metadata": {
    "deletable": false,
    "editable": false,
    "nbgrader": {
     "cell_type": "markdown",
     "checksum": "84c9dc3adfca407b4a75881a3b65d8ef",
     "grade": false,
     "grade_id": "cell-c043814371b2e4d1",
     "locked": true,
     "schema_version": 3,
     "solution": false,
     "task": false
    }
   },
   "source": [
    "**6** Define addition for this class"
   ]
  },
  {
   "cell_type": "code",
   "execution_count": 11,
   "id": "fd477e3f",
   "metadata": {
    "deletable": false,
    "editable": false,
    "nbgrader": {
     "cell_type": "code",
     "checksum": "b48190bf24d5cccaf99a9a174c94cef7",
     "grade": true,
     "grade_id": "cell-e8330777d9b7974f",
     "locked": true,
     "points": 1,
     "schema_version": 3,
     "solution": false,
     "task": false
    }
   },
   "outputs": [],
   "source": [
    "w1 = GBP(1, 0, 0)\n",
    "w2 = GBP(2, 0, 0)\n",
    "w3 = w1 + w2\n",
    "assert w3.data == (3, 0, 0)"
   ]
  },
  {
   "cell_type": "markdown",
   "id": "6ea735a6-1964-4c9b-b82e-c9586ff451ef",
   "metadata": {},
   "source": [
    "```{admonition} Solution\n",
    ":class: dropdown\n",
    "As first draft that we may add the pounds, shillings, and pence separately\n",
    "and create a new GBP object with these sum amounts\n",
    "~~~\n",
    "    def __add__(self, other):\n",
    "        pounds = self.data[0] + other.data[0]\n",
    "        shillings = self.data[1] + other.data[1]\n",
    "        pence = self.data[2] + other.data[2]\n",
    "        return GBP(pounds, shillings, pence)\n",
    "~~~\n",
    "```"
   ]
  },
  {
   "cell_type": "markdown",
   "id": "2b1a0ebd",
   "metadata": {
    "deletable": false,
    "editable": false,
    "nbgrader": {
     "cell_type": "markdown",
     "checksum": "800fc3b9d97ef0b2be6746d53e4ec9ab",
     "grade": false,
     "grade_id": "cell-cac2003a8b9a09fb",
     "locked": true,
     "schema_version": 3,
     "solution": false,
     "task": false
    }
   },
   "source": [
    "**7** Reuse the reduce function so that the result of a summation minimizes the number of coins"
   ]
  },
  {
   "cell_type": "code",
   "execution_count": 12,
   "id": "54a04de6",
   "metadata": {
    "deletable": false,
    "editable": false,
    "nbgrader": {
     "cell_type": "code",
     "checksum": "89b0ec903c840df87b81cf24aed55e2d",
     "grade": true,
     "grade_id": "cell-a782bac560bf50a7",
     "locked": true,
     "points": 1,
     "schema_version": 3,
     "solution": false,
     "task": false
    }
   },
   "outputs": [],
   "source": [
    "w1 = GBP(0, 10, 0)\n",
    "w2 = GBP(0, 10, 0)\n",
    "w3 = w1 + w2\n",
    "assert w3.data == (1, 0, 0), f'{w3.data} != (1, 0, 0)'"
   ]
  },
  {
   "cell_type": "markdown",
   "id": "565b15ce-ff92-4e8c-ac19-9fa88fd056f7",
   "metadata": {},
   "source": [
    "```{admonition} Solution\n",
    ":class: dropdown\n",
    "~~~\n",
    "    def __add__(self, other):\n",
    "        pounds = self.data[0] + other.data[0]\n",
    "        shillings = self.data[1] + other.data[1]\n",
    "        pence = self.data[2] + other.data[2]\n",
    "\n",
    "        pounds, shillings, pence = reduce(pounds, shillings, pence)\n",
    "        return GBP(pounds, shillings, pence)\n",
    "~~~\n",
    "```"
   ]
  },
  {
   "cell_type": "markdown",
   "id": "85c7dd16",
   "metadata": {
    "deletable": false,
    "editable": false,
    "nbgrader": {
     "cell_type": "markdown",
     "checksum": "3e93cff7e895786422be8dfc1d9ac063",
     "grade": false,
     "grade_id": "cell-7e5bcaef734b1fce",
     "locked": true,
     "schema_version": 3,
     "solution": false,
     "task": false
    }
   },
   "source": [
    "**8**. Define a special method for equality so that two GBP wallets are considered equal if the total amount is the same"
   ]
  },
  {
   "cell_type": "code",
   "execution_count": 19,
   "id": "e6b09591",
   "metadata": {
    "deletable": false,
    "editable": false,
    "nbgrader": {
     "cell_type": "code",
     "checksum": "cc51c08c7a1279c74df2f5674062c8cb",
     "grade": true,
     "grade_id": "cell-8bbdd29edf430714",
     "locked": true,
     "points": 1,
     "schema_version": 3,
     "solution": false,
     "task": false
    }
   },
   "outputs": [],
   "source": [
    "assert GBP(1, 0, 0) == GBP(0, 20, 0)\n",
    "assert GBP(0, 1, 0) == GBP(0, 0, 12)"
   ]
  },
  {
   "cell_type": "markdown",
   "id": "c7cd4271-9203-4620-b59f-a52c800aa5da",
   "metadata": {},
   "source": [
    "```{admonition} Solution\n",
    ":class: dropdown\n",
    "~~~\n",
    "    def __eq__(self, other):\n",
    "        breakpoint()\n",
    "        return (to_pence(*self.data) == to_pence(*other.data))\n",
    "~~~\n",
    "```"
   ]
  },
  {
   "cell_type": "markdown",
   "id": "9c82fa01",
   "metadata": {},
   "source": [
    "## Part 3"
   ]
  },
  {
   "cell_type": "markdown",
   "id": "49674a3d",
   "metadata": {
    "deletable": false,
    "editable": false,
    "nbgrader": {
     "cell_type": "markdown",
     "checksum": "c770fbf0ec5df7e8770fbc9e6358571a",
     "grade": false,
     "grade_id": "cell-c20f66bd03d8f671",
     "locked": true,
     "schema_version": 3,
     "solution": false,
     "task": false
    }
   },
   "source": [
    "**9**. How can the class be updated so that the following unpacking of notes and coins is possible"
   ]
  },
  {
   "cell_type": "code",
   "execution_count": 20,
   "id": "5e01e402",
   "metadata": {
    "deletable": false,
    "editable": false,
    "nbgrader": {
     "cell_type": "code",
     "checksum": "e097f77d552fdb78e1a404952e925a9c",
     "grade": true,
     "grade_id": "cell-9446da304b119776",
     "locked": true,
     "points": 1,
     "schema_version": 3,
     "solution": false,
     "task": false
    }
   },
   "outputs": [],
   "source": [
    "pounds, shillings, pence = GBP(1, 2, 3)\n",
    "assert pounds == 1\n",
    "assert shillings == 2\n",
    "assert pence == 3"
   ]
  },
  {
   "cell_type": "markdown",
   "id": "e41b44ab-78b0-4a88-b51d-cb36ccd4b78e",
   "metadata": {},
   "source": [
    "```{admonition} Solution\n",
    ":class: dropdown\n",
    "~~~\n",
    "    def __iter__(self):\n",
    "        return iter(self.data)\n",
    "~~~\n",
    "```"
   ]
  },
  {
   "cell_type": "markdown",
   "id": "3ff455ca",
   "metadata": {
    "deletable": false,
    "editable": false,
    "nbgrader": {
     "cell_type": "markdown",
     "checksum": "adc4b07acf3412903d3d1cb9b5a89e6e",
     "grade": false,
     "grade_id": "cell-3a04575faae33740",
     "locked": true,
     "schema_version": 3,
     "solution": false,
     "task": false
    }
   },
   "source": [
    "**10**. Assume that we have no tolerance for debt, and that the total amount always of a GBP object always has to be positive. We can define an exception if an amount is negative"
   ]
  },
  {
   "cell_type": "markdown",
   "id": "da225350-386d-42b1-b740-56acac5279a8",
   "metadata": {},
   "source": [
    "~~~\n",
    "class NegativePounds(Exception):\n",
    "    pass\n",
    "~~~"
   ]
  },
  {
   "cell_type": "markdown",
   "id": "ea3a2b14",
   "metadata": {},
   "source": [
    "Make sure that it is raised when an amount is negative, example\n",
    "\n",
    "    >>> GPB(-1, 0, 0)\n",
    "    ---------------------------------------------------------------------------\n",
    "    NegativePounds                            Traceback (most recent call last)\n",
    "    Input In [128], in <cell line: 1>()\n",
    "    ----> 1 raise NegativePounds()\n",
    "\n",
    "    NegativePounds: \n"
   ]
  },
  {
   "cell_type": "code",
   "execution_count": 16,
   "id": "0cdbe833",
   "metadata": {
    "deletable": false,
    "editable": false,
    "nbgrader": {
     "cell_type": "code",
     "checksum": "96f15cb97f903d43d0ec54a0b8a7f24d",
     "grade": true,
     "grade_id": "cell-208656121e241b1f",
     "locked": true,
     "points": 1,
     "schema_version": 3,
     "solution": false,
     "task": false
    }
   },
   "outputs": [],
   "source": [
    "from solutions import NegativePounds\n",
    "assert GBP(1, -19, 0) == GBP(0, 1, 0) # This is fine\n",
    "\n",
    "import pytest\n",
    "with pytest.raises(NegativePounds):\n",
    "    GBP(1, -21, 0) # Not fine"
   ]
  },
  {
   "cell_type": "markdown",
   "id": "26625e27-f55c-490d-ae69-447719ad5241",
   "metadata": {},
   "source": [
    "```{admonition} Solution\n",
    ":class: dropdown\n",
    "~~~\n",
    "    def __init__(self, pounds, shillings, pence):\n",
    "        if to_pence(pounds, shillings, pence) < 0:\n",
    "            raise NegativePounds\n",
    "        ...\n",
    "~~~\n",
    "```"
   ]
  },
  {
   "cell_type": "markdown",
   "id": "576afd60",
   "metadata": {
    "deletable": false,
    "editable": false,
    "nbgrader": {
     "cell_type": "markdown",
     "checksum": "d61f943fd9a3dabc7004b7348d161cba",
     "grade": false,
     "grade_id": "cell-63afd67f619b03f2",
     "locked": true,
     "schema_version": 3,
     "solution": false,
     "task": false
    }
   },
   "source": [
    "**11**. Update the class so that sorting of wallets is possible. Hint: look at the error message you may initially get"
   ]
  },
  {
   "cell_type": "code",
   "execution_count": 21,
   "id": "d1113f14",
   "metadata": {
    "deletable": false,
    "editable": false,
    "nbgrader": {
     "cell_type": "code",
     "checksum": "23db5c5fc96c7e2b5db802d2e49f154c",
     "grade": true,
     "grade_id": "cell-73dadfe68c51c42c",
     "locked": true,
     "points": 1,
     "schema_version": 3,
     "solution": false,
     "task": false
    }
   },
   "outputs": [],
   "source": [
    "w1 = GBP(1, 0, 0)\n",
    "w2 = GBP(1, 0, 1)\n",
    "\n",
    "assert sorted([w2, w1]) == [w1, w2]"
   ]
  },
  {
   "cell_type": "markdown",
   "id": "8c6f27a0-6b8a-423f-846f-6bc734db83f6",
   "metadata": {},
   "source": [
    "```{admonition} Solution\n",
    ":class: dropdown\n",
    "The error you get will contain a messege that ends with\n",
    "~~~\n",
    "TypeError: '<' not supported between instances \n",
    "~~~\n",
    "So sorted method requires that ordering can be defined through the `<` operator.\n",
    "We implement that with the `__lt__` method\n",
    "~~~\n",
    "    def __lt__(self, other):\n",
    "        \"\"\"\n",
    "        Special method that implements smaller than\n",
    "\n",
    "        >>> self < other\n",
    "        True #or False\n",
    "        \"\"\"\n",
    "        return to_pence(*self.data) < to_pence(*other.data)\n",
    "\n",
    "~~~\n",
    "```"
   ]
  },
  {
   "cell_type": "markdown",
   "id": "d73556d0",
   "metadata": {},
   "source": [
    "**12**. Implement also the following inequality"
   ]
  },
  {
   "cell_type": "code",
   "execution_count": 18,
   "id": "19963be8",
   "metadata": {
    "deletable": false,
    "editable": false,
    "nbgrader": {
     "cell_type": "code",
     "checksum": "1eb3ae1d1c76e068eb594812b75b2416",
     "grade": true,
     "grade_id": "cell-25ff2540ec6badbe",
     "locked": true,
     "points": 1,
     "schema_version": 3,
     "solution": false,
     "task": false
    }
   },
   "outputs": [],
   "source": [
    "assert w1 <= w2"
   ]
  },
  {
   "cell_type": "markdown",
   "id": "43464f87-54f9-4907-bacc-6ed44601e807",
   "metadata": {},
   "source": [
    "```{admonition}\n",
    ":class: dropdown\n",
    "Lower than or equal (<=) is implemented by the `__le__` method\n",
    "~~~\n",
    "    def __le__(self, other):\n",
    "        return to_pence(*self.data) < to_pence(*other.data)\n",
    "\n",
    "~~~\n",
    "```"
   ]
  }
 ],
 "metadata": {
  "kernelspec": {
   "display_name": "Python 3 (ipykernel)",
   "language": "python",
   "name": "python3"
  },
  "language_info": {
   "codemirror_mode": {
    "name": "ipython",
    "version": 3
   },
   "file_extension": ".py",
   "mimetype": "text/x-python",
   "name": "python",
   "nbconvert_exporter": "python",
   "pygments_lexer": "ipython3",
   "version": "3.12.1"
  }
 },
 "nbformat": 4,
 "nbformat_minor": 5
}
